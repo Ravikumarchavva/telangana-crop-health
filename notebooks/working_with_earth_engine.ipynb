{
 "cells": [
  {
   "cell_type": "code",
   "execution_count": 1,
   "metadata": {},
   "outputs": [
    {
     "data": {
      "text/html": [
       "<div><style>\n",
       ".dataframe > thead > tr,\n",
       ".dataframe > tbody > tr {\n",
       "  text-align: right;\n",
       "  white-space: pre-wrap;\n",
       "}\n",
       "</style>\n",
       "<small>shape: (5, 21)</small><table border=\"1\" class=\"dataframe\"><thead><tr><th>FarmID</th><th>category</th><th>Crop</th><th>State</th><th>District</th><th>Sub-District</th><th>SDate</th><th>HDate</th><th>CropCoveredArea</th><th>CHeight</th><th>CNext</th><th>CLast</th><th>CTransp</th><th>IrriType</th><th>IrriSource</th><th>IrriCount</th><th>WaterCov</th><th>ExpYield</th><th>Season</th><th>geometry</th><th>tif_path</th></tr><tr><td>i64</td><td>str</td><td>str</td><td>str</td><td>str</td><td>str</td><td>str</td><td>str</td><td>i64</td><td>i64</td><td>str</td><td>str</td><td>str</td><td>str</td><td>str</td><td>i64</td><td>i64</td><td>i64</td><td>str</td><td>str</td><td>str</td></tr></thead><tbody><tr><td>1326576</td><td>&quot;Healthy&quot;</td><td>&quot;Paddy&quot;</td><td>&quot;Telangana&quot;</td><td>&quot;Medak&quot;</td><td>&quot;Kulcharam&quot;</td><td>&quot;2023-11-25 0:00:00&quot;</td><td>&quot;2024-04-14 0:00:00&quot;</td><td>97</td><td>54</td><td>&quot;Pea&quot;</td><td>&quot;Lentil&quot;</td><td>&quot;Transplanting&quot;</td><td>&quot;Flood&quot;</td><td>&quot;Groundwater&quot;</td><td>4</td><td>87</td><td>17</td><td>&quot;Rabi&quot;</td><td>&quot;POLYGON ((78.18079255482755 17…</td><td>&quot;downloads/20240412T050649_2024…</td></tr><tr><td>1326577</td><td>&quot;Healthy&quot;</td><td>&quot;Paddy&quot;</td><td>&quot;Telangana&quot;</td><td>&quot;Medak&quot;</td><td>&quot;Kulcharam&quot;</td><td>&quot;2023-11-13 0:00:00&quot;</td><td>&quot;2024-04-26 0:00:00&quot;</td><td>82</td><td>58</td><td>&quot;Pea&quot;</td><td>&quot;Lentil&quot;</td><td>&quot;Transplanting&quot;</td><td>&quot;Flood&quot;</td><td>&quot;Canal&quot;</td><td>5</td><td>94</td><td>15</td><td>&quot;Rabi&quot;</td><td>&quot;POLYGON ((78.17483419891283 17…</td><td>&quot;downloads/20240425T051649_2024…</td></tr><tr><td>1326578</td><td>&quot;Healthy&quot;</td><td>&quot;Paddy&quot;</td><td>&quot;Telangana&quot;</td><td>&quot;Medak&quot;</td><td>&quot;Kulcharam&quot;</td><td>&quot;2023-12-19 0:00:00&quot;</td><td>&quot;2024-04-28 0:00:00&quot;</td><td>92</td><td>91</td><td>&quot;Pea&quot;</td><td>&quot;Lentil&quot;</td><td>&quot;Transplanting&quot;</td><td>&quot;Flood&quot;</td><td>&quot;Canal&quot;</td><td>3</td><td>99</td><td>20</td><td>&quot;Rabi&quot;</td><td>&quot;POLYGON ((78.16888476438905 17…</td><td>&quot;downloads/20240427T050651_2024…</td></tr><tr><td>1331836</td><td>&quot;Diseased&quot;</td><td>&quot;Paddy&quot;</td><td>&quot;Telangana&quot;</td><td>&quot;Medak&quot;</td><td>&quot;Kulcharam&quot;</td><td>&quot;2023-02-11 0:00:00&quot;</td><td>&quot;2024-11-04 0:00:00&quot;</td><td>91</td><td>52</td><td>&quot;Pea&quot;</td><td>&quot;Lentil&quot;</td><td>&quot;Transplanting&quot;</td><td>&quot;Flood&quot;</td><td>&quot;Canal&quot;</td><td>5</td><td>92</td><td>16</td><td>&quot;Rabi&quot;</td><td>&quot;POLYGON ((78.16821795882959 17…</td><td>&quot;downloads/20241103T050951_2024…</td></tr><tr><td>1326579</td><td>&quot;Diseased&quot;</td><td>&quot;Paddy&quot;</td><td>&quot;Telangana&quot;</td><td>&quot;Medak&quot;</td><td>&quot;Kulcharam&quot;</td><td>&quot;2023-12-12 0:00:00&quot;</td><td>&quot;2024-05-19 0:00:00&quot;</td><td>94</td><td>55</td><td>&quot;Pea&quot;</td><td>&quot;Lentil&quot;</td><td>&quot;Transplanting&quot;</td><td>&quot;Flood&quot;</td><td>&quot;Canal&quot;</td><td>5</td><td>97</td><td>20</td><td>&quot;Rabi&quot;</td><td>&quot;POLYGON ((78.17244459940454 17…</td><td>&quot;downloads/20240517T050651_2024…</td></tr></tbody></table></div>"
      ],
      "text/plain": [
       "shape: (5, 21)\n",
       "┌─────────┬──────────┬───────┬───────────┬───┬──────────┬────────┬────────────────┬────────────────┐\n",
       "│ FarmID  ┆ category ┆ Crop  ┆ State     ┆ … ┆ ExpYield ┆ Season ┆ geometry       ┆ tif_path       │\n",
       "│ ---     ┆ ---      ┆ ---   ┆ ---       ┆   ┆ ---      ┆ ---    ┆ ---            ┆ ---            │\n",
       "│ i64     ┆ str      ┆ str   ┆ str       ┆   ┆ i64      ┆ str    ┆ str            ┆ str            │\n",
       "╞═════════╪══════════╪═══════╪═══════════╪═══╪══════════╪════════╪════════════════╪════════════════╡\n",
       "│ 1326576 ┆ Healthy  ┆ Paddy ┆ Telangana ┆ … ┆ 17       ┆ Rabi   ┆ POLYGON ((78.1 ┆ downloads/2024 │\n",
       "│         ┆          ┆       ┆           ┆   ┆          ┆        ┆ 8079255482755  ┆ 0412T050649_20 │\n",
       "│         ┆          ┆       ┆           ┆   ┆          ┆        ┆ 17…            ┆ 24…            │\n",
       "│ 1326577 ┆ Healthy  ┆ Paddy ┆ Telangana ┆ … ┆ 15       ┆ Rabi   ┆ POLYGON ((78.1 ┆ downloads/2024 │\n",
       "│         ┆          ┆       ┆           ┆   ┆          ┆        ┆ 7483419891283  ┆ 0425T051649_20 │\n",
       "│         ┆          ┆       ┆           ┆   ┆          ┆        ┆ 17…            ┆ 24…            │\n",
       "│ 1326578 ┆ Healthy  ┆ Paddy ┆ Telangana ┆ … ┆ 20       ┆ Rabi   ┆ POLYGON ((78.1 ┆ downloads/2024 │\n",
       "│         ┆          ┆       ┆           ┆   ┆          ┆        ┆ 6888476438905  ┆ 0427T050651_20 │\n",
       "│         ┆          ┆       ┆           ┆   ┆          ┆        ┆ 17…            ┆ 24…            │\n",
       "│ 1331836 ┆ Diseased ┆ Paddy ┆ Telangana ┆ … ┆ 16       ┆ Rabi   ┆ POLYGON ((78.1 ┆ downloads/2024 │\n",
       "│         ┆          ┆       ┆           ┆   ┆          ┆        ┆ 6821795882959  ┆ 1103T050951_20 │\n",
       "│         ┆          ┆       ┆           ┆   ┆          ┆        ┆ 17…            ┆ 24…            │\n",
       "│ 1326579 ┆ Diseased ┆ Paddy ┆ Telangana ┆ … ┆ 20       ┆ Rabi   ┆ POLYGON ((78.1 ┆ downloads/2024 │\n",
       "│         ┆          ┆       ┆           ┆   ┆          ┆        ┆ 7244459940454  ┆ 0517T050651_20 │\n",
       "│         ┆          ┆       ┆           ┆   ┆          ┆        ┆ 17…            ┆ 24…            │\n",
       "└─────────┴──────────┴───────┴───────────┴───┴──────────┴────────┴────────────────┴────────────────┘"
      ]
     },
     "execution_count": 1,
     "metadata": {},
     "output_type": "execute_result"
    }
   ],
   "source": [
    "import polars as pl\n",
    "\n",
    "train_data = pl.read_csv(\"./train.csv\", has_header=True)\n",
    "test_data = pl.read_csv(\"./test.csv\", has_header=True)\n",
    "train_data.head()"
   ]
  },
  {
   "cell_type": "code",
   "execution_count": 2,
   "metadata": {},
   "outputs": [],
   "source": [
    "train_data = train_data.drop(\"State\")\n",
    "test_data = test_data.drop(\"State\")\n",
    "train_data = train_data.with_columns(pl.col(\"category\").alias(\"Target\")).drop(\"category\")\n",
    "test_data = test_data.with_columns(pl.col(\"category\").alias(\"Target\")).drop(\"category\")"
   ]
  },
  {
   "cell_type": "code",
   "execution_count": 3,
   "metadata": {},
   "outputs": [
    {
     "data": {
      "text/html": [
       "<div><style>\n",
       ".dataframe > thead > tr,\n",
       ".dataframe > tbody > tr {\n",
       "  text-align: right;\n",
       "  white-space: pre-wrap;\n",
       "}\n",
       "</style>\n",
       "<small>shape: (5, 16)</small><table border=\"1\" class=\"dataframe\"><thead><tr><th>SDate</th><th>HDate</th><th>CropCoveredArea</th><th>CHeight</th><th>CNext</th><th>CLast</th><th>CTransp</th><th>IrriType</th><th>IrriSource</th><th>IrriCount</th><th>WaterCov</th><th>ExpYield</th><th>Season</th><th>geometry</th><th>tif_path</th><th>Target</th></tr><tr><td>date</td><td>date</td><td>i64</td><td>i64</td><td>str</td><td>str</td><td>str</td><td>str</td><td>str</td><td>i64</td><td>i64</td><td>i64</td><td>str</td><td>str</td><td>str</td><td>str</td></tr></thead><tbody><tr><td>2023-11-25</td><td>2024-04-14</td><td>97</td><td>54</td><td>&quot;Pea&quot;</td><td>&quot;Lentil&quot;</td><td>&quot;Transplanting&quot;</td><td>&quot;Flood&quot;</td><td>&quot;Groundwater&quot;</td><td>4</td><td>87</td><td>17</td><td>&quot;Rabi&quot;</td><td>&quot;POLYGON ((78.18079255482755 17…</td><td>&quot;downloads/20240412T050649_2024…</td><td>&quot;Healthy&quot;</td></tr><tr><td>2023-11-13</td><td>2024-04-26</td><td>82</td><td>58</td><td>&quot;Pea&quot;</td><td>&quot;Lentil&quot;</td><td>&quot;Transplanting&quot;</td><td>&quot;Flood&quot;</td><td>&quot;Canal&quot;</td><td>5</td><td>94</td><td>15</td><td>&quot;Rabi&quot;</td><td>&quot;POLYGON ((78.17483419891283 17…</td><td>&quot;downloads/20240425T051649_2024…</td><td>&quot;Healthy&quot;</td></tr><tr><td>2023-12-19</td><td>2024-04-28</td><td>92</td><td>91</td><td>&quot;Pea&quot;</td><td>&quot;Lentil&quot;</td><td>&quot;Transplanting&quot;</td><td>&quot;Flood&quot;</td><td>&quot;Canal&quot;</td><td>3</td><td>99</td><td>20</td><td>&quot;Rabi&quot;</td><td>&quot;POLYGON ((78.16888476438905 17…</td><td>&quot;downloads/20240427T050651_2024…</td><td>&quot;Healthy&quot;</td></tr><tr><td>2023-02-11</td><td>2024-11-04</td><td>91</td><td>52</td><td>&quot;Pea&quot;</td><td>&quot;Lentil&quot;</td><td>&quot;Transplanting&quot;</td><td>&quot;Flood&quot;</td><td>&quot;Canal&quot;</td><td>5</td><td>92</td><td>16</td><td>&quot;Rabi&quot;</td><td>&quot;POLYGON ((78.16821795882959 17…</td><td>&quot;downloads/20241103T050951_2024…</td><td>&quot;Diseased&quot;</td></tr><tr><td>2023-12-12</td><td>2024-05-19</td><td>94</td><td>55</td><td>&quot;Pea&quot;</td><td>&quot;Lentil&quot;</td><td>&quot;Transplanting&quot;</td><td>&quot;Flood&quot;</td><td>&quot;Canal&quot;</td><td>5</td><td>97</td><td>20</td><td>&quot;Rabi&quot;</td><td>&quot;POLYGON ((78.17244459940454 17…</td><td>&quot;downloads/20240517T050651_2024…</td><td>&quot;Diseased&quot;</td></tr></tbody></table></div>"
      ],
      "text/plain": [
       "shape: (5, 16)\n",
       "┌────────────┬────────────┬────────────┬─────────┬───┬────────┬────────────┬────────────┬──────────┐\n",
       "│ SDate      ┆ HDate      ┆ CropCovere ┆ CHeight ┆ … ┆ Season ┆ geometry   ┆ tif_path   ┆ Target   │\n",
       "│ ---        ┆ ---        ┆ dArea      ┆ ---     ┆   ┆ ---    ┆ ---        ┆ ---        ┆ ---      │\n",
       "│ date       ┆ date       ┆ ---        ┆ i64     ┆   ┆ str    ┆ str        ┆ str        ┆ str      │\n",
       "│            ┆            ┆ i64        ┆         ┆   ┆        ┆            ┆            ┆          │\n",
       "╞════════════╪════════════╪════════════╪═════════╪═══╪════════╪════════════╪════════════╪══════════╡\n",
       "│ 2023-11-25 ┆ 2024-04-14 ┆ 97         ┆ 54      ┆ … ┆ Rabi   ┆ POLYGON    ┆ downloads/ ┆ Healthy  │\n",
       "│            ┆            ┆            ┆         ┆   ┆        ┆ ((78.18079 ┆ 20240412T0 ┆          │\n",
       "│            ┆            ┆            ┆         ┆   ┆        ┆ 255482755  ┆ 50649_2024 ┆          │\n",
       "│            ┆            ┆            ┆         ┆   ┆        ┆ 17…        ┆ …          ┆          │\n",
       "│ 2023-11-13 ┆ 2024-04-26 ┆ 82         ┆ 58      ┆ … ┆ Rabi   ┆ POLYGON    ┆ downloads/ ┆ Healthy  │\n",
       "│            ┆            ┆            ┆         ┆   ┆        ┆ ((78.17483 ┆ 20240425T0 ┆          │\n",
       "│            ┆            ┆            ┆         ┆   ┆        ┆ 419891283  ┆ 51649_2024 ┆          │\n",
       "│            ┆            ┆            ┆         ┆   ┆        ┆ 17…        ┆ …          ┆          │\n",
       "│ 2023-12-19 ┆ 2024-04-28 ┆ 92         ┆ 91      ┆ … ┆ Rabi   ┆ POLYGON    ┆ downloads/ ┆ Healthy  │\n",
       "│            ┆            ┆            ┆         ┆   ┆        ┆ ((78.16888 ┆ 20240427T0 ┆          │\n",
       "│            ┆            ┆            ┆         ┆   ┆        ┆ 476438905  ┆ 50651_2024 ┆          │\n",
       "│            ┆            ┆            ┆         ┆   ┆        ┆ 17…        ┆ …          ┆          │\n",
       "│ 2023-02-11 ┆ 2024-11-04 ┆ 91         ┆ 52      ┆ … ┆ Rabi   ┆ POLYGON    ┆ downloads/ ┆ Diseased │\n",
       "│            ┆            ┆            ┆         ┆   ┆        ┆ ((78.16821 ┆ 20241103T0 ┆          │\n",
       "│            ┆            ┆            ┆         ┆   ┆        ┆ 795882959  ┆ 50951_2024 ┆          │\n",
       "│            ┆            ┆            ┆         ┆   ┆        ┆ 17…        ┆ …          ┆          │\n",
       "│ 2023-12-12 ┆ 2024-05-19 ┆ 94         ┆ 55      ┆ … ┆ Rabi   ┆ POLYGON    ┆ downloads/ ┆ Diseased │\n",
       "│            ┆            ┆            ┆         ┆   ┆        ┆ ((78.17244 ┆ 20240517T0 ┆          │\n",
       "│            ┆            ┆            ┆         ┆   ┆        ┆ 459940454  ┆ 50651_2024 ┆          │\n",
       "│            ┆            ┆            ┆         ┆   ┆        ┆ 17…        ┆ …          ┆          │\n",
       "└────────────┴────────────┴────────────┴─────────┴───┴────────┴────────────┴────────────┴──────────┘"
      ]
     },
     "execution_count": 3,
     "metadata": {},
     "output_type": "execute_result"
    }
   ],
   "source": [
    "train_data = train_data.with_columns(pl.col(\"SDate\").str.to_date(\"%Y-%m-%d %H:%M:%S\").alias(\"SDate\"))\n",
    "train_data = train_data.with_columns(pl.col(\"HDate\").str.to_date(\"%Y-%m-%d %H:%M:%S\").alias(\"HDate\"))\n",
    "\n",
    "test_data = test_data.with_columns(pl.col(\"SDate\").str.to_date(\"%Y-%m-%d %H:%M:%S\").alias(\"SDate\"))\n",
    "test_data = test_data.with_columns(pl.col(\"HDate\").str.to_date(\"%Y-%m-%d %H:%M:%S\").alias(\"HDate\"))\n",
    "train_data.drop(\"FarmID\", \"Crop\", \"District\", \"Sub-District\").head()"
   ]
  },
  {
   "cell_type": "code",
   "execution_count": 4,
   "metadata": {},
   "outputs": [],
   "source": [
    "import numpy as np\n",
    "import matplotlib.pyplot as plt\n",
    "import rasterio\n",
    "from rasterio.plot import show\n",
    "from skimage import exposure\n",
    "\n",
    "# Function to scale pixel values to the 0–255 range for better visualization\n",
    "def scale_band(band):\n",
    "    \"\"\"\n",
    "    Scales pixel values of a single band to the 0-255 range.\n",
    "\n",
    "    Parameters:\n",
    "    - band: np.array, pixel values of the band\n",
    "\n",
    "    Returns:\n",
    "    - np.array, scaled pixel values in the 0-255 range\n",
    "    \"\"\"\n",
    "    band = band.astype(np.float32)  # Ensure values are in float for scaling\n",
    "    return 255 * (band - np.min(band)) / (np.max(band) - np.min(band))  # Scale to 0–255\n",
    "\n",
    "# Function to visualize RGB image with scaling, contrast adjustments, and optional gamma correction\n",
    "def visualize_rgb_image(file_path, gamma=0.6, contrast_stretch=True):\n",
    "    \"\"\"\n",
    "    Visualize an RGB image using matplotlib with scaling, optional gamma correction, and contrast stretching.\n",
    "\n",
    "    Parameters:\n",
    "    - file_path: str, path to the RGB image file (GeoTIFF)\n",
    "    - gamma: float, gamma correction factor (default=0.6)\n",
    "    - contrast_stretch: bool, whether to apply contrast stretching (default=True)\n",
    "    \"\"\"\n",
    "    # Open the image file\n",
    "    with rasterio.open(file_path) as src:\n",
    "        # Read RGB bands (assuming Sentinel-2 band order: Red=B4, Green=B3, Blue=B2)\n",
    "        red = src.read(3)  # Band 4 for Red\n",
    "        green = src.read(2)  # Band 3 for Green\n",
    "        blue = src.read(1)  # Band 2 for Blue\n",
    "\n",
    "        # Scale each band to the 0–255 range for better visualization\n",
    "        red_scaled = scale_band(red)\n",
    "        green_scaled = scale_band(green)\n",
    "        blue_scaled = scale_band(blue)\n",
    "\n",
    "        # Stack the scaled RGB bands into a single image\n",
    "        rgb = np.dstack((red_scaled, green_scaled, blue_scaled)).astype(np.uint8)\n",
    "\n",
    "        # Apply contrast stretching if specified\n",
    "        if contrast_stretch:\n",
    "            p2, p98 = np.percentile(rgb, (2, 98))  # Calculate 2nd and 98th percentiles for stretching\n",
    "            rgb = exposure.rescale_intensity(rgb, in_range=(p2, p98))\n",
    "\n",
    "        # Apply gamma correction to adjust brightness\n",
    "        rgb = exposure.adjust_gamma(rgb, gamma=gamma)\n",
    "\n",
    "        # Display the processed image using matplotlib\n",
    "        plt.figure(figsize=(5, 5))\n",
    "        plt.imshow(rgb)\n",
    "        plt.axis('off')  # Hide axes for a cleaner look\n",
    "        plt.title(\"RGB Composite (Red-Green-Blue) with Scaling, Contrast Stretch, and Gamma Correction\")\n",
    "        plt.show()\n",
    "\n",
    "    return rgb"
   ]
  },
  {
   "cell_type": "code",
   "execution_count": 5,
   "metadata": {},
   "outputs": [],
   "source": [
    "# Example feature calculation functions\n",
    "def calculate_ndvi(nir_band, red_band):\n",
    "    \"\"\"Calculate NDVI (Normalized Difference Vegetation Index).\"\"\"\n",
    "    ndvi = (nir_band - red_band) / (nir_band + red_band)\n",
    "    return np.nanmean(ndvi)\n",
    "\n",
    "def calculate_evi(nir_band, red_band, blue_band):\n",
    "    \"\"\"Calculate EVI (Enhanced Vegetation Index).\"\"\"\n",
    "    evi = 2.5 * (nir_band - red_band) / (nir_band + 6 * red_band - 7.5 * blue_band + 1)\n",
    "    return np.nanmean(evi)\n",
    "\n",
    "def calculate_ndwi(nir_band, green_band):\n",
    "    \"\"\"Calculate NDWI (Normalized Difference Water Index).\"\"\"\n",
    "    ndwi = (green_band - nir_band) / (green_band + nir_band)\n",
    "    return np.nanmean(ndwi)\n",
    "\n",
    "def calculate_gndvi(nir_band, green_band):\n",
    "    \"\"\"Calculate GNDVI (Green Normalized Difference Vegetation Index).\"\"\"\n",
    "    gndvi = (nir_band - green_band) / (nir_band + green_band)\n",
    "    return np.nanmean(gndvi)\n",
    "\n",
    "def calculate_savi(nir_band, red_band, L=0.5):\n",
    "    \"\"\"Calculate SAVI (Soil Adjusted Vegetation Index).\"\"\"\n",
    "    savi = ((nir_band - red_band) / (nir_band + red_band + L)) * (1 + L)\n",
    "    return np.nanmean(savi)\n",
    "\n",
    "def calculate_msavi(nir_band, red_band):\n",
    "    \"\"\"Calculate MSAVI (Modified Soil Adjusted Vegetation Index).\"\"\"\n",
    "    msavi = (2 * nir_band + 1 - np.sqrt((2 * nir_band + 1)**2 - 8 * (nir_band - red_band))) / 2\n",
    "    return np.nanmean(msavi)"
   ]
  },
  {
   "cell_type": "code",
   "execution_count": 6,
   "metadata": {},
   "outputs": [
    {
     "name": "stderr",
     "output_type": "stream",
     "text": [
      "100%|██████████| 7888/7888 [00:20<00:00, 385.18it/s]\n",
      "100%|██████████| 2718/2718 [00:06<00:00, 424.93it/s]\n"
     ]
    }
   ],
   "source": [
    "import os\n",
    "import sys\n",
    "sys.path.append('../')\n",
    "from my_configs.configs import Config\n",
    "\n",
    "# Function to calculate features for each row in the data\n",
    "def process_row_for_features(index, row):\n",
    "    features = {'index': index}\n",
    "    print(f\"Processing row {index}...\")\n",
    "\n",
    "    # Retrieve and validate the TIFF file path\n",
    "    tif_path = row.get('tif_path')\n",
    "    if not isinstance(tif_path, str) or not os.path.exists(os.path.join(Config.ROOT_PATH, tif_path)):\n",
    "        print(f\"Skipping entry due to missing or invalid tif_path for index {index}\")\n",
    "        features.update({\n",
    "            'ndvi': np.nan, 'evi': np.nan, 'ndwi': np.nan,\n",
    "            'gndvi': np.nan, 'savi': np.nan, 'msavi': np.nan\n",
    "        })\n",
    "        return features\n",
    "\n",
    "    # Rest of the processing remains unchanged\n",
    "    try:\n",
    "        with rasterio.open(os.path.join(Config.ROOT_PATH, tif_path)) as src:\n",
    "            red = src.read(3)\n",
    "            green = src.read(2)\n",
    "            blue = src.read(1)\n",
    "            nir = src.read(4)\n",
    "\n",
    "            features['ndvi'] = calculate_ndvi(nir, red)\n",
    "            features['evi'] = calculate_evi(nir, red, blue)\n",
    "            features['ndwi'] = calculate_ndwi(nir, green)\n",
    "            features['gndvi'] = calculate_gndvi(nir, green)\n",
    "            features['savi'] = calculate_savi(nir, red)\n",
    "            features['msavi'] = calculate_msavi(nir, red)\n",
    "    except Exception as e:\n",
    "        print(f\"Error processing {tif_path}: {e}\")\n",
    "        features.update({'ndvi': np.nan, 'evi': np.nan, 'ndwi': np.nan,\n",
    "                         'gndvi': np.nan, 'savi': np.nan, 'msavi': np.nan})\n",
    "    return features\n",
    "\n",
    "# Use parallel processing to calculate features for each row\n",
    "# `tqdm` provides a progress bar to track completion\n",
    "from joblib import Parallel, delayed\n",
    "from tqdm import tqdm\n",
    "\n",
    "train_new_features = Parallel(n_jobs=-1)(delayed(process_row_for_features)(index, row)\n",
    "                                   for index, row in tqdm(train_data.to_pandas().iterrows(), total=len(train_data)))\n",
    "test_new_features = Parallel(n_jobs=-1)(delayed(process_row_for_features)(index, row)\n",
    "                                    for index, row in tqdm(test_data.to_pandas().iterrows(), total=len(test_data)))"
   ]
  },
  {
   "cell_type": "code",
   "execution_count": 7,
   "metadata": {},
   "outputs": [],
   "source": [
    "import pandas as pd\n",
    "train_new_features_df = pd.DataFrame(train_new_features).to_csv(\"train_new_features.csv\", index=False)\n",
    "test_new_features_df = pd.DataFrame(test_new_features).to_csv(\"test_new_features.csv\",index=False)"
   ]
  },
  {
   "cell_type": "code",
   "execution_count": 8,
   "metadata": {},
   "outputs": [
    {
     "data": {
      "text/html": [
       "<div><style>\n",
       ".dataframe > thead > tr,\n",
       ".dataframe > tbody > tr {\n",
       "  text-align: right;\n",
       "  white-space: pre-wrap;\n",
       "}\n",
       "</style>\n",
       "<small>shape: (9, 7)</small><table border=\"1\" class=\"dataframe\"><thead><tr><th>statistic</th><th>ndvi</th><th>evi</th><th>ndwi</th><th>gndvi</th><th>savi</th><th>msavi</th></tr><tr><td>str</td><td>f64</td><td>f64</td><td>f64</td><td>f64</td><td>f64</td><td>f64</td></tr></thead><tbody><tr><td>&quot;count&quot;</td><td>7463.0</td><td>7472.0</td><td>7463.0</td><td>7463.0</td><td>7472.0</td><td>7472.0</td></tr><tr><td>&quot;null_count&quot;</td><td>425.0</td><td>416.0</td><td>425.0</td><td>425.0</td><td>416.0</td><td>416.0</td></tr><tr><td>&quot;mean&quot;</td><td>0.691944</td><td>inf</td><td>10.231093</td><td>0.290997</td><td>1.027334</td><td>3837.78398</td></tr><tr><td>&quot;std&quot;</td><td>1.674369</td><td>NaN</td><td>2.775101</td><td>0.882227</td><td>2.498257</td><td>1512.270207</td></tr><tr><td>&quot;min&quot;</td><td>0.004725</td><td>-1479.291647</td><td>0.0066</td><td>0.003807</td><td>0.0</td><td>0.0</td></tr><tr><td>&quot;25%&quot;</td><td>0.122154</td><td>-0.964962</td><td>9.441717</td><td>0.101655</td><td>0.180797</td><td>3039.070068</td></tr><tr><td>&quot;50%&quot;</td><td>0.18219</td><td>0.708537</td><td>10.930205</td><td>0.167471</td><td>0.271772</td><td>3451.486328</td></tr><tr><td>&quot;75%&quot;</td><td>0.262071</td><td>3.078382</td><td>11.976568</td><td>0.214791</td><td>0.391348</td><td>3964.207275</td></tr><tr><td>&quot;max&quot;</td><td>18.339667</td><td>inf</td><td>16.823843</td><td>15.752436</td><td>27.505635</td><td>12733.712891</td></tr></tbody></table></div>"
      ],
      "text/plain": [
       "shape: (9, 7)\n",
       "┌────────────┬───────────┬──────────────┬───────────┬───────────┬───────────┬──────────────┐\n",
       "│ statistic  ┆ ndvi      ┆ evi          ┆ ndwi      ┆ gndvi     ┆ savi      ┆ msavi        │\n",
       "│ ---        ┆ ---       ┆ ---          ┆ ---       ┆ ---       ┆ ---       ┆ ---          │\n",
       "│ str        ┆ f64       ┆ f64          ┆ f64       ┆ f64       ┆ f64       ┆ f64          │\n",
       "╞════════════╪═══════════╪══════════════╪═══════════╪═══════════╪═══════════╪══════════════╡\n",
       "│ count      ┆ 7463.0    ┆ 7472.0       ┆ 7463.0    ┆ 7463.0    ┆ 7472.0    ┆ 7472.0       │\n",
       "│ null_count ┆ 425.0     ┆ 416.0        ┆ 425.0     ┆ 425.0     ┆ 416.0     ┆ 416.0        │\n",
       "│ mean       ┆ 0.691944  ┆ inf          ┆ 10.231093 ┆ 0.290997  ┆ 1.027334  ┆ 3837.78398   │\n",
       "│ std        ┆ 1.674369  ┆ NaN          ┆ 2.775101  ┆ 0.882227  ┆ 2.498257  ┆ 1512.270207  │\n",
       "│ min        ┆ 0.004725  ┆ -1479.291647 ┆ 0.0066    ┆ 0.003807  ┆ 0.0       ┆ 0.0          │\n",
       "│ 25%        ┆ 0.122154  ┆ -0.964962    ┆ 9.441717  ┆ 0.101655  ┆ 0.180797  ┆ 3039.070068  │\n",
       "│ 50%        ┆ 0.18219   ┆ 0.708537     ┆ 10.930205 ┆ 0.167471  ┆ 0.271772  ┆ 3451.486328  │\n",
       "│ 75%        ┆ 0.262071  ┆ 3.078382     ┆ 11.976568 ┆ 0.214791  ┆ 0.391348  ┆ 3964.207275  │\n",
       "│ max        ┆ 18.339667 ┆ inf          ┆ 16.823843 ┆ 15.752436 ┆ 27.505635 ┆ 12733.712891 │\n",
       "└────────────┴───────────┴──────────────┴───────────┴───────────┴───────────┴──────────────┘"
      ]
     },
     "execution_count": 8,
     "metadata": {},
     "output_type": "execute_result"
    }
   ],
   "source": [
    "import pandas as pd\n",
    "train_new_features_df = pl.read_csv(\"train_new_features.csv\").drop(\"index\")\n",
    "test_new_features_df = pl.read_csv(\"test_new_features.csv\").drop(\"index\")\n",
    "train_new_features_df.describe()"
   ]
  },
  {
   "cell_type": "code",
   "execution_count": 9,
   "metadata": {},
   "outputs": [
    {
     "data": {
      "text/html": [
       "<div><style>\n",
       ".dataframe > thead > tr,\n",
       ".dataframe > tbody > tr {\n",
       "  text-align: right;\n",
       "  white-space: pre-wrap;\n",
       "}\n",
       "</style>\n",
       "<small>shape: (1, 26)</small><table border=\"1\" class=\"dataframe\"><thead><tr><th>FarmID</th><th>Crop</th><th>District</th><th>Sub-District</th><th>SDate</th><th>HDate</th><th>CropCoveredArea</th><th>CHeight</th><th>CNext</th><th>CLast</th><th>CTransp</th><th>IrriType</th><th>IrriSource</th><th>IrriCount</th><th>WaterCov</th><th>ExpYield</th><th>Season</th><th>geometry</th><th>tif_path</th><th>Target</th><th>ndvi</th><th>evi</th><th>ndwi</th><th>gndvi</th><th>savi</th><th>msavi</th></tr><tr><td>u32</td><td>u32</td><td>u32</td><td>u32</td><td>u32</td><td>u32</td><td>u32</td><td>u32</td><td>u32</td><td>u32</td><td>u32</td><td>u32</td><td>u32</td><td>u32</td><td>u32</td><td>u32</td><td>u32</td><td>u32</td><td>u32</td><td>u32</td><td>u32</td><td>u32</td><td>u32</td><td>u32</td><td>u32</td><td>u32</td></tr></thead><tbody><tr><td>0</td><td>0</td><td>0</td><td>0</td><td>0</td><td>0</td><td>0</td><td>0</td><td>0</td><td>0</td><td>0</td><td>0</td><td>0</td><td>0</td><td>0</td><td>0</td><td>0</td><td>0</td><td>8</td><td>0</td><td>425</td><td>416</td><td>425</td><td>425</td><td>416</td><td>416</td></tr></tbody></table></div>"
      ],
      "text/plain": [
       "shape: (1, 26)\n",
       "┌────────┬──────┬──────────┬──────────────┬───┬──────┬───────┬──────┬───────┐\n",
       "│ FarmID ┆ Crop ┆ District ┆ Sub-District ┆ … ┆ ndwi ┆ gndvi ┆ savi ┆ msavi │\n",
       "│ ---    ┆ ---  ┆ ---      ┆ ---          ┆   ┆ ---  ┆ ---   ┆ ---  ┆ ---   │\n",
       "│ u32    ┆ u32  ┆ u32      ┆ u32          ┆   ┆ u32  ┆ u32   ┆ u32  ┆ u32   │\n",
       "╞════════╪══════╪══════════╪══════════════╪═══╪══════╪═══════╪══════╪═══════╡\n",
       "│ 0      ┆ 0    ┆ 0        ┆ 0            ┆ … ┆ 425  ┆ 425   ┆ 416  ┆ 416   │\n",
       "└────────┴──────┴──────────┴──────────────┴───┴──────┴───────┴──────┴───────┘"
      ]
     },
     "execution_count": 9,
     "metadata": {},
     "output_type": "execute_result"
    }
   ],
   "source": [
    "train_data = train_data.hstack(train_new_features_df)\n",
    "test_data = test_data.hstack(test_new_features_df)\n",
    "train_data.null_count()"
   ]
  },
  {
   "cell_type": "code",
   "execution_count": 10,
   "metadata": {},
   "outputs": [
    {
     "data": {
      "text/html": [
       "<div><style>\n",
       ".dataframe > thead > tr,\n",
       ".dataframe > tbody > tr {\n",
       "  text-align: right;\n",
       "  white-space: pre-wrap;\n",
       "}\n",
       "</style>\n",
       "<small>shape: (1, 21)</small><table border=\"1\" class=\"dataframe\"><thead><tr><th>FarmID</th><th>Crop</th><th>District</th><th>Sub-District</th><th>CropCoveredArea</th><th>CHeight</th><th>CNext</th><th>CLast</th><th>CTransp</th><th>IrriType</th><th>IrriSource</th><th>IrriCount</th><th>WaterCov</th><th>ExpYield</th><th>Season</th><th>Target</th><th>ndvi</th><th>ndwi</th><th>gndvi</th><th>savi</th><th>msavi</th></tr><tr><td>u32</td><td>u32</td><td>u32</td><td>u32</td><td>u32</td><td>u32</td><td>u32</td><td>u32</td><td>u32</td><td>u32</td><td>u32</td><td>u32</td><td>u32</td><td>u32</td><td>u32</td><td>u32</td><td>u32</td><td>u32</td><td>u32</td><td>u32</td><td>u32</td></tr></thead><tbody><tr><td>0</td><td>0</td><td>0</td><td>0</td><td>0</td><td>0</td><td>0</td><td>0</td><td>0</td><td>0</td><td>0</td><td>0</td><td>0</td><td>0</td><td>0</td><td>0</td><td>0</td><td>0</td><td>0</td><td>0</td><td>0</td></tr></tbody></table></div>"
      ],
      "text/plain": [
       "shape: (1, 21)\n",
       "┌────────┬──────┬──────────┬──────────────┬───┬──────┬───────┬──────┬───────┐\n",
       "│ FarmID ┆ Crop ┆ District ┆ Sub-District ┆ … ┆ ndwi ┆ gndvi ┆ savi ┆ msavi │\n",
       "│ ---    ┆ ---  ┆ ---      ┆ ---          ┆   ┆ ---  ┆ ---   ┆ ---  ┆ ---   │\n",
       "│ u32    ┆ u32  ┆ u32      ┆ u32          ┆   ┆ u32  ┆ u32   ┆ u32  ┆ u32   │\n",
       "╞════════╪══════╪══════════╪══════════════╪═══╪══════╪═══════╪══════╪═══════╡\n",
       "│ 0      ┆ 0    ┆ 0        ┆ 0            ┆ … ┆ 0    ┆ 0     ┆ 0    ┆ 0     │\n",
       "└────────┴──────┴──────────┴──────────────┴───┴──────┴───────┴──────┴───────┘"
      ]
     },
     "execution_count": 10,
     "metadata": {},
     "output_type": "execute_result"
    }
   ],
   "source": [
    "train_data = train_data.drop(\"SDate\", \"HDate\", \"geometry\", 'evi', \"tif_path\").fill_null(strategy=\"min\")\n",
    "test_data = test_data.drop(\"SDate\", \"HDate\", \"geometry\", 'evi', \"tif_path\").fill_null(strategy=\"min\")\n",
    "train_data.null_count()"
   ]
  },
  {
   "cell_type": "code",
   "execution_count": 11,
   "metadata": {},
   "outputs": [
    {
     "data": {
      "text/html": [
       "<div><style>\n",
       ".dataframe > thead > tr,\n",
       ".dataframe > tbody > tr {\n",
       "  text-align: right;\n",
       "  white-space: pre-wrap;\n",
       "}\n",
       "</style>\n",
       "<small>shape: (1, 21)</small><table border=\"1\" class=\"dataframe\"><thead><tr><th>FarmID</th><th>Crop</th><th>District</th><th>Sub-District</th><th>CropCoveredArea</th><th>CHeight</th><th>CNext</th><th>CLast</th><th>CTransp</th><th>IrriType</th><th>IrriSource</th><th>IrriCount</th><th>WaterCov</th><th>ExpYield</th><th>Season</th><th>Target</th><th>ndvi</th><th>ndwi</th><th>gndvi</th><th>savi</th><th>msavi</th></tr><tr><td>u32</td><td>u32</td><td>u32</td><td>u32</td><td>u32</td><td>u32</td><td>u32</td><td>u32</td><td>u32</td><td>u32</td><td>u32</td><td>u32</td><td>u32</td><td>u32</td><td>u32</td><td>u32</td><td>u32</td><td>u32</td><td>u32</td><td>u32</td><td>u32</td></tr></thead><tbody><tr><td>0</td><td>0</td><td>0</td><td>0</td><td>0</td><td>0</td><td>0</td><td>0</td><td>0</td><td>0</td><td>0</td><td>0</td><td>0</td><td>0</td><td>0</td><td>2718</td><td>0</td><td>0</td><td>0</td><td>0</td><td>0</td></tr></tbody></table></div>"
      ],
      "text/plain": [
       "shape: (1, 21)\n",
       "┌────────┬──────┬──────────┬──────────────┬───┬──────┬───────┬──────┬───────┐\n",
       "│ FarmID ┆ Crop ┆ District ┆ Sub-District ┆ … ┆ ndwi ┆ gndvi ┆ savi ┆ msavi │\n",
       "│ ---    ┆ ---  ┆ ---      ┆ ---          ┆   ┆ ---  ┆ ---   ┆ ---  ┆ ---   │\n",
       "│ u32    ┆ u32  ┆ u32      ┆ u32          ┆   ┆ u32  ┆ u32   ┆ u32  ┆ u32   │\n",
       "╞════════╪══════╪══════════╪══════════════╪═══╪══════╪═══════╪══════╪═══════╡\n",
       "│ 0      ┆ 0    ┆ 0        ┆ 0            ┆ … ┆ 0    ┆ 0     ┆ 0    ┆ 0     │\n",
       "└────────┴──────┴──────────┴──────────────┴───┴──────┴───────┴──────┴───────┘"
      ]
     },
     "execution_count": 11,
     "metadata": {},
     "output_type": "execute_result"
    }
   ],
   "source": [
    "test_data.null_count()"
   ]
  },
  {
   "cell_type": "code",
   "execution_count": 12,
   "metadata": {},
   "outputs": [],
   "source": [
    "X = train_data.drop(\"FarmID\", 'Target').to_pandas()\n",
    "y = train_data.select(\"Target\").to_pandas()"
   ]
  },
  {
   "cell_type": "code",
   "execution_count": 16,
   "metadata": {},
   "outputs": [
    {
     "data": {
      "text/plain": [
       "Index(['Crop', 'District', 'Sub-District', 'CNext', 'CLast', 'CTransp',\n",
       "       'IrriType', 'IrriSource', 'Season'],\n",
       "      dtype='object')"
      ]
     },
     "execution_count": 16,
     "metadata": {},
     "output_type": "execute_result"
    }
   ],
   "source": [
    "categorical_features"
   ]
  },
  {
   "cell_type": "code",
   "execution_count": 36,
   "metadata": {},
   "outputs": [
    {
     "name": "stdout",
     "output_type": "stream",
     "text": [
      "[4.16226913 0.30307397 4.06572165 4.66715976]\n",
      "Learning rate set to 0.086921\n",
      "0:\tlearn: 1.3794118\ttotal: 64.8ms\tremaining: 1m 4s\n",
      "100:\tlearn: 1.1263394\ttotal: 6.06s\tremaining: 53.9s\n",
      "200:\tlearn: 0.8700242\ttotal: 12.3s\tremaining: 48.7s\n",
      "300:\tlearn: 0.6959878\ttotal: 18.6s\tremaining: 43.2s\n",
      "400:\tlearn: 0.5673204\ttotal: 25.2s\tremaining: 37.7s\n",
      "500:\tlearn: 0.4730720\ttotal: 31.9s\tremaining: 31.7s\n",
      "600:\tlearn: 0.4014668\ttotal: 38.3s\tremaining: 25.4s\n",
      "700:\tlearn: 0.3467962\ttotal: 45.3s\tremaining: 19.3s\n",
      "800:\tlearn: 0.3003041\ttotal: 53.1s\tremaining: 13.2s\n",
      "900:\tlearn: 0.2637295\ttotal: 1m\tremaining: 6.59s\n",
      "999:\tlearn: 0.2332646\ttotal: 1m 6s\tremaining: 0us\n",
      "Validation accuracy: 0.7186311787072244\n"
     ]
    }
   ],
   "source": [
    "from sklearn.model_selection import train_test_split\n",
    "from catboost import CatBoostClassifier\n",
    "import numpy as np\n",
    "\n",
    "# Train-test split\n",
    "X_train, X_valid, y_train, y_valid = train_test_split(X, y, train_size=0.8, test_size=0.2, random_state=0, stratify=y)\n",
    "\n",
    "\n",
    "# Define features\n",
    "numeric_features = X.select_dtypes(include=['int64', 'float64']).columns\n",
    "categorical_features = X.select_dtypes(include=['object']).columns\n",
    "\n",
    "from sklearn.compose import ColumnTransformer\n",
    "from sklearn.pipeline import Pipeline\n",
    "from sklearn.preprocessing import StandardScaler\n",
    "\n",
    "# Define preprocessing for numeric features (impute missing values and scale them)\n",
    "numeric_transformer = Pipeline(steps=[\n",
    "    ('scaler', StandardScaler())])\n",
    "\n",
    "# Preprocessor\n",
    "preprocessor = ColumnTransformer(\n",
    "    transformers=[\n",
    "        ('num', numeric_transformer, numeric_features),\n",
    "        ('cat', 'passthrough', categorical_features)])\n",
    "\n",
    "# class weights\n",
    "from sklearn.utils import class_weight\n",
    "class_weights = class_weight.compute_class_weight(class_weight='balanced', classes=np.unique(y_train), y=y_train.values.ravel())\n",
    "print(class_weights)\n",
    "# Define the model\n",
    "cat_features_indices = list(range(len(numeric_features), len(numeric_features) + len(categorical_features)))\n",
    "model = CatBoostClassifier(iterations=1000, verbose=100, cat_features=cat_features_indices, class_weights=class_weights)\n",
    "\n",
    "# Create the pipeline\n",
    "pipe = Pipeline(steps=[('preprocessor', preprocessor),\n",
    "                       ('model', model)\n",
    "                      ])\n",
    "pipe\n",
    "\n",
    "# Fit the model\n",
    "pipe.fit(X_train, y_train)\n",
    "\n",
    "# Then evaluate using the pipeline on the validation set\n",
    "print(\"Validation accuracy:\", pipe.score(X_valid, y_valid))"
   ]
  },
  {
   "cell_type": "code",
   "execution_count": 37,
   "metadata": {},
   "outputs": [
    {
     "name": "stdout",
     "output_type": "stream",
     "text": [
      "              precision    recall  f1-score   support\n",
      "\n",
      "    Diseased       0.14      0.16      0.15        95\n",
      "     Healthy       0.83      0.85      0.84      1301\n",
      "       Pests       0.11      0.09      0.10        97\n",
      "    Stressed       0.06      0.04      0.04        85\n",
      "\n",
      "    accuracy                           0.72      1578\n",
      "   macro avg       0.28      0.28      0.28      1578\n",
      "weighted avg       0.70      0.72      0.71      1578\n",
      "\n"
     ]
    }
   ],
   "source": [
    "y_pred = pipe.predict(X_valid)\n",
    "from sklearn.metrics import classification_report\n",
    "print(classification_report(y_valid, y_pred))"
   ]
  },
  {
   "cell_type": "code",
   "execution_count": 38,
   "metadata": {},
   "outputs": [],
   "source": [
    "# Load submission file\n",
    "import polars as pl\n",
    "sample_submission = pl.read_csv( '../telangana_data/data/SampleSubmission.csv')\n",
    "\n",
    "# Predict on the test set\n",
    "# test_encoded['target'] = model.predict(test_encoded.drop(columns=['FarmID', 'dataset', 'target']))  # Drop 'FarmID' if it exists in test_encoded\n",
    "# test_encoded['target'] = test_encoded['target'].astype(int).map(idx_to_category_mapper)\n",
    "# test_encoded_pl = pl.from_pandas(test_encoded)\n",
    "\n",
    "# sample_submission = sample_submission.join(test_encoded_pl, left_on='ID', right_on='FarmID').select(['ID', 'target'])\n",
    "X_sub = test_data.drop(\"FarmID\", 'Target').to_pandas()\n",
    "\n",
    "X_valid_processed = preprocessor.transform(X_sub)\n",
    "\n",
    "y_sub = model.predict(X_valid_processed)"
   ]
  },
  {
   "cell_type": "code",
   "execution_count": 39,
   "metadata": {},
   "outputs": [
    {
     "data": {
      "text/html": [
       "<div><style>\n",
       ".dataframe > thead > tr,\n",
       ".dataframe > tbody > tr {\n",
       "  text-align: right;\n",
       "  white-space: pre-wrap;\n",
       "}\n",
       "</style>\n",
       "<small>shape: (2_718, 2)</small><table border=\"1\" class=\"dataframe\"><thead><tr><th>FarmID</th><th>Target</th></tr><tr><td>i64</td><td>str</td></tr></thead><tbody><tr><td>85197</td><td>&quot;Healthy&quot;</td></tr><tr><td>779677</td><td>&quot;Healthy&quot;</td></tr><tr><td>1331840</td><td>&quot;Healthy&quot;</td></tr><tr><td>483053</td><td>&quot;Healthy&quot;</td></tr><tr><td>542945</td><td>&quot;Healthy&quot;</td></tr><tr><td>&hellip;</td><td>&hellip;</td></tr><tr><td>551119</td><td>&quot;Healthy&quot;</td></tr><tr><td>916476</td><td>&quot;Healthy&quot;</td></tr><tr><td>121860</td><td>&quot;Healthy&quot;</td></tr><tr><td>270936</td><td>&quot;Healthy&quot;</td></tr><tr><td>1326552</td><td>&quot;Healthy&quot;</td></tr></tbody></table></div>"
      ],
      "text/plain": [
       "shape: (2_718, 2)\n",
       "┌─────────┬─────────┐\n",
       "│ FarmID  ┆ Target  │\n",
       "│ ---     ┆ ---     │\n",
       "│ i64     ┆ str     │\n",
       "╞═════════╪═════════╡\n",
       "│ 85197   ┆ Healthy │\n",
       "│ 779677  ┆ Healthy │\n",
       "│ 1331840 ┆ Healthy │\n",
       "│ 483053  ┆ Healthy │\n",
       "│ 542945  ┆ Healthy │\n",
       "│ …       ┆ …       │\n",
       "│ 551119  ┆ Healthy │\n",
       "│ 916476  ┆ Healthy │\n",
       "│ 121860  ┆ Healthy │\n",
       "│ 270936  ┆ Healthy │\n",
       "│ 1326552 ┆ Healthy │\n",
       "└─────────┴─────────┘"
      ]
     },
     "execution_count": 39,
     "metadata": {},
     "output_type": "execute_result"
    }
   ],
   "source": [
    "submission = test_data.with_columns(pl.Series(name='Target',values=y_sub.reshape(-1))).select(\"FarmID\", \"Target\")\n",
    "submission.write_csv('submission.csv')\n",
    "submission"
   ]
  },
  {
   "cell_type": "code",
   "execution_count": 40,
   "metadata": {},
   "outputs": [
    {
     "data": {
      "text/html": [
       "<div><style>\n",
       ".dataframe > thead > tr,\n",
       ".dataframe > tbody > tr {\n",
       "  text-align: right;\n",
       "  white-space: pre-wrap;\n",
       "}\n",
       "</style>\n",
       "<small>shape: (4, 2)</small><table border=\"1\" class=\"dataframe\"><thead><tr><th>Target</th><th>count</th></tr><tr><td>str</td><td>u32</td></tr></thead><tbody><tr><td>&quot;Stressed&quot;</td><td>6</td></tr><tr><td>&quot;Pests&quot;</td><td>11</td></tr><tr><td>&quot;Diseased&quot;</td><td>174</td></tr><tr><td>&quot;Healthy&quot;</td><td>2527</td></tr></tbody></table></div>"
      ],
      "text/plain": [
       "shape: (4, 2)\n",
       "┌──────────┬───────┐\n",
       "│ Target   ┆ count │\n",
       "│ ---      ┆ ---   │\n",
       "│ str      ┆ u32   │\n",
       "╞══════════╪═══════╡\n",
       "│ Stressed ┆ 6     │\n",
       "│ Pests    ┆ 11    │\n",
       "│ Diseased ┆ 174   │\n",
       "│ Healthy  ┆ 2527  │\n",
       "└──────────┴───────┘"
      ]
     },
     "execution_count": 40,
     "metadata": {},
     "output_type": "execute_result"
    }
   ],
   "source": [
    "submission['Target'].value_counts()"
   ]
  },
  {
   "cell_type": "code",
   "execution_count": null,
   "metadata": {},
   "outputs": [],
   "source": []
  }
 ],
 "metadata": {
  "kernelspec": {
   "display_name": "telangana",
   "language": "python",
   "name": "python3"
  },
  "language_info": {
   "codemirror_mode": {
    "name": "ipython",
    "version": 3
   },
   "file_extension": ".py",
   "mimetype": "text/x-python",
   "name": "python",
   "nbconvert_exporter": "python",
   "pygments_lexer": "ipython3",
   "version": "3.10.16"
  }
 },
 "nbformat": 4,
 "nbformat_minor": 2
}
