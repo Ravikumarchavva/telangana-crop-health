{
 "cells": [
  {
   "cell_type": "code",
   "execution_count": 5,
   "metadata": {},
   "outputs": [
    {
     "name": "stdout",
     "output_type": "stream",
     "text": [
      "Done\n"
     ]
    },
    {
     "data": {
      "text/html": [
       "<div><style>\n",
       ".dataframe > thead > tr,\n",
       ".dataframe > tbody > tr {\n",
       "  text-align: right;\n",
       "  white-space: pre-wrap;\n",
       "}\n",
       "</style>\n",
       "<small>shape: (5, 21)</small><table border=\"1\" class=\"dataframe\"><thead><tr><th>FarmID</th><th>category</th><th>Crop</th><th>State</th><th>District</th><th>Sub-District</th><th>SDate</th><th>HDate</th><th>CropCoveredArea</th><th>CHeight</th><th>CNext</th><th>CLast</th><th>CTransp</th><th>IrriType</th><th>IrriSource</th><th>IrriCount</th><th>WaterCov</th><th>ExpYield</th><th>Season</th><th>geometry</th><th>tif_path</th></tr><tr><td>i64</td><td>str</td><td>str</td><td>str</td><td>str</td><td>str</td><td>str</td><td>str</td><td>i64</td><td>i64</td><td>str</td><td>str</td><td>str</td><td>str</td><td>str</td><td>i64</td><td>i64</td><td>i64</td><td>str</td><td>str</td><td>str</td></tr></thead><tbody><tr><td>1326576</td><td>&quot;Healthy&quot;</td><td>&quot;Paddy&quot;</td><td>&quot;Telangana&quot;</td><td>&quot;Medak&quot;</td><td>&quot;Kulcharam&quot;</td><td>&quot;2023-11-25 0:00:00&quot;</td><td>&quot;2024-04-14 0:00:00&quot;</td><td>97</td><td>54</td><td>&quot;Pea&quot;</td><td>&quot;Lentil&quot;</td><td>&quot;Transplanting&quot;</td><td>&quot;Flood&quot;</td><td>&quot;Groundwater&quot;</td><td>4</td><td>87</td><td>17</td><td>&quot;Rabi&quot;</td><td>&quot;POLYGON ((78.18079255482755 17…</td><td>&quot;downloads/20240412T050649_2024…</td></tr><tr><td>1326577</td><td>&quot;Healthy&quot;</td><td>&quot;Paddy&quot;</td><td>&quot;Telangana&quot;</td><td>&quot;Medak&quot;</td><td>&quot;Kulcharam&quot;</td><td>&quot;2023-11-13 0:00:00&quot;</td><td>&quot;2024-04-26 0:00:00&quot;</td><td>82</td><td>58</td><td>&quot;Pea&quot;</td><td>&quot;Lentil&quot;</td><td>&quot;Transplanting&quot;</td><td>&quot;Flood&quot;</td><td>&quot;Canal&quot;</td><td>5</td><td>94</td><td>15</td><td>&quot;Rabi&quot;</td><td>&quot;POLYGON ((78.17483419891283 17…</td><td>&quot;downloads/20240425T051649_2024…</td></tr><tr><td>1326578</td><td>&quot;Healthy&quot;</td><td>&quot;Paddy&quot;</td><td>&quot;Telangana&quot;</td><td>&quot;Medak&quot;</td><td>&quot;Kulcharam&quot;</td><td>&quot;2023-12-19 0:00:00&quot;</td><td>&quot;2024-04-28 0:00:00&quot;</td><td>92</td><td>91</td><td>&quot;Pea&quot;</td><td>&quot;Lentil&quot;</td><td>&quot;Transplanting&quot;</td><td>&quot;Flood&quot;</td><td>&quot;Canal&quot;</td><td>3</td><td>99</td><td>20</td><td>&quot;Rabi&quot;</td><td>&quot;POLYGON ((78.16888476438905 17…</td><td>&quot;downloads/20240427T050651_2024…</td></tr><tr><td>1331836</td><td>&quot;Diseased&quot;</td><td>&quot;Paddy&quot;</td><td>&quot;Telangana&quot;</td><td>&quot;Medak&quot;</td><td>&quot;Kulcharam&quot;</td><td>&quot;2023-02-11 0:00:00&quot;</td><td>&quot;2024-11-04 0:00:00&quot;</td><td>91</td><td>52</td><td>&quot;Pea&quot;</td><td>&quot;Lentil&quot;</td><td>&quot;Transplanting&quot;</td><td>&quot;Flood&quot;</td><td>&quot;Canal&quot;</td><td>5</td><td>92</td><td>16</td><td>&quot;Rabi&quot;</td><td>&quot;POLYGON ((78.16821795882959 17…</td><td>&quot;downloads/20241103T050951_2024…</td></tr><tr><td>1326579</td><td>&quot;Diseased&quot;</td><td>&quot;Paddy&quot;</td><td>&quot;Telangana&quot;</td><td>&quot;Medak&quot;</td><td>&quot;Kulcharam&quot;</td><td>&quot;2023-12-12 0:00:00&quot;</td><td>&quot;2024-05-19 0:00:00&quot;</td><td>94</td><td>55</td><td>&quot;Pea&quot;</td><td>&quot;Lentil&quot;</td><td>&quot;Transplanting&quot;</td><td>&quot;Flood&quot;</td><td>&quot;Canal&quot;</td><td>5</td><td>97</td><td>20</td><td>&quot;Rabi&quot;</td><td>&quot;POLYGON ((78.17244459940454 17…</td><td>&quot;downloads/20240517T050651_2024…</td></tr></tbody></table></div>"
      ],
      "text/plain": [
       "shape: (5, 21)\n",
       "┌─────────┬──────────┬───────┬───────────┬───┬──────────┬────────┬────────────────┬────────────────┐\n",
       "│ FarmID  ┆ category ┆ Crop  ┆ State     ┆ … ┆ ExpYield ┆ Season ┆ geometry       ┆ tif_path       │\n",
       "│ ---     ┆ ---      ┆ ---   ┆ ---       ┆   ┆ ---      ┆ ---    ┆ ---            ┆ ---            │\n",
       "│ i64     ┆ str      ┆ str   ┆ str       ┆   ┆ i64      ┆ str    ┆ str            ┆ str            │\n",
       "╞═════════╪══════════╪═══════╪═══════════╪═══╪══════════╪════════╪════════════════╪════════════════╡\n",
       "│ 1326576 ┆ Healthy  ┆ Paddy ┆ Telangana ┆ … ┆ 17       ┆ Rabi   ┆ POLYGON ((78.1 ┆ downloads/2024 │\n",
       "│         ┆          ┆       ┆           ┆   ┆          ┆        ┆ 8079255482755  ┆ 0412T050649_20 │\n",
       "│         ┆          ┆       ┆           ┆   ┆          ┆        ┆ 17…            ┆ 24…            │\n",
       "│ 1326577 ┆ Healthy  ┆ Paddy ┆ Telangana ┆ … ┆ 15       ┆ Rabi   ┆ POLYGON ((78.1 ┆ downloads/2024 │\n",
       "│         ┆          ┆       ┆           ┆   ┆          ┆        ┆ 7483419891283  ┆ 0425T051649_20 │\n",
       "│         ┆          ┆       ┆           ┆   ┆          ┆        ┆ 17…            ┆ 24…            │\n",
       "│ 1326578 ┆ Healthy  ┆ Paddy ┆ Telangana ┆ … ┆ 20       ┆ Rabi   ┆ POLYGON ((78.1 ┆ downloads/2024 │\n",
       "│         ┆          ┆       ┆           ┆   ┆          ┆        ┆ 6888476438905  ┆ 0427T050651_20 │\n",
       "│         ┆          ┆       ┆           ┆   ┆          ┆        ┆ 17…            ┆ 24…            │\n",
       "│ 1331836 ┆ Diseased ┆ Paddy ┆ Telangana ┆ … ┆ 16       ┆ Rabi   ┆ POLYGON ((78.1 ┆ downloads/2024 │\n",
       "│         ┆          ┆       ┆           ┆   ┆          ┆        ┆ 6821795882959  ┆ 1103T050951_20 │\n",
       "│         ┆          ┆       ┆           ┆   ┆          ┆        ┆ 17…            ┆ 24…            │\n",
       "│ 1326579 ┆ Diseased ┆ Paddy ┆ Telangana ┆ … ┆ 20       ┆ Rabi   ┆ POLYGON ((78.1 ┆ downloads/2024 │\n",
       "│         ┆          ┆       ┆           ┆   ┆          ┆        ┆ 7244459940454  ┆ 0517T050651_20 │\n",
       "│         ┆          ┆       ┆           ┆   ┆          ┆        ┆ 17…            ┆ 24…            │\n",
       "└─────────┴──────────┴───────┴───────────┴───┴──────────┴────────┴────────────────┴────────────────┘"
      ]
     },
     "execution_count": 5,
     "metadata": {},
     "output_type": "execute_result"
    }
   ],
   "source": [
    "import polars as pl\n",
    "\n",
    "data = pl.read_csv('../data.csv')\n",
    "train_data = data.filter(pl.col(\"dataset\") == 'train').drop(\"dataset\")\n",
    "test_data = data.filter(pl.col(\"dataset\") == 'test').drop(\"dataset\")\n",
    "train_data.write_csv('train.csv')\n",
    "test_data.write_csv('test.csv')\n",
    "\n",
    "print(\"Done\")\n",
    "train_data.head()"
   ]
  },
  {
   "cell_type": "code",
   "execution_count": null,
   "metadata": {},
   "outputs": [],
   "source": []
  }
 ],
 "metadata": {
  "kernelspec": {
   "display_name": "telangana",
   "language": "python",
   "name": "python3"
  },
  "language_info": {
   "codemirror_mode": {
    "name": "ipython",
    "version": 3
   },
   "file_extension": ".py",
   "mimetype": "text/x-python",
   "name": "python",
   "nbconvert_exporter": "python",
   "pygments_lexer": "ipython3",
   "version": "3.10.16"
  }
 },
 "nbformat": 4,
 "nbformat_minor": 2
}
