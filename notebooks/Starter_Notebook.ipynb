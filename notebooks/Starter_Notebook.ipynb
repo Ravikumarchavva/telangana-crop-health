{
 "cells": [
  {
   "cell_type": "markdown",
   "metadata": {
    "id": "QgEc4aC_eHvY"
   },
   "source": [
    "# Telangana Crop Health Challenge\n",
    "---\n",
    "###  Can you predict the health status of crops?\n",
    "\n",
    "\n",
    "\n",
    "\n",
    "---\n",
    "\n"
   ]
  },
  {
   "cell_type": "markdown",
   "metadata": {
    "id": "4NxUOE8jfCV9"
   },
   "source": [
    "# Libraries and Modules Import"
   ]
  },
  {
   "cell_type": "code",
   "execution_count": 1,
   "metadata": {
    "colab": {
     "base_uri": "https://localhost:8080/",
     "height": 138
    },
    "id": "yGg1Cyv02_bQ",
    "outputId": "9a11846e-1320-4c33-b396-9d9d81ad70b8"
   },
   "outputs": [],
   "source": [
    "# Standard Library Imports\n",
    "from concurrent.futures import ThreadPoolExecutor, as_completed\n",
    "from joblib import Parallel, delayed\n",
    "from tqdm import tqdm\n",
    "from datetime import datetime\n",
    "from pathlib import Path\n",
    "import os\n",
    "import random\n",
    "\n",
    "# Third-Party Imports\n",
    "import ee\n",
    "import geemap\n",
    "import matplotlib.pyplot as plt\n",
    "import numpy as np\n",
    "import pandas as pd\n",
    "import rasterio\n",
    "from lightgbm import LGBMClassifier\n",
    "from shapely.affinity import scale, translate\n",
    "from skimage import exposure\n",
    "from sklearn.metrics import classification_report, f1_score\n",
    "from sklearn.model_selection import StratifiedKFold, train_test_split\n",
    "from sklearn.preprocessing import LabelEncoder\n",
    "\n",
    "from shapely import wkt\n",
    "import geopandas as gpd\n",
    "\n",
    "import warnings\n",
    "warnings.filterwarnings('ignore')\n",
    "\n",
    "import logging\n",
    "# Set up a logger to capture Rasterio warnings\n",
    "logging.getLogger(\"rasterio._env\").setLevel(logging.ERROR)"
   ]
  },
  {
   "cell_type": "markdown",
   "metadata": {
    "id": "6Dzgl65yfqYN"
   },
   "source": [
    "# Project Setup and Earth Engine Initialization"
   ]
  },
  {
   "cell_type": "code",
   "execution_count": 2,
   "metadata": {
    "colab": {
     "base_uri": "https://localhost:8080/",
     "height": 17
    },
    "id": "8aXKLcU9fvU1",
    "outputId": "3bdd7a2a-b180-4f21-8bb1-2231209b9d6c"
   },
   "outputs": [
    {
     "data": {
      "text/html": [
       "\n",
       "            <style>\n",
       "                .geemap-dark {\n",
       "                    --jp-widgets-color: white;\n",
       "                    --jp-widgets-label-color: white;\n",
       "                    --jp-ui-font-color1: white;\n",
       "                    --jp-layout-color2: #454545;\n",
       "                    background-color: #383838;\n",
       "                }\n",
       "\n",
       "                .geemap-dark .jupyter-button {\n",
       "                    --jp-layout-color3: #383838;\n",
       "                }\n",
       "\n",
       "                .geemap-colab {\n",
       "                    background-color: var(--colab-primary-surface-color, white);\n",
       "                }\n",
       "\n",
       "                .geemap-colab .jupyter-button {\n",
       "                    --jp-layout-color3: var(--colab-primary-surface-color, white);\n",
       "                }\n",
       "            </style>\n",
       "            "
      ],
      "text/plain": [
       "<IPython.core.display.HTML object>"
      ]
     },
     "metadata": {},
     "output_type": "display_data"
    },
    {
     "data": {
      "text/plain": [
       "WindowsPath('.')"
      ]
     },
     "execution_count": 2,
     "metadata": {},
     "output_type": "execute_result"
    }
   ],
   "source": [
    "# Define the root path for the project\n",
    "root_path = Path(\".\")\n",
    "root_path"
   ]
  },
  {
   "cell_type": "code",
   "execution_count": 3,
   "metadata": {
    "colab": {
     "base_uri": "https://localhost:8080/",
     "height": 17
    },
    "id": "IrqeBjHbenYO",
    "outputId": "c99cebfb-a9a1-4e37-9477-50985da2253f"
   },
   "outputs": [
    {
     "data": {
      "text/html": [
       "\n",
       "            <style>\n",
       "                .geemap-dark {\n",
       "                    --jp-widgets-color: white;\n",
       "                    --jp-widgets-label-color: white;\n",
       "                    --jp-ui-font-color1: white;\n",
       "                    --jp-layout-color2: #454545;\n",
       "                    background-color: #383838;\n",
       "                }\n",
       "\n",
       "                .geemap-dark .jupyter-button {\n",
       "                    --jp-layout-color3: #383838;\n",
       "                }\n",
       "\n",
       "                .geemap-colab {\n",
       "                    background-color: var(--colab-primary-surface-color, white);\n",
       "                }\n",
       "\n",
       "                .geemap-colab .jupyter-button {\n",
       "                    --jp-layout-color3: var(--colab-primary-surface-color, white);\n",
       "                }\n",
       "            </style>\n",
       "            "
      ],
      "text/plain": [
       "<IPython.core.display.HTML object>"
      ]
     },
     "metadata": {},
     "output_type": "display_data"
    }
   ],
   "source": [
    "# Authenticate with Google Earth Engine\n",
    "# This opens a browser prompt for authentication, if not previously authenticated\n",
    "ee.Authenticate()\n",
    "\n",
    "# Initialize Earth Engine with a specific project\n",
    "# Replace \"project\" with your project ID as needed\n",
    "ee.Initialize(project=\"zinditelangana2024\")"
   ]
  },
  {
   "cell_type": "markdown",
   "metadata": {
    "id": "FX3ISF5IgMYE"
   },
   "source": [
    "# Data Loading and Preprocessing"
   ]
  },
  {
   "cell_type": "markdown",
   "metadata": {
    "id": "o8zjh8xTgNMs"
   },
   "source": [
    "**Load Train and Test**"
   ]
  },
  {
   "cell_type": "code",
   "execution_count": 4,
   "metadata": {
    "colab": {
     "base_uri": "https://localhost:8080/",
     "height": 17
    },
    "id": "IY6BGNs_3JfK",
    "outputId": "1e45376c-540d-4523-dcf7-71d31246529a"
   },
   "outputs": [
    {
     "data": {
      "text/html": [
       "\n",
       "            <style>\n",
       "                .geemap-dark {\n",
       "                    --jp-widgets-color: white;\n",
       "                    --jp-widgets-label-color: white;\n",
       "                    --jp-ui-font-color1: white;\n",
       "                    --jp-layout-color2: #454545;\n",
       "                    background-color: #383838;\n",
       "                }\n",
       "\n",
       "                .geemap-dark .jupyter-button {\n",
       "                    --jp-layout-color3: #383838;\n",
       "                }\n",
       "\n",
       "                .geemap-colab {\n",
       "                    background-color: var(--colab-primary-surface-color, white);\n",
       "                }\n",
       "\n",
       "                .geemap-colab .jupyter-button {\n",
       "                    --jp-layout-color3: var(--colab-primary-surface-color, white);\n",
       "                }\n",
       "            </style>\n",
       "            "
      ],
      "text/plain": [
       "<IPython.core.display.HTML object>"
      ]
     },
     "metadata": {},
     "output_type": "display_data"
    }
   ],
   "source": [
    "# Load training and testing datasets from CSV files\n",
    "train = pd.read_csv(root_path / 'train.csv')\n",
    "test = pd.read_csv(root_path / 'test.csv')"
   ]
  },
  {
   "cell_type": "markdown",
   "metadata": {
    "id": "0w0j8JXhgcT5"
   },
   "source": [
    "**Convert Geometry Columns to Geospatial Format**"
   ]
  },
  {
   "cell_type": "code",
   "execution_count": 5,
   "metadata": {
    "colab": {
     "base_uri": "https://localhost:8080/",
     "height": 17
    },
    "id": "2VMdtK6nPiT-",
    "outputId": "b902d1b2-ab83-4420-8064-74749c652357"
   },
   "outputs": [
    {
     "data": {
      "text/html": [
       "\n",
       "            <style>\n",
       "                .geemap-dark {\n",
       "                    --jp-widgets-color: white;\n",
       "                    --jp-widgets-label-color: white;\n",
       "                    --jp-ui-font-color1: white;\n",
       "                    --jp-layout-color2: #454545;\n",
       "                    background-color: #383838;\n",
       "                }\n",
       "\n",
       "                .geemap-dark .jupyter-button {\n",
       "                    --jp-layout-color3: #383838;\n",
       "                }\n",
       "\n",
       "                .geemap-colab {\n",
       "                    background-color: var(--colab-primary-surface-color, white);\n",
       "                }\n",
       "\n",
       "                .geemap-colab .jupyter-button {\n",
       "                    --jp-layout-color3: var(--colab-primary-surface-color, white);\n",
       "                }\n",
       "            </style>\n",
       "            "
      ],
      "text/plain": [
       "<IPython.core.display.HTML object>"
      ]
     },
     "metadata": {},
     "output_type": "display_data"
    }
   ],
   "source": [
    "# Convert WKT geometry to actual geometry objects in both datasets\n",
    "train['geometry'] = train['geometry'].apply(wkt.loads)\n",
    "test['geometry'] = test['geometry'].apply(wkt.loads)"
   ]
  },
  {
   "cell_type": "markdown",
   "metadata": {
    "id": "4PePPSBsgqGN"
   },
   "source": [
    "**Convert DataFrames to GeoDataFrames**"
   ]
  },
  {
   "cell_type": "code",
   "execution_count": 6,
   "metadata": {
    "colab": {
     "base_uri": "https://localhost:8080/",
     "height": 17
    },
    "id": "bNT00SHOgp-d",
    "outputId": "f4f92c96-89f6-43d3-a141-0bd1f4aed2c5"
   },
   "outputs": [
    {
     "data": {
      "text/html": [
       "\n",
       "            <style>\n",
       "                .geemap-dark {\n",
       "                    --jp-widgets-color: white;\n",
       "                    --jp-widgets-label-color: white;\n",
       "                    --jp-ui-font-color1: white;\n",
       "                    --jp-layout-color2: #454545;\n",
       "                    background-color: #383838;\n",
       "                }\n",
       "\n",
       "                .geemap-dark .jupyter-button {\n",
       "                    --jp-layout-color3: #383838;\n",
       "                }\n",
       "\n",
       "                .geemap-colab {\n",
       "                    background-color: var(--colab-primary-surface-color, white);\n",
       "                }\n",
       "\n",
       "                .geemap-colab .jupyter-button {\n",
       "                    --jp-layout-color3: var(--colab-primary-surface-color, white);\n",
       "                }\n",
       "            </style>\n",
       "            "
      ],
      "text/plain": [
       "<IPython.core.display.HTML object>"
      ]
     },
     "metadata": {},
     "output_type": "display_data"
    }
   ],
   "source": [
    "# Convert pandas DataFrames to GeoDataFrames with CRS set to 'epsg:4326'\n",
    "train = gpd.GeoDataFrame(train, crs='epsg:4326')\n",
    "test = gpd.GeoDataFrame(test, crs='epsg:4326')"
   ]
  },
  {
   "cell_type": "markdown",
   "metadata": {
    "id": "RsHE4ZpYg25J"
   },
   "source": [
    "**Concatenate Train and Test Data for Unified Processing**"
   ]
  },
  {
   "cell_type": "code",
   "execution_count": 7,
   "metadata": {
    "colab": {
     "base_uri": "https://localhost:8080/",
     "height": 17
    },
    "id": "1Oq15hAGgp7l",
    "outputId": "1058b8c9-31bf-48a7-d67b-8dd64be05e6c"
   },
   "outputs": [
    {
     "data": {
      "text/html": [
       "\n",
       "            <style>\n",
       "                .geemap-dark {\n",
       "                    --jp-widgets-color: white;\n",
       "                    --jp-widgets-label-color: white;\n",
       "                    --jp-ui-font-color1: white;\n",
       "                    --jp-layout-color2: #454545;\n",
       "                    background-color: #383838;\n",
       "                }\n",
       "\n",
       "                .geemap-dark .jupyter-button {\n",
       "                    --jp-layout-color3: #383838;\n",
       "                }\n",
       "\n",
       "                .geemap-colab {\n",
       "                    background-color: var(--colab-primary-surface-color, white);\n",
       "                }\n",
       "\n",
       "                .geemap-colab .jupyter-button {\n",
       "                    --jp-layout-color3: var(--colab-primary-surface-color, white);\n",
       "                }\n",
       "            </style>\n",
       "            "
      ],
      "text/plain": [
       "<IPython.core.display.HTML object>"
      ]
     },
     "metadata": {},
     "output_type": "display_data"
    }
   ],
   "source": [
    "# Concatenate train and test datasets into a single DataFrame for consistent processing\n",
    "# 'dataset' column distinguishes between train and test rows\n",
    "data = pd.concat(\n",
    "    [train.assign(dataset='train'), test.assign(dataset='test')]\n",
    ").reset_index(drop=True)"
   ]
  },
  {
   "cell_type": "markdown",
   "metadata": {
    "id": "q68bgnq2hJoM"
   },
   "source": [
    "**Scale Geometry Objects**"
   ]
  },
  {
   "cell_type": "code",
   "execution_count": 8,
   "metadata": {
    "colab": {
     "base_uri": "https://localhost:8080/",
     "height": 17
    },
    "id": "WZPQN9JQgp3r",
    "outputId": "df618687-be52-4f6d-f1cb-e22810570a22"
   },
   "outputs": [
    {
     "data": {
      "text/html": [
       "\n",
       "            <style>\n",
       "                .geemap-dark {\n",
       "                    --jp-widgets-color: white;\n",
       "                    --jp-widgets-label-color: white;\n",
       "                    --jp-ui-font-color1: white;\n",
       "                    --jp-layout-color2: #454545;\n",
       "                    background-color: #383838;\n",
       "                }\n",
       "\n",
       "                .geemap-dark .jupyter-button {\n",
       "                    --jp-layout-color3: #383838;\n",
       "                }\n",
       "\n",
       "                .geemap-colab {\n",
       "                    background-color: var(--colab-primary-surface-color, white);\n",
       "                }\n",
       "\n",
       "                .geemap-colab .jupyter-button {\n",
       "                    --jp-layout-color3: var(--colab-primary-surface-color, white);\n",
       "                }\n",
       "            </style>\n",
       "            "
      ],
      "text/plain": [
       "<IPython.core.display.HTML object>"
      ]
     },
     "metadata": {},
     "output_type": "display_data"
    }
   ],
   "source": [
    "# Function to scale each geometry around its centroid\n",
    "def scale_geometry(geometry, scale_factor):\n",
    "    \"\"\"\n",
    "    Scale a geometry object around its centroid.\n",
    "\n",
    "    Parameters:\n",
    "        geometry (shapely.geometry.base.BaseGeometry): Geometry to scale.\n",
    "        scale_factor (float): Factor by which to scale the geometry.\n",
    "\n",
    "    Returns:\n",
    "        shapely.geometry.base.BaseGeometry: Scaled geometry object.\n",
    "    \"\"\"\n",
    "    # Calculate centroid\n",
    "    centroid = geometry.centroid\n",
    "    # Translate geometry to origin\n",
    "    translated_geometry = translate(geometry, -centroid.x, -centroid.y)\n",
    "    # Scale geometry\n",
    "    scaled_geometry = scale(translated_geometry, xfact=scale_factor, yfact=scale_factor, origin=(0, 0))\n",
    "    # Translate back to the original centroid\n",
    "    return translate(scaled_geometry, centroid.x, centroid.y)"
   ]
  },
  {
   "cell_type": "code",
   "execution_count": 9,
   "metadata": {
    "colab": {
     "base_uri": "https://localhost:8080/",
     "height": 17
    },
    "id": "U8jtkV5qgp1d",
    "outputId": "7a124ec5-5c66-4719-fbcf-4a807695b554"
   },
   "outputs": [
    {
     "data": {
      "text/html": [
       "\n",
       "            <style>\n",
       "                .geemap-dark {\n",
       "                    --jp-widgets-color: white;\n",
       "                    --jp-widgets-label-color: white;\n",
       "                    --jp-ui-font-color1: white;\n",
       "                    --jp-layout-color2: #454545;\n",
       "                    background-color: #383838;\n",
       "                }\n",
       "\n",
       "                .geemap-dark .jupyter-button {\n",
       "                    --jp-layout-color3: #383838;\n",
       "                }\n",
       "\n",
       "                .geemap-colab {\n",
       "                    background-color: var(--colab-primary-surface-color, white);\n",
       "                }\n",
       "\n",
       "                .geemap-colab .jupyter-button {\n",
       "                    --jp-layout-color3: var(--colab-primary-surface-color, white);\n",
       "                }\n",
       "            </style>\n",
       "            "
      ],
      "text/plain": [
       "<IPython.core.display.HTML object>"
      ]
     },
     "metadata": {},
     "output_type": "display_data"
    }
   ],
   "source": [
    "# Set the scaling factor\n",
    "scale_factor = 5\n",
    "\n",
    "# Apply the scaling function to each geometry in the data\n",
    "# This modifies each geometry in place by the defined scale factor\n",
    "data['geometry'] = data['geometry'].apply(scale_geometry, scale_factor=scale_factor)"
   ]
  },
  {
   "cell_type": "markdown",
   "metadata": {
    "id": "eCqHijZBhiCI"
   },
   "source": [
    "# Download Image Data"
   ]
  },
  {
   "cell_type": "markdown",
   "metadata": {
    "id": "RKoadIsZhouN"
   },
   "source": [
    "**Utils**"
   ]
  },
  {
   "cell_type": "code",
   "execution_count": 10,
   "metadata": {
    "colab": {
     "base_uri": "https://localhost:8080/",
     "height": 17
    },
    "id": "ya4Ncfoghmfg",
    "outputId": "b574e539-0e26-407b-e8cd-61de0f9416c7"
   },
   "outputs": [
    {
     "data": {
      "text/html": [
       "\n",
       "            <style>\n",
       "                .geemap-dark {\n",
       "                    --jp-widgets-color: white;\n",
       "                    --jp-widgets-label-color: white;\n",
       "                    --jp-ui-font-color1: white;\n",
       "                    --jp-layout-color2: #454545;\n",
       "                    background-color: #383838;\n",
       "                }\n",
       "\n",
       "                .geemap-dark .jupyter-button {\n",
       "                    --jp-layout-color3: #383838;\n",
       "                }\n",
       "\n",
       "                .geemap-colab {\n",
       "                    background-color: var(--colab-primary-surface-color, white);\n",
       "                }\n",
       "\n",
       "                .geemap-colab .jupyter-button {\n",
       "                    --jp-layout-color3: var(--colab-primary-surface-color, white);\n",
       "                }\n",
       "            </style>\n",
       "            "
      ],
      "text/plain": [
       "<IPython.core.display.HTML object>"
      ]
     },
     "metadata": {},
     "output_type": "display_data"
    }
   ],
   "source": [
    "# Function to ensure date format is correct\n",
    "def format_date(date_str):\n",
    "    \"\"\"Convert date string to 'YYYY-MM-DD' format.\"\"\"\n",
    "    try:\n",
    "        return datetime.strptime(date_str, '%d-%m-%Y').strftime('%Y-%m-%d')\n",
    "    except ValueError:\n",
    "        print(f\"Error: Invalid date format for {date_str}. Expected 'DD-MM-YYYY'.\")\n",
    "        return None"
   ]
  },
  {
   "cell_type": "markdown",
   "metadata": {
    "id": "O_o7YLCdh0EP"
   },
   "source": [
    "**Convert GeoDataFrame to Earth Engine FeatureCollection**"
   ]
  },
  {
   "cell_type": "code",
   "execution_count": 11,
   "metadata": {
    "colab": {
     "base_uri": "https://localhost:8080/",
     "height": 17
    },
    "id": "NfE6u6x2hmdR",
    "outputId": "bce9a3b9-3666-44f5-f79b-712f2b5129d0"
   },
   "outputs": [
    {
     "data": {
      "text/html": [
       "\n",
       "            <style>\n",
       "                .geemap-dark {\n",
       "                    --jp-widgets-color: white;\n",
       "                    --jp-widgets-label-color: white;\n",
       "                    --jp-ui-font-color1: white;\n",
       "                    --jp-layout-color2: #454545;\n",
       "                    background-color: #383838;\n",
       "                }\n",
       "\n",
       "                .geemap-dark .jupyter-button {\n",
       "                    --jp-layout-color3: #383838;\n",
       "                }\n",
       "\n",
       "                .geemap-colab {\n",
       "                    background-color: var(--colab-primary-surface-color, white);\n",
       "                }\n",
       "\n",
       "                .geemap-colab .jupyter-button {\n",
       "                    --jp-layout-color3: var(--colab-primary-surface-color, white);\n",
       "                }\n",
       "            </style>\n",
       "            "
      ],
      "text/plain": [
       "<IPython.core.display.HTML object>"
      ]
     },
     "metadata": {},
     "output_type": "display_data"
    }
   ],
   "source": [
    "# Function to convert a GeoDataFrame to Google Earth Engine FeatureCollection\n",
    "def gdf_to_gee(gdf):\n",
    "    \"\"\"Converts a GeoDataFrame to an Earth Engine FeatureCollection.\"\"\"\n",
    "    features = []\n",
    "    for _, row in gdf.iterrows():\n",
    "        geom = row['geometry'].__geo_interface__  # Convert geometry to GeoJSON format\n",
    "        feature = ee.Feature(ee.Geometry(geom), row.to_dict())  # Create an EE Feature\n",
    "        features.append(feature)\n",
    "    return ee.FeatureCollection(features)\n",
    "\n",
    "# Convert the entire dataset GeoDataFrame to a FeatureCollection for GEE\n",
    "gee_feature_collection = gdf_to_gee(data)"
   ]
  },
  {
   "cell_type": "markdown",
   "metadata": {
    "id": "cGz3vnHdh8qk"
   },
   "source": [
    "**Initialize Earth Engine and Set Up Directories**"
   ]
  },
  {
   "cell_type": "code",
   "execution_count": 12,
   "metadata": {
    "colab": {
     "base_uri": "https://localhost:8080/",
     "height": 17
    },
    "id": "U-R1CIGthmat",
    "outputId": "e7a0235e-2330-474f-92a1-62ac19f851d7"
   },
   "outputs": [
    {
     "data": {
      "text/html": [
       "\n",
       "            <style>\n",
       "                .geemap-dark {\n",
       "                    --jp-widgets-color: white;\n",
       "                    --jp-widgets-label-color: white;\n",
       "                    --jp-ui-font-color1: white;\n",
       "                    --jp-layout-color2: #454545;\n",
       "                    background-color: #383838;\n",
       "                }\n",
       "\n",
       "                .geemap-dark .jupyter-button {\n",
       "                    --jp-layout-color3: #383838;\n",
       "                }\n",
       "\n",
       "                .geemap-colab {\n",
       "                    background-color: var(--colab-primary-surface-color, white);\n",
       "                }\n",
       "\n",
       "                .geemap-colab .jupyter-button {\n",
       "                    --jp-layout-color3: var(--colab-primary-surface-color, white);\n",
       "                }\n",
       "            </style>\n",
       "            "
      ],
      "text/plain": [
       "<IPython.core.display.HTML object>"
      ]
     },
     "metadata": {},
     "output_type": "display_data"
    }
   ],
   "source": [
    "# if you already downloaded the data.\n",
    "donwload = False\n",
    "\n",
    "# Initialize Earth Engine\n",
    "ee.Initialize()\n",
    "\n",
    "# Remove existing 'downloads' folder if it exists\n",
    "if os.path.exists('downloads'):\n",
    "    os.system('rm -rf downloads')\n",
    "\n",
    "# Ensure the output directory exists\n",
    "output_folder = 'downloads'\n",
    "os.makedirs(output_folder, exist_ok=True)"
   ]
  },
  {
   "cell_type": "markdown",
   "metadata": {
    "id": "SbyHxksmiBDA"
   },
   "source": [
    "**Download from Earth Engine**"
   ]
  },
  {
   "cell_type": "code",
   "execution_count": 13,
   "metadata": {
    "colab": {
     "base_uri": "https://localhost:8080/",
     "height": 17
    },
    "id": "QSJYTlGgh6--",
    "outputId": "e4ca6f84-c66a-4b6b-e7c4-c759908b69a9"
   },
   "outputs": [
    {
     "data": {
      "text/html": [
       "\n",
       "            <style>\n",
       "                .geemap-dark {\n",
       "                    --jp-widgets-color: white;\n",
       "                    --jp-widgets-label-color: white;\n",
       "                    --jp-ui-font-color1: white;\n",
       "                    --jp-layout-color2: #454545;\n",
       "                    background-color: #383838;\n",
       "                }\n",
       "\n",
       "                .geemap-dark .jupyter-button {\n",
       "                    --jp-layout-color3: #383838;\n",
       "                }\n",
       "\n",
       "                .geemap-colab {\n",
       "                    background-color: var(--colab-primary-surface-color, white);\n",
       "                }\n",
       "\n",
       "                .geemap-colab .jupyter-button {\n",
       "                    --jp-layout-color3: var(--colab-primary-surface-color, white);\n",
       "                }\n",
       "            </style>\n",
       "            "
      ],
      "text/plain": [
       "<IPython.core.display.HTML object>"
      ]
     },
     "metadata": {},
     "output_type": "display_data"
    }
   ],
   "source": [
    "# Function to download RGB images from Earth Engine\n",
    "def download_rgb_image(collection_name, bands, start_date, end_date, region, output_folder='downloads'):\n",
    "    \"\"\"Download RGB bands from a GEE collection filtered by date and region.\"\"\"\n",
    "    # Load the image collection, filter by date, and clip to region\n",
    "    collection = ee.ImageCollection(collection_name).filterDate(start_date, end_date).filterBounds(region)\n",
    "    image = collection.sort('system:time_start', False).first().select(bands).clip(region)  # Most recent image\n",
    "\n",
    "    # Define unique filename based on image dates\n",
    "    image_id = image.id().getInfo() or f'image_{start_date}_{end_date}'\n",
    "    image_name = f'{output_folder}/{image_id}_RGB_{start_date}_{end_date}.tif'\n",
    "\n",
    "    # Export the image to a GeoTIFF file\n",
    "    geemap.ee_export_image(\n",
    "        image,\n",
    "        filename=image_name,\n",
    "        scale=10,  # Sentinel-2 resolution in meters\n",
    "        region=region,\n",
    "        file_per_band=False,  # Save as a multi-band TIFF\n",
    "        crs='EPSG:4326'\n",
    "    )\n",
    "    print(f\"Downloaded: {image_name}\")\n",
    "    return image_name"
   ]
  },
  {
   "cell_type": "code",
   "execution_count": 14,
   "metadata": {
    "colab": {
     "base_uri": "https://localhost:8080/",
     "height": 17
    },
    "id": "VePFJ8GQh68G",
    "outputId": "d0387619-4bef-44be-9780-d6f8188f7067"
   },
   "outputs": [
    {
     "data": {
      "text/html": [
       "\n",
       "            <style>\n",
       "                .geemap-dark {\n",
       "                    --jp-widgets-color: white;\n",
       "                    --jp-widgets-label-color: white;\n",
       "                    --jp-ui-font-color1: white;\n",
       "                    --jp-layout-color2: #454545;\n",
       "                    background-color: #383838;\n",
       "                }\n",
       "\n",
       "                .geemap-dark .jupyter-button {\n",
       "                    --jp-layout-color3: #383838;\n",
       "                }\n",
       "\n",
       "                .geemap-colab {\n",
       "                    background-color: var(--colab-primary-surface-color, white);\n",
       "                }\n",
       "\n",
       "                .geemap-colab .jupyter-button {\n",
       "                    --jp-layout-color3: var(--colab-primary-surface-color, white);\n",
       "                }\n",
       "            </style>\n",
       "            "
      ],
      "text/plain": [
       "<IPython.core.display.HTML object>"
      ]
     },
     "metadata": {},
     "output_type": "display_data"
    }
   ],
   "source": [
    "# Function to process each row in the dataset for image download\n",
    "def process_row(index, row):\n",
    "    # Format start and end dates\n",
    "    start_date = format_date(row['SDate'])\n",
    "    end_date = format_date(row['HDate'])\n",
    "\n",
    "    # Skip rows with invalid dates\n",
    "    if not start_date or not end_date:\n",
    "        print(f\"Skipping entry due to invalid dates: SDate={row['SDate']}, HDate={row['HDate']}\")\n",
    "        return index, None\n",
    "\n",
    "    # Extract and check geometry\n",
    "    region_geometry = row['geometry']\n",
    "    district = row['District']\n",
    "\n",
    "    # Verify valid geometry and convert it to EE format\n",
    "    if region_geometry.is_empty:\n",
    "        print(f\"Skipping entry due to empty geometry for District: {district}\")\n",
    "        return index, None\n",
    "\n",
    "    # Convert geometry type to EE compatible format\n",
    "    if region_geometry.geom_type == 'Polygon':\n",
    "        region = ee.Geometry.Polygon(region_geometry.__geo_interface__['coordinates'])\n",
    "    elif region_geometry.geom_type == 'MultiPolygon':\n",
    "        coords = [polygon.exterior.coords[:] for polygon in region_geometry.geoms]\n",
    "        region = ee.Geometry.MultiPolygon(coords)\n",
    "    else:\n",
    "        print(f\"Skipping unsupported geometry type: {region_geometry.geom_type} for District: {district}\")\n",
    "        return index, None\n",
    "\n",
    "    # Define Sentinel-2 collection and bands\n",
    "    image_collection_name = 'COPERNICUS/S2'\n",
    "    bands = ['B4', 'B3', 'B2', 'B8', 'B5', 'B6', 'B7', 'B8A', 'B11', 'B12']\n",
    "\n",
    "    # Attempt to download the image\n",
    "    try:\n",
    "        image_file = download_rgb_image(image_collection_name, bands, start_date, end_date, region, output_folder)\n",
    "        return index, image_file\n",
    "    except Exception as e:\n",
    "        print(f\"Error processing entry for District {district}: {e}\")\n",
    "        return index, None"
   ]
  },
  {
   "cell_type": "code",
   "execution_count": 15,
   "metadata": {},
   "outputs": [
    {
     "data": {
      "text/html": [
       "\n",
       "            <style>\n",
       "                .geemap-dark {\n",
       "                    --jp-widgets-color: white;\n",
       "                    --jp-widgets-label-color: white;\n",
       "                    --jp-ui-font-color1: white;\n",
       "                    --jp-layout-color2: #454545;\n",
       "                    background-color: #383838;\n",
       "                }\n",
       "\n",
       "                .geemap-dark .jupyter-button {\n",
       "                    --jp-layout-color3: #383838;\n",
       "                }\n",
       "\n",
       "                .geemap-colab {\n",
       "                    background-color: var(--colab-primary-surface-color, white);\n",
       "                }\n",
       "\n",
       "                .geemap-colab .jupyter-button {\n",
       "                    --jp-layout-color3: var(--colab-primary-surface-color, white);\n",
       "                }\n",
       "            </style>\n",
       "            "
      ],
      "text/plain": [
       "<IPython.core.display.HTML object>"
      ]
     },
     "metadata": {},
     "output_type": "display_data"
    },
    {
     "name": "stdout",
     "output_type": "stream",
     "text": [
      "Rows with invalid dates:\n",
      "Empty GeoDataFrame\n",
      "Columns: [FarmID, category, Crop, State, District, Sub-District, SDate, HDate, CropCoveredArea, CHeight, CNext, CLast, CTransp, IrriType, IrriSource, IrriCount, WaterCov, ExpYield, Season, geometry, dataset]\n",
      "Index: []\n",
      "\n",
      "[0 rows x 21 columns]\n"
     ]
    }
   ],
   "source": [
    "import pandas as pd\n",
    "\n",
    "# Assuming 'SDate' and 'HDate' are the columns with dates\n",
    "data['SDate'] = pd.to_datetime(data['SDate'], errors='coerce').dt.strftime('%d-%m-%Y')\n",
    "data['HDate'] = pd.to_datetime(data['HDate'], errors='coerce').dt.strftime('%d-%m-%Y')\n",
    "\n",
    "# Check for rows with invalid dates after conversion\n",
    "invalid_rows = data[data['SDate'].isnull() | data['HDate'].isnull()]\n",
    "print(\"Rows with invalid dates:\")\n",
    "print(invalid_rows)\n",
    "donwload = True"
   ]
  },
  {
   "cell_type": "code",
   "execution_count": 21,
   "metadata": {
    "colab": {
     "base_uri": "https://localhost:8080/",
     "height": 17
    },
    "id": "wk2LzuPmh63-",
    "outputId": "b31c66f1-512c-443d-d1bc-f86b9c095047"
   },
   "outputs": [
    {
     "data": {
      "text/html": [
       "\n",
       "            <style>\n",
       "                .geemap-dark {\n",
       "                    --jp-widgets-color: white;\n",
       "                    --jp-widgets-label-color: white;\n",
       "                    --jp-ui-font-color1: white;\n",
       "                    --jp-layout-color2: #454545;\n",
       "                    background-color: #383838;\n",
       "                }\n",
       "\n",
       "                .geemap-dark .jupyter-button {\n",
       "                    --jp-layout-color3: #383838;\n",
       "                }\n",
       "\n",
       "                .geemap-colab {\n",
       "                    background-color: var(--colab-primary-surface-color, white);\n",
       "                }\n",
       "\n",
       "                .geemap-colab .jupyter-button {\n",
       "                    --jp-layout-color3: var(--colab-primary-surface-color, white);\n",
       "                }\n",
       "            </style>\n",
       "            "
      ],
      "text/plain": [
       "<IPython.core.display.HTML object>"
      ]
     },
     "metadata": {},
     "output_type": "display_data"
    },
    {
     "name": "stderr",
     "output_type": "stream",
     "text": [
      "c:\\Users\\chavv\\anaconda\\envs\\telangana\\lib\\site-packages\\ee\\deprecation.py:207: DeprecationWarning: \n",
      "\n",
      "Attention required for COPERNICUS/S2! You are using a deprecated asset.\n",
      "To ensure continued functionality, please update it.\n",
      "Learn more: https://developers.google.com/earth-engine/datasets/catalog/COPERNICUS_S2\n",
      "\n",
      "  warnings.warn(warning, category=DeprecationWarning)\n",
      "Downloading Images:   0%|          | 0/10606 [00:00<?, ?image/s]"
     ]
    },
    {
     "name": "stdout",
     "output_type": "stream",
     "text": [
      "Generating URL ...\n",
      "Generating URL ...\n",
      "Generating URL ...\n",
      "Generating URL ...\n",
      "Generating URL ...\n",
      "Generating URL ...\n",
      "Generating URL ...\n",
      "Downloading data from https://earthengine.googleapis.com/v1/projects/234865683480/thumbnails/36599e1f6755595e3e9407b3f187f43b-05ecc8bcf41a90e853723e9d0f194b8f:getPixels\n",
      "Please wait ...\n",
      "Downloading data from https://earthengine.googleapis.com/v1/projects/234865683480/thumbnails/411a08d4a06cb728177422cf7c44e805-d9204d11cf3e09c5e397e250e27d681d:getPixels\n",
      "Please wait ...\n"
     ]
    },
    {
     "name": "stderr",
     "output_type": "stream",
     "text": [
      "Downloading Images:   0%|          | 1/10606 [00:02<7:10:53,  2.44s/image]"
     ]
    },
    {
     "name": "stdout",
     "output_type": "stream",
     "text": [
      "Data downloaded to d:\\github\\telangana-crop-health\\downloads\\20240412T050649_20240412T051727_T43QHV_RGB_2023-11-25_2024-04-14.tif\n",
      "Downloaded: downloads/20240412T050649_20240412T051727_T43QHV_RGB_2023-11-25_2024-04-14.tif\n",
      "Data downloaded to d:\\github\\telangana-crop-health\\downloads\\20240517T050651_20240517T051655_T43QHV_RGB_2023-12-13_2024-05-18.tif\n",
      "Downloaded: downloads/20240517T050651_20240517T051655_T43QHV_RGB_2023-12-13_2024-05-18.tif\n",
      "Generating URL ...\n",
      "Generating URL ...\n",
      "Generating URL ...\n",
      "Generating URL ...\n",
      "Generating URL ...\n",
      "Generating URL ...\n",
      "Downloading data from https://earthengine.googleapis.com/v1/projects/234865683480/thumbnails/331ac03dbfe6d989e6e9a89b64003fdd-f310912a61ef012c8b47c16cb1b4b832:getPixels\n",
      "Please wait ...\n",
      "Downloading data from https://earthengine.googleapis.com/v1/projects/234865683480/thumbnails/d984257970740093805a54e07509d4c0-6a7cdf69286a02f8db9a358fb9858c06:getPixels\n",
      "Please wait ...\n",
      "Downloading data from https://earthengine.googleapis.com/v1/projects/234865683480/thumbnails/533b7a5685ca3a42b612fbb8a25bf238-f262ec004e26b339dfbeb15858acec16:getPixels\n",
      "Please wait ...\n",
      "Downloading data from https://earthengine.googleapis.com/v1/projects/234865683480/thumbnails/0a8f6f6521f9ae1616c66b97e810c923-a04adbefb9ea81356dc30ed095d18c72:getPixels\n",
      "Please wait ...\n",
      "Downloading data from https://earthengine.googleapis.com/v1/projects/234865683480/thumbnails/e7d7ffe45af618647515d889ad3cac56-554d03e713fb8c0ece68978d59546e04:getPixels\n",
      "Please wait ...\n",
      "Downloading data from https://earthengine.googleapis.com/v1/projects/234865683480/thumbnails/494db9f1a9f7972a6e4902269fbbe321-290cc1cf80f56264e5043bd6b9171959:getPixels\n",
      "Please wait ...\n",
      "Generating URL ...\n"
     ]
    },
    {
     "name": "stderr",
     "output_type": "stream",
     "text": [
      "Downloading Images:   0%|          | 6/10606 [00:06<2:33:40,  1.15image/s]"
     ]
    },
    {
     "name": "stdout",
     "output_type": "stream",
     "text": [
      "Data downloaded to d:\\github\\telangana-crop-health\\downloads\\20240427T050651_20240427T051439_T43QHV_RGB_2023-12-19_2024-04-28.tif\n",
      "Downloaded: downloads/20240427T050651_20240427T051439_T43QHV_RGB_2023-12-19_2024-04-28.tif\n",
      "Data downloaded to d:\\github\\telangana-crop-health\\downloads\\20240517T050651_20240517T051655_T43QHV_RGB_2023-12-12_2024-05-19.tif\n",
      "Downloaded: downloads/20240517T050651_20240517T051655_T43QHV_RGB_2023-12-12_2024-05-19.tif\n",
      "Data downloaded to d:\\github\\telangana-crop-health\\downloads\\20241004T050651_20241004T052234_T43QHV_RGB_2023-10-12_2024-10-05.tif\n",
      "Downloaded: downloads/20241004T050651_20241004T052234_T43QHV_RGB_2023-10-12_2024-10-05.tif\n",
      "Downloading data from https://earthengine.googleapis.com/v1/projects/234865683480/thumbnails/4b3f0dfb52d4997fdb8be8c44e137a83-672718501fa951b390c30402cc280856:getPixels\n",
      "Please wait ...\n",
      "Data downloaded to d:\\github\\telangana-crop-health\\downloads\\20240425T051649_20240425T052817_T43QHV_RGB_2023-11-13_2024-04-26.tif\n",
      "Downloaded: downloads/20240425T051649_20240425T052817_T43QHV_RGB_2023-11-13_2024-04-26.tif\n",
      "Data downloaded to d:\\github\\telangana-crop-health\\downloads\\20240512T050649_20240512T051901_T43QHV_RGB_2023-09-11_2024-05-13.tif\n",
      "Downloaded: downloads/20240512T050649_20240512T051901_T43QHV_RGB_2023-09-11_2024-05-13.tif\n",
      "Downloading data from https://earthengine.googleapis.com/v1/projects/234865683480/thumbnails/73070c4376a7da033c1ff41ad61de553-28c6dbcc7bc3631357249c460fb86ce5:getPixels\n",
      "Please wait ...\n",
      "Downloading data from https://earthengine.googleapis.com/v1/projects/234865683480/thumbnails/945da3761a4ccc8065a6d5a40ea5c202-864a3b5b58a2c9ad456b1583f9cb4fe4:getPixels\n",
      "Please wait ...\n",
      "Downloading data from https://earthengine.googleapis.com/v1/projects/234865683480/thumbnails/46d4495e2dc8db22ab565f7627d8bc95-8c7c7dcc1ee6118f569e309f87eee217:getPixels\n",
      "Please wait ...\n",
      "Downloading data from https://earthengine.googleapis.com/v1/projects/234865683480/thumbnails/9adacdbe57d93ddcb6a22a2b38745192-b49bdc1a7c74d9cc413db2c12ffd1ed7:getPixels\n",
      "Please wait ...\n"
     ]
    },
    {
     "name": "stderr",
     "output_type": "stream",
     "text": [
      "Downloading Images:   0%|          | 8/10606 [00:06<1:41:18,  1.74image/s]"
     ]
    },
    {
     "name": "stdout",
     "output_type": "stream",
     "text": [
      "Data downloaded to d:\\github\\telangana-crop-health\\downloads\\20240527T050651_20240527T051452_T43QHV_RGB_2023-02-12_2024-05-29.tif\n",
      "Downloaded: downloads/20240527T050651_20240527T051452_T43QHV_RGB_2023-02-12_2024-05-29.tif\n"
     ]
    },
    {
     "name": "stderr",
     "output_type": "stream",
     "text": [
      "Downloading Images:   0%|          | 10/10606 [00:07<1:19:47,  2.21image/s]"
     ]
    },
    {
     "name": "stdout",
     "output_type": "stream",
     "text": [
      "Generating URL ...\n",
      "Generating URL ...\n",
      "Downloading data from https://earthengine.googleapis.com/v1/projects/234865683480/thumbnails/85601e9b8ce5291d6ec1da5e977390d0-50db8459471a2470103b1304738da0b0:getPixels\n",
      "Please wait ...\n",
      "Generating URL ...\n",
      "Data downloaded to d:\\github\\telangana-crop-health\\downloads\\20240420T051651_20240420T052641_T43QHV_RGB_2023-10-12_2024-04-22.tif\n",
      "Downloaded: downloads/20240420T051651_20240420T052641_T43QHV_RGB_2023-10-12_2024-04-22.tif\n",
      "Data downloaded to d:\\github\\telangana-crop-health\\downloads\\20240402T050649_20240402T051718_T43QHV_RGB_2023-12-14_2024-04-04.tif\n",
      "Downloaded: downloads/20240402T050649_20240402T051718_T43QHV_RGB_2023-12-14_2024-04-04.tif\n",
      "Data downloaded to d:\\github\\telangana-crop-health\\downloads\\20240527T050651_20240527T051452_T43QHV_RGB_2023-11-20_2024-05-30.tif\n",
      "Downloaded: downloads/20240527T050651_20240527T051452_T43QHV_RGB_2023-11-20_2024-05-30.tif\n",
      "Data downloaded to d:\\github\\telangana-crop-health\\downloads\\20240512T050649_20240512T051901_T43QHV_RGB_2023-12-28_2024-05-14.tif\n",
      "Downloaded: downloads/20240512T050649_20240512T051901_T43QHV_RGB_2023-12-28_2024-05-14.tif\n",
      "Data downloaded to d:\\github\\telangana-crop-health\\downloads\\20240412T050649_20240412T051727_T43QHV_RGB_2023-06-12_2024-04-15.tif\n",
      "Downloaded: downloads/20240412T050649_20240412T051727_T43QHV_RGB_2023-06-12_2024-04-15.tif\n",
      "Generating URL ...\n"
     ]
    },
    {
     "name": "stderr",
     "output_type": "stream",
     "text": [
      "Downloading Images:   0%|          | 14/10606 [00:07<50:52,  3.47image/s]  "
     ]
    },
    {
     "name": "stdout",
     "output_type": "stream",
     "text": [
      "Data downloaded to d:\\github\\telangana-crop-health\\downloads\\20241103T050951_20241103T052004_T43QHV_RGB_2023-02-11_2024-11-04.tif\n",
      "Downloaded: downloads/20241103T050951_20241103T052004_T43QHV_RGB_2023-02-11_2024-11-04.tif\n",
      "Downloading data from https://earthengine.googleapis.com/v1/projects/234865683480/thumbnails/81b170dd0973c577dafdb261d7eec945-9717ff2693444ecca23e787edfe97f42:getPixels\n",
      "Please wait ...\n",
      "Generating URL ...\n",
      "Generating URL ...\n",
      "Downloading data from https://earthengine.googleapis.com/v1/projects/234865683480/thumbnails/9aa821db070162af31babc88354f1723-7ac47fb6b7c5bc994ba9b933a2fcc07d:getPixels\n",
      "Please wait ...\n",
      "Generating URL ...\n",
      "Generating URL ...\n",
      "Generating URL ...\n"
     ]
    },
    {
     "name": "stderr",
     "output_type": "stream",
     "text": [
      "Downloading Images:   0%|          | 15/10606 [00:08<59:33,  2.96image/s]"
     ]
    },
    {
     "name": "stdout",
     "output_type": "stream",
     "text": [
      "Data downloaded to d:\\github\\telangana-crop-health\\downloads\\20240417T050651_20240417T051251_T43QHV_RGB_2023-12-11_2024-04-19.tif\n",
      "Downloaded: downloads/20240417T050651_20240417T051251_T43QHV_RGB_2023-12-11_2024-04-19.tif\n",
      "Generating URL ...\n",
      "Data downloaded to d:\\github\\telangana-crop-health\\downloads\\20240417T050651_20240417T051251_T43QHV_RGB_2023-12-18_2024-04-20.tif\n",
      "Downloaded: downloads/20240417T050651_20240417T051251_T43QHV_RGB_2023-12-18_2024-04-20.tif\n",
      "Generating URL ...\n",
      "Downloading data from https://earthengine.googleapis.com/v1/projects/234865683480/thumbnails/ae05129e0c218264e0ac8c6b34c2797e-70f842a09b09b6c31e69238c28e48d7a:getPixels\n",
      "Please wait ...\n",
      "Downloading data from https://earthengine.googleapis.com/v1/projects/234865683480/thumbnails/ab07a257eeb7d407b1381e71734c66e0-3bdaa414f50227db825ce841dd057c39:getPixels\n",
      "Please wait ...\n",
      "Downloading data from https://earthengine.googleapis.com/v1/projects/234865683480/thumbnails/4f4697350dec51e4a8c75032877d1539-6ac1afa5ca97c7b6845a6f5cf7286138:getPixels\n",
      "Please wait ...\n",
      "Downloading data from https://earthengine.googleapis.com/v1/projects/234865683480/thumbnails/ebb6e6deca9023b401b1acffc1de3231-f129345a7af2fcded3ca5b9d57a73819:getPixels\n",
      "Please wait ...\n",
      "Downloading data from https://earthengine.googleapis.com/v1/projects/234865683480/thumbnails/c7dc27d934334b03847f6ac7489d723f-8409151462979829ddfc2eb298884b41:getPixels\n",
      "Please wait ...\n",
      "Generating URL ...\n"
     ]
    },
    {
     "name": "stderr",
     "output_type": "stream",
     "text": [
      "Downloading Images:   0%|          | 17/10606 [00:09<59:27,  2.97image/s]"
     ]
    },
    {
     "name": "stdout",
     "output_type": "stream",
     "text": [
      "Generating URL ...\n",
      "Downloading data from https://earthengine.googleapis.com/v1/projects/234865683480/thumbnails/0fbffc4426a48be10c325454c24c9376-1971b009305dbccb768cc4fd36ccf67a:getPixels\n",
      "Please wait ...\n",
      "Data downloaded to d:\\github\\telangana-crop-health\\downloads\\20240601T050649_20240601T051727_T43QHV_RGB_2023-11-11_2024-06-04.tif\n",
      "Downloaded: downloads/20240601T050649_20240601T051727_T43QHV_RGB_2023-11-11_2024-06-04.tif\n",
      "Downloading data from https://earthengine.googleapis.com/v1/projects/234865683480/thumbnails/72c1073954879de60fa4ba513daa66e9-496c7b218a7eaf3be21147b28d9b5a54:getPixels\n",
      "Please wait ...\n",
      "Downloading data from https://earthengine.googleapis.com/v1/projects/234865683480/thumbnails/7d2d0ee5c8d063b7c72728dcc76d3995-e92cb946868d24b6a10bb559661c2627:getPixels\n",
      "Please wait ...\n",
      "Downloading data from https://earthengine.googleapis.com/v1/projects/234865683480/thumbnails/967f9dc4a4e12c849fdf54d60af9f032-f88f0a00fb90aa662fdb11947e87f0dc:getPixels\n",
      "Please wait ...\n"
     ]
    },
    {
     "name": "stderr",
     "output_type": "stream",
     "text": [
      "Downloading Images:   0%|          | 20/10606 [00:09<39:42,  4.44image/s]"
     ]
    },
    {
     "name": "stdout",
     "output_type": "stream",
     "text": [
      "Data downloaded to d:\\github\\telangana-crop-health\\downloads\\20240704T051659_20240704T053003_T43QHV_RGB_2023-11-11_2024-07-05.tif\n",
      "Downloaded: downloads/20240704T051659_20240704T053003_T43QHV_RGB_2023-11-11_2024-07-05.tif\n",
      "Data downloaded to d:\\github\\telangana-crop-health\\downloads\\20240527T050651_20240527T051452_T43QHV_RGB_2023-04-12_2024-05-28.tif\n",
      "Downloaded: downloads/20240527T050651_20240527T051452_T43QHV_RGB_2023-04-12_2024-05-28.tif\n",
      "Data downloaded to d:\\github\\telangana-crop-health\\downloads\\20240427T050651_20240427T051439_T43QHV_RGB_2023-12-20_2024-04-28.tif\n",
      "Downloaded: downloads/20240427T050651_20240427T051439_T43QHV_RGB_2023-12-20_2024-04-28.tif\n"
     ]
    },
    {
     "name": "stderr",
     "output_type": "stream",
     "text": [
      "Downloading Images:   0%|          | 24/10606 [00:09<26:28,  6.66image/s]"
     ]
    },
    {
     "name": "stdout",
     "output_type": "stream",
     "text": [
      "Downloading data from https://earthengine.googleapis.com/v1/projects/234865683480/thumbnails/048bf3e09c74d2b24fb8cbbb3926b908-09a474ed619f11b2ebf86ccd1ee575ac:getPixels\n",
      "Please wait ...\n",
      "Generating URL ...\n",
      "Downloading data from https://earthengine.googleapis.com/v1/projects/234865683480/thumbnails/cac055ea9e695e16b7edd68d06f16bef-0acf7537afa1fee474e6a7f51588c2d6:getPixels\n",
      "Please wait ...\n",
      "Data downloaded to d:\\github\\telangana-crop-health\\downloads\\20240522T050649_20240522T051545_T43QHV_RGB_2023-12-23_2024-05-24.tif\n",
      "Downloaded: downloads/20240522T050649_20240522T051545_T43QHV_RGB_2023-12-23_2024-05-24.tif\n",
      "Data downloaded to d:\\github\\telangana-crop-health\\downloads\\20240527T050651_20240527T051452_T43QHV_RGB_2023-02-11_2024-05-30.tif\n",
      "Downloaded: downloads/20240527T050651_20240527T051452_T43QHV_RGB_2023-02-11_2024-05-30.tif\n",
      "Data downloaded to d:\\github\\telangana-crop-health\\downloads\\20240517T050651_20240517T051655_T43QHV_RGB_2023-01-11_2024-05-20.tif\n",
      "Downloaded: downloads/20240517T050651_20240517T051655_T43QHV_RGB_2023-01-11_2024-05-20.tif\n",
      "Generating URL ...\n",
      "Data downloaded to d:\\github\\telangana-crop-health\\downloads\\20240517T050651_20240517T051655_T43QHV_RGB_2023-01-11_2024-05-19.tif\n",
      "Downloaded: downloads/20240517T050651_20240517T051655_T43QHV_RGB_2023-01-11_2024-05-19.tif\n",
      "Generating URL ...\n",
      "Generating URL ...\n",
      "Data downloaded to d:\\github\\telangana-crop-health\\downloads\\20240422T050649_20240422T051633_T43QHV_RGB_2023-11-21_2024-04-24.tif\n",
      "Downloaded: downloads/20240422T050649_20240422T051633_T43QHV_RGB_2023-11-21_2024-04-24.tif\n"
     ]
    },
    {
     "name": "stderr",
     "output_type": "stream",
     "text": [
      "Downloading Images:   0%|          | 26/10606 [00:10<29:33,  5.96image/s]"
     ]
    },
    {
     "name": "stdout",
     "output_type": "stream",
     "text": [
      "Generating URL ...\n",
      "Data downloaded to d:\\github\\telangana-crop-health\\downloads\\20240422T050649_20240422T051633_T43QHV_RGB_2023-10-12_2024-04-23.tif\n",
      "Downloaded: downloads/20240422T050649_20240422T051633_T43QHV_RGB_2023-10-12_2024-04-23.tif\n",
      "Generating URL ...\n",
      "Generating URL ...\n",
      "Downloading data from https://earthengine.googleapis.com/v1/projects/234865683480/thumbnails/70db175545a60f26b32f8810d6c78bdf-fcf1ae1eae352d3b1d3ebba5de6a5b6a:getPixels\n",
      "Please wait ...\n",
      "Generating URL ...\n"
     ]
    },
    {
     "name": "stderr",
     "output_type": "stream",
     "text": [
      "Downloading Images:   0%|          | 27/10606 [00:10<31:47,  5.55image/s]"
     ]
    },
    {
     "name": "stdout",
     "output_type": "stream",
     "text": [
      "Downloading data from https://earthengine.googleapis.com/v1/projects/234865683480/thumbnails/2992d045e0b6154772dced5a28adba94-e9a750da73b82157b5198382e486755c:getPixels\n",
      "Please wait ...\n",
      "Data downloaded to d:\\github\\telangana-crop-health\\downloads\\20240103T051219_20240103T052207_T43QHV_RGB_2023-12-24_2024-01-04.tif\n",
      "Downloaded: downloads/20240103T051219_20240103T052207_T43QHV_RGB_2023-12-24_2024-01-04.tif\n",
      "Generating URL ...\n",
      "Downloading data from https://earthengine.googleapis.com/v1/projects/234865683480/thumbnails/66dc1a2d77ab0486016089b46a3476d5-7f98c202cfe2f1b1a4600d3fc58180dd:getPixels\n",
      "Please wait ...\n",
      "Downloading data from https://earthengine.googleapis.com/v1/projects/234865683480/thumbnails/aa8acc4f6ac459a7cf37254d9ad49a36-8703d0da770411e8a4d76b17e989e733:getPixels\n",
      "Please wait ...\n",
      "Downloading data from https://earthengine.googleapis.com/v1/projects/234865683480/thumbnails/24a17fbcb9845c6a099590294447f251-ea608bda0c9ba4f9051d2b0092177e21:getPixels\n",
      "Please wait ...\n",
      "Generating URL ...\n",
      "Generating URL ...\n",
      "Downloading data from https://earthengine.googleapis.com/v1/projects/234865683480/thumbnails/b7c817a6b384b53549b96db682e7acd4-42aa59ec5b4b752240d3000c71d41b64:getPixels\n",
      "Please wait ...\n"
     ]
    },
    {
     "name": "stderr",
     "output_type": "stream",
     "text": [
      "Downloading Images:   0%|          | 28/10606 [00:10<42:31,  4.15image/s]"
     ]
    },
    {
     "name": "stdout",
     "output_type": "stream",
     "text": [
      "Data downloaded to d:\\github\\telangana-crop-health\\downloads\\20240517T050651_20240517T051655_T43QHV_RGB_2023-11-20_2024-05-20.tif\n",
      "Downloaded: downloads/20240517T050651_20240517T051655_T43QHV_RGB_2023-11-20_2024-05-20.tif\n",
      "Data downloaded to d:\\github\\telangana-crop-health\\downloads\\20240517T050651_20240517T051655_T43QHV_RGB_2023-12-27_2024-05-22.tif\n",
      "Downloaded: downloads/20240517T050651_20240517T051655_T43QHV_RGB_2023-12-27_2024-05-22.tif\n",
      "Downloading data from https://earthengine.googleapis.com/v1/projects/234865683480/thumbnails/bdf8224f259b95077bb825d922e86e45-2f27640bfdee32c4411d67d49c3dc5c4:getPixels\n",
      "Please wait ...\n",
      "Downloading data from https://earthengine.googleapis.com/v1/projects/234865683480/thumbnails/3a38dedc941dc330d2d638b1047a5cd6-3c9a80c3a400637d9e6660dbd21e9300:getPixels\n",
      "Please wait ...\n",
      "Generating URL ...\n",
      "Downloading data from https://earthengine.googleapis.com/v1/projects/234865683480/thumbnails/9d03e876ba8fb18f9aff4c5385ee6fbf-8c4d50c5cf1b1d5188aeaeb99e7c99f9:getPixels\n",
      "Please wait ...\n"
     ]
    },
    {
     "name": "stderr",
     "output_type": "stream",
     "text": [
      "Downloading Images:   0%|          | 30/10606 [00:11<36:19,  4.85image/s]"
     ]
    },
    {
     "name": "stdout",
     "output_type": "stream",
     "text": [
      "Data downloaded to d:\\github\\telangana-crop-health\\downloads\\20240412T050649_20240412T051727_T43QHV_RGB_2023-02-12_2024-04-16.tif\n",
      "Downloaded: downloads/20240412T050649_20240412T051727_T43QHV_RGB_2023-02-12_2024-04-16.tif\n",
      "Data downloaded to d:\\github\\telangana-crop-health\\downloads\\20240522T050649_20240522T051545_T43QHV_RGB_2023-12-27_2024-05-27.tif\n",
      "Downloaded: downloads/20240522T050649_20240522T051545_T43QHV_RGB_2023-12-27_2024-05-27.tif\n",
      "Downloading data from https://earthengine.googleapis.com/v1/projects/234865683480/thumbnails/80a84fd5bba67559dcab6e1ea4c5fe1c-298a3db5ea8921dccb32d6b292641688:getPixels\n",
      "Please wait ...\n"
     ]
    },
    {
     "name": "stderr",
     "output_type": "stream",
     "text": [
      "Downloading Images:   0%|          | 32/10606 [00:11<33:07,  5.32image/s]"
     ]
    },
    {
     "name": "stdout",
     "output_type": "stream",
     "text": [
      "Downloading data from https://earthengine.googleapis.com/v1/projects/234865683480/thumbnails/aafb11e780ec8202d7260853f7c3be24-e18c43c3defafb3c31cf697fa41f2695:getPixels\n",
      "Please wait ...\n",
      "Generating URL ...\n",
      "Data downloaded to d:\\github\\telangana-crop-health\\downloads\\20240512T050649_20240512T051901_T43QHV_RGB_2023-11-19_2024-05-15.tif\n",
      "Downloaded: downloads/20240512T050649_20240512T051901_T43QHV_RGB_2023-11-19_2024-05-15.tif\n",
      "Data downloaded to d:\\github\\telangana-crop-health\\downloads\\20240422T050649_20240422T051633_T43QHV_RGB_2023-04-12_2024-04-23.tif\n",
      "Data downloaded to d:\\github\\telangana-crop-health\\downloads\\20240522T050649_20240522T051545_T43QHV_RGB_2023-11-24_2024-05-25.tif\n",
      "Downloaded: downloads/20240422T050649_20240422T051633_T43QHV_RGB_2023-04-12_2024-04-23.tif\n",
      "Downloaded: downloads/20240522T050649_20240522T051545_T43QHV_RGB_2023-11-24_2024-05-25.tif\n",
      "Data downloaded to d:\\github\\telangana-crop-health\\downloads\\20240103T051219_20240103T052207_T43QHV_RGB_2023-12-28_2024-01-05.tif\n",
      "Downloaded: downloads/20240103T051219_20240103T052207_T43QHV_RGB_2023-12-28_2024-01-05.tif\n"
     ]
    },
    {
     "name": "stderr",
     "output_type": "stream",
     "text": [
      "Downloading Images:   0%|          | 36/10606 [00:11<25:46,  6.84image/s]"
     ]
    },
    {
     "name": "stdout",
     "output_type": "stream",
     "text": [
      "Downloading data from https://earthengine.googleapis.com/v1/projects/234865683480/thumbnails/8cd4ca7852b781896ad49f3a7eb0e755-d7b375349bd38e78113c2467543a935d:getPixels\n",
      "Please wait ...\n",
      "Generating URL ...\n",
      "Generating URL ...\n",
      "Data downloaded to d:\\github\\telangana-crop-health\\downloads\\20240427T050651_20240427T051439_T43QHV_RGB_2023-09-12_2024-04-30.tif\n",
      "Downloaded: downloads/20240427T050651_20240427T051439_T43QHV_RGB_2023-09-12_2024-04-30.tif\n"
     ]
    },
    {
     "name": "stderr",
     "output_type": "stream",
     "text": [
      "Downloading Images:   0%|          | 37/10606 [00:12<24:41,  7.13image/s]"
     ]
    },
    {
     "name": "stdout",
     "output_type": "stream",
     "text": [
      "Data downloaded to d:\\github\\telangana-crop-health\\downloads\\20240422T050649_20240422T051633_T43QHV_RGB_2023-07-11_2024-04-24.tif\n",
      "Downloaded: downloads/20240422T050649_20240422T051633_T43QHV_RGB_2023-07-11_2024-04-24.tif\n",
      "Generating URL ...\n",
      "Generating URL ...\n",
      "Generating URL ...\n",
      "Generating URL ...\n",
      "Data downloaded to d:\\github\\telangana-crop-health\\downloads\\20240522T050649_20240522T051545_T43QHV_RGB_2023-03-12_2024-05-26.tif\n",
      "Downloaded: downloads/20240522T050649_20240522T051545_T43QHV_RGB_2023-03-12_2024-05-26.tif\n"
     ]
    },
    {
     "name": "stderr",
     "output_type": "stream",
     "text": [
      "Downloading Images:   0%|          | 39/10606 [00:12<27:58,  6.30image/s]"
     ]
    },
    {
     "name": "stdout",
     "output_type": "stream",
     "text": [
      "Downloading data from https://earthengine.googleapis.com/v1/projects/234865683480/thumbnails/dab0b5360078949677561ab433d72c43-385029018c75647d9a1309ab6084c9d8:getPixels\n",
      "Please wait ...\n",
      "Data downloaded to d:\\github\\telangana-crop-health\\downloads\\20240527T050651_20240527T051452_T43QHV_RGB_2023-12-22_2024-05-30.tif\n",
      "Downloaded: downloads/20240527T050651_20240527T051452_T43QHV_RGB_2023-12-22_2024-05-30.tif\n",
      "Generating URL ...\n",
      "Downloading data from https://earthengine.googleapis.com/v1/projects/234865683480/thumbnails/c5e1d80058e3b764b2fe9607739030c3-a72653fb7d35677c10a0bfe187c43bbc:getPixels\n",
      "Please wait ...\n",
      "Generating URL ...\n",
      "Downloading data from https://earthengine.googleapis.com/v1/projects/234865683480/thumbnails/3f7c03603fd788244a190ea6b7c6e61f-a585e7bcdd96d81140a282b12123f9aa:getPixels\n",
      "Please wait ...\n",
      "Generating URL ...\n"
     ]
    },
    {
     "name": "stderr",
     "output_type": "stream",
     "text": [
      "Downloading Images:   0%|          | 40/10606 [00:12<36:43,  4.79image/s]"
     ]
    },
    {
     "name": "stdout",
     "output_type": "stream",
     "text": [
      "Downloading data from https://earthengine.googleapis.com/v1/projects/234865683480/thumbnails/f740f6c12c0a1bb74a04571affdbe200-67d6387e83a4ad680fdb7f2653ff663a:getPixels\n",
      "Please wait ...\n",
      "Generating URL ...\n",
      "Downloading data from https://earthengine.googleapis.com/v1/projects/234865683480/thumbnails/1fab1b478e607c047515cc4e587e4a71-44bcccd472eef785c8c32106624ba3e0:getPixels\n",
      "Please wait ...\n",
      "Downloading data from https://earthengine.googleapis.com/v1/projects/234865683480/thumbnails/ae5a7f4e4324f3f16b18ed1b13f7007f-de716c651571ac4e99fb3040b2aee5ac:getPixels\n",
      "Please wait ...\n",
      "Data downloaded to d:\\github\\telangana-crop-health\\downloads\\20240904T050651_20240904T052128_T43QHV_RGB_2023-11-27_2024-09-05.tif\n",
      "Downloaded: downloads/20240904T050651_20240904T052128_T43QHV_RGB_2023-11-27_2024-09-05.tif\n",
      "Downloading data from https://earthengine.googleapis.com/v1/projects/234865683480/thumbnails/de5cb9e9cc8d72d9a10ef91a81340fc7-a5d5198530f103e721c5e4016f7a0ed1:getPixels\n",
      "Please wait ...\n"
     ]
    },
    {
     "name": "stderr",
     "output_type": "stream",
     "text": [
      "Downloading Images:   0%|          | 42/10606 [00:13<32:23,  5.43image/s]"
     ]
    },
    {
     "name": "stdout",
     "output_type": "stream",
     "text": [
      "Data downloaded to d:\\github\\telangana-crop-health\\downloads\\20240522T050649_20240522T051545_T43QHV_RGB_2023-12-11_2024-05-25.tif\n",
      "Downloaded: downloads/20240522T050649_20240522T051545_T43QHV_RGB_2023-12-11_2024-05-25.tif\n",
      "Downloading data from https://earthengine.googleapis.com/v1/projects/234865683480/thumbnails/d995467a9821b5bc5bb468725ddce793-f03b2135001291e19c747207977187bc:getPixels\n",
      "Please wait ...\n",
      "Downloading data from https://earthengine.googleapis.com/v1/projects/234865683480/thumbnails/b28c2e38a058f90a723162258fe9a809-c3720f711c4c6c28b98154bfbc144414:getPixels\n",
      "Please wait ...\n",
      "Data downloaded to d:\\github\\telangana-crop-health\\downloads\\20240202T051029_20240202T052012_T43QHV_RGB_2023-05-12_2024-02-04.tif\n",
      "Downloaded: downloads/20240202T051029_20240202T052012_T43QHV_RGB_2023-05-12_2024-02-04.tif\n"
     ]
    },
    {
     "name": "stderr",
     "output_type": "stream",
     "text": [
      "Downloading Images:   0%|          | 45/10606 [00:13<20:59,  8.38image/s]"
     ]
    },
    {
     "name": "stdout",
     "output_type": "stream",
     "text": [
      "Downloading data from https://earthengine.googleapis.com/v1/projects/234865683480/thumbnails/03f53d71fdf8dd0eb9ee83a204a53dbb-9c4bc36428d229957a0a3e3f8889ee05:getPixels\n",
      "Please wait ...\n",
      "Data downloaded to d:\\github\\telangana-crop-health\\downloads\\20240527T050651_20240527T051452_T43QHV_RGB_2023-11-13_2024-05-30.tif\n",
      "Downloaded: downloads/20240527T050651_20240527T051452_T43QHV_RGB_2023-11-13_2024-05-30.tif\n",
      "Data downloaded to d:\\github\\telangana-crop-health\\downloads\\20240522T050649_20240522T051545_T43QHV_RGB_2023-10-11_2024-05-24.tif\n",
      "Downloaded: downloads/20240522T050649_20240522T051545_T43QHV_RGB_2023-10-11_2024-05-24.tif\n",
      "Downloading data from https://earthengine.googleapis.com/v1/projects/234865683480/thumbnails/3452841a0324924caacb11c6dfa4ea0d-bcb192e23566ffa7b4d566f0e6df78dc:getPixels\n",
      "Please wait ...\n",
      "Data downloaded to d:\\github\\telangana-crop-health\\downloads\\20240904T050651_20240904T052128_T43QHV_RGB_2023-11-13_2024-09-05.tif\n",
      "Downloaded: downloads/20240904T050651_20240904T052128_T43QHV_RGB_2023-11-13_2024-09-05.tif\n",
      "Data downloaded to d:\\github\\telangana-crop-health\\downloads\\20240502T050649_20240502T051513_T44QKE_RGB_2023-12-25_2024-05-04.tif\n",
      "Downloaded: downloads/20240502T050649_20240502T051513_T44QKE_RGB_2023-12-25_2024-05-04.tif\n",
      "Generating URL ...\n"
     ]
    },
    {
     "name": "stderr",
     "output_type": "stream",
     "text": [
      "Downloading Images:   0%|          | 49/10606 [00:13<17:26, 10.09image/s]"
     ]
    },
    {
     "name": "stdout",
     "output_type": "stream",
     "text": [
      "Generating URL ...\n",
      "Data downloaded to d:\\github\\telangana-crop-health\\downloads\\20240202T051029_20240202T052012_T43QHV_RGB_2023-11-15_2024-02-05.tif\n",
      "Downloaded: downloads/20240202T051029_20240202T052012_T43QHV_RGB_2023-11-15_2024-02-05.tif\n",
      "Data downloaded to d:\\github\\telangana-crop-health\\downloads\\20240517T050651_20240517T051655_T44QKE_RGB_2023-12-11_2024-05-18.tif\n",
      "Downloaded: downloads/20240517T050651_20240517T051655_T44QKE_RGB_2023-12-11_2024-05-18.tif\n",
      "Data downloaded to d:\\github\\telangana-crop-health\\downloads\\20240527T050651_20240527T051452_T43QHV_RGB_2023-11-27_2024-05-28.tif\n",
      "Downloaded: downloads/20240527T050651_20240527T051452_T43QHV_RGB_2023-11-27_2024-05-28.tif\n",
      "Generating URL ...\n",
      "Data downloaded to d:\\github\\telangana-crop-health\\downloads\\20240412T050649_20240412T051727_T43QHV_RGB_2023-12-25_2024-04-13.tif\n",
      "Downloaded: downloads/20240412T050649_20240412T051727_T43QHV_RGB_2023-12-25_2024-04-13.tif\n",
      "Generating URL ...\n",
      "Generating URL ...\n",
      "Generating URL ...\n",
      "Generating URL ...\n",
      "Generating URL ...\n",
      "Generating URL ...\n",
      "Generating URL ...\n",
      "Downloading data from https://earthengine.googleapis.com/v1/projects/234865683480/thumbnails/f44a456c1df02252534bf5a7593311ca-d521058232cbb9146ab4c64dc749df56:getPixels\n",
      "Please wait ...\n",
      "Generating URL ...\n",
      "Generating URL ...\n",
      "Downloading data from https://earthengine.googleapis.com/v1/projects/234865683480/thumbnails/5fe25694ecd061e9ae2f406a48b52643-14bdea38fbe7090113d2eab2588cfea5:getPixels\n",
      "Please wait ...\n",
      "Downloading data from https://earthengine.googleapis.com/v1/projects/234865683480/thumbnails/d11ed7068f4266328cfa9d9512ded558-fbbdc97e9b4301102eb6f8c7f6f5d3ea:getPixels\n",
      "Please wait ...\n",
      "Downloading data from https://earthengine.googleapis.com/v1/projects/234865683480/thumbnails/6673feceb48b2ad4074592bc9ba53539-62acac6c444b7474fbfc3357c3ae185b:getPixels\n",
      "Please wait ...\n",
      "Downloading data from https://earthengine.googleapis.com/v1/projects/234865683480/thumbnails/6bd27a3777aed9501cc9bcbd8ff9026c-775f832b752183b5168a6fd0e635abdd:getPixels\n",
      "Please wait ...\n"
     ]
    },
    {
     "name": "stderr",
     "output_type": "stream",
     "text": [
      "Downloading Images:   0%|          | 51/10606 [00:14<40:59,  4.29image/s]"
     ]
    },
    {
     "name": "stdout",
     "output_type": "stream",
     "text": [
      "Downloading data from https://earthengine.googleapis.com/v1/projects/234865683480/thumbnails/fc45f2b4fb4cf46dd1d0d1333c51153e-e1a334800980328c212ce5b5849790ec:getPixels\n",
      "Please wait ...\n",
      "Downloading data from https://earthengine.googleapis.com/v1/projects/234865683480/thumbnails/2d18014c37e65e708c9e7ecc34734e4d-a5e25c3d0929bed72e5c69f85dabfe05:getPixels\n",
      "Please wait ...\n",
      "Data downloaded to d:\\github\\telangana-crop-health\\downloads\\20240522T050649_20240522T051545_T43QHV_RGB_2023-10-12_2024-05-24.tif\n",
      "Downloaded: downloads/20240522T050649_20240522T051545_T43QHV_RGB_2023-10-12_2024-05-24.tif\n",
      "Downloading data from https://earthengine.googleapis.com/v1/projects/234865683480/thumbnails/458f816cfb15929f0ea418a1e1e24d31-955e9535d92b5f97d2f895c45feb7afe:getPixels\n",
      "Please wait ...\n",
      "Downloading data from https://earthengine.googleapis.com/v1/projects/234865683480/thumbnails/467b19abf123ccfee735f439c5e92905-8dffddb55937a645bbe404f9afd5e8da:getPixels\n",
      "Please wait ...\n"
     ]
    },
    {
     "name": "stderr",
     "output_type": "stream",
     "text": [
      "Downloading Images:   0%|          | 52/10606 [00:15<42:46,  4.11image/s]"
     ]
    },
    {
     "name": "stdout",
     "output_type": "stream",
     "text": [
      "Downloading data from https://earthengine.googleapis.com/v1/projects/234865683480/thumbnails/7659b20b9e8ce1edb2d2baa6477777a3-1e06aa167d15220337686436005a978c:getPixels\n",
      "Please wait ...\n",
      "Downloading data from https://earthengine.googleapis.com/v1/projects/234865683480/thumbnails/1052cbae4821b3386213b6f84845d301-cfe45f70fffe863e3a5c93205ece4a64:getPixels\n",
      "Please wait ...\n",
      "Data downloaded to d:\\github\\telangana-crop-health\\downloads\\20240731T050649_20240731T051731_T43QHV_RGB_2023-12-30_2024-08-04.tif\n",
      "Downloaded: downloads/20240731T050649_20240731T051731_T43QHV_RGB_2023-12-30_2024-08-04.tif\n",
      "Downloading data from https://earthengine.googleapis.com/v1/projects/234865683480/thumbnails/dc281ac331047f0231c2cecb92af4ac7-2314e0734c832ebd7c419ad6c018329b:getPixels\n",
      "Please wait ...\n",
      "Data downloaded to d:\\github\\telangana-crop-health\\downloads\\20240517T050651_20240517T051655_T43QHV_RGB_2023-11-12_2024-05-21.tif\n",
      "Downloaded: downloads/20240517T050651_20240517T051655_T43QHV_RGB_2023-11-12_2024-05-21.tif\n",
      "Data downloaded to d:\\github\\telangana-crop-health\\downloads\\20240412T050649_20240412T051727_T43QHV_RGB_2023-06-12_2024-04-15.tif\n",
      "Downloaded: downloads/20240412T050649_20240412T051727_T43QHV_RGB_2023-06-12_2024-04-15.tif\n",
      "Data downloaded to d:\\github\\telangana-crop-health\\downloads\\20240422T050649_20240422T051633_T43QHV_RGB_2023-11-29_2024-04-25.tif\n",
      "Downloaded: downloads/20240422T050649_20240422T051633_T43QHV_RGB_2023-11-29_2024-04-25.tif\n"
     ]
    },
    {
     "name": "stderr",
     "output_type": "stream",
     "text": [
      "Downloading Images:   1%|          | 58/10606 [00:15<20:59,  8.37image/s]"
     ]
    },
    {
     "name": "stdout",
     "output_type": "stream",
     "text": [
      "Data downloaded to d:\\github\\telangana-crop-health\\downloads\\20240502T050649_20240502T051513_T43QHV_RGB_2023-08-12_2024-05-05.tif\n",
      "Downloaded: downloads/20240502T050649_20240502T051513_T43QHV_RGB_2023-08-12_2024-05-05.tif\n",
      "Data downloaded to d:\\github\\telangana-crop-health\\downloads\\20240422T050649_20240422T051633_T43QHV_RGB_2023-11-13_2024-04-23.tif\n",
      "Downloaded: downloads/20240422T050649_20240422T051633_T43QHV_RGB_2023-11-13_2024-04-23.tif\n",
      "Generating URL ...\n",
      "Data downloaded to d:\\github\\telangana-crop-health\\downloads\\20240427T050651_20240427T051439_T43QHV_RGB_2023-12-30_2024-04-30.tif\n",
      "Downloaded: downloads/20240427T050651_20240427T051439_T43QHV_RGB_2023-12-30_2024-04-30.tif\n",
      "Data downloaded to d:\\github\\telangana-crop-health\\downloads\\20240402T050649_20240402T051718_T43QHV_RGB_2023-11-20_2024-04-04.tif\n",
      "Downloaded: downloads/20240402T050649_20240402T051718_T43QHV_RGB_2023-11-20_2024-04-04.tif\n"
     ]
    },
    {
     "name": "stderr",
     "output_type": "stream",
     "text": [
      "Downloading Images:   1%|          | 60/10606 [00:15<21:03,  8.35image/s]"
     ]
    },
    {
     "name": "stdout",
     "output_type": "stream",
     "text": [
      "Generating URL ...\n",
      "Data downloaded to d:\\github\\telangana-crop-health\\downloads\\20240303T050719_20240303T051936_T43QHV_RGB_2023-11-17_2024-03-05.tif\n",
      "Downloaded: downloads/20240303T050719_20240303T051936_T43QHV_RGB_2023-11-17_2024-03-05.tif\n",
      "Data downloaded to d:\\github\\telangana-crop-health\\downloads\\20240427T050651_20240427T051439_T43QHV_RGB_2023-03-12_2024-04-29.tif\n",
      "Downloaded: downloads/20240427T050651_20240427T051439_T43QHV_RGB_2023-03-12_2024-04-29.tif\n",
      "Generating URL ...\n",
      "Generating URL ...\n",
      "Generating URL ...\n",
      "Generating URL ...\n",
      "Generating URL ...\n",
      "Downloading data from https://earthengine.googleapis.com/v1/projects/234865683480/thumbnails/ff36fd69a329f05a4783673514dccc5e-e082881b3437fd8509a02339f5a1eb9f:getPixels\n",
      "Please wait ...\n"
     ]
    },
    {
     "name": "stderr",
     "output_type": "stream",
     "text": [
      "Downloading Images:   1%|          | 62/10606 [00:16<36:20,  4.84image/s]"
     ]
    },
    {
     "name": "stdout",
     "output_type": "stream",
     "text": [
      "Data downloaded to d:\\github\\telangana-crop-health\\downloads\\20240427T050651_20240427T051439_T43QHV_RGB_2023-12-13_2024-04-30.tif\n",
      "Downloaded: downloads/20240427T050651_20240427T051439_T43QHV_RGB_2023-12-13_2024-04-30.tif\n",
      "Data downloaded to d:\\github\\telangana-crop-health\\downloads\\20240303T050719_20240303T051936_T43QHV_RGB_2023-11-22_2024-03-04.tif\n",
      "Downloaded: downloads/20240303T050719_20240303T051936_T43QHV_RGB_2023-11-22_2024-03-04.tif\n",
      "Generating URL ...\n",
      "Generating URL ...\n",
      "Downloading data from https://earthengine.googleapis.com/v1/projects/234865683480/thumbnails/060b61e4338f4a68f00b9798deaf0c91-03bf8f2079fd9bb19e9556cb27660540:getPixels\n",
      "Please wait ...\n",
      "Generating URL ...\n",
      "Downloading data from https://earthengine.googleapis.com/v1/projects/234865683480/thumbnails/550b014a9a8bbe3f8da13ed531604aab-2e44282a6c228dc0a78776ea86a3d048:getPixels\n",
      "Please wait ...\n",
      "Downloading data from https://earthengine.googleapis.com/v1/projects/234865683480/thumbnails/41ad9297adfe9daca8000cda32a1817d-4fcd3ce654441b7e17f890e15ad6eec3:getPixels\n",
      "Please wait ...\n"
     ]
    },
    {
     "name": "stderr",
     "output_type": "stream",
     "text": [
      "Downloading Images:   1%|          | 66/10606 [00:18<50:07,  3.50image/s]  "
     ]
    },
    {
     "name": "stdout",
     "output_type": "stream",
     "text": [
      "Data downloaded to d:\\github\\telangana-crop-health\\downloads\\20240520T051651_20240520T053322_T43QHV_RGB_2023-12-21_2024-05-22.tif\n",
      "Downloaded: downloads/20240520T051651_20240520T053322_T43QHV_RGB_2023-12-21_2024-05-22.tif\n",
      "Data downloaded to d:\\github\\telangana-crop-health\\downloads\\20240522T050649_20240522T051545_T43QHV_RGB_2023-09-12_2024-05-25.tif\n",
      "Downloaded: downloads/20240522T050649_20240522T051545_T43QHV_RGB_2023-09-12_2024-05-25.tif\n",
      "Downloading data from https://earthengine.googleapis.com/v1/projects/234865683480/thumbnails/1b1abe3ccbfe102c421e64f38a3c193f-15aadf6209eb3a8b884bf36156a00808:getPixels\n",
      "Please wait ...\n",
      "Data downloaded to d:\\github\\telangana-crop-health\\downloads\\20240520T051651_20240520T053322_T43QHV_RGB_2023-11-11_2024-05-21.tif\n",
      "Downloaded: downloads/20240520T051651_20240520T053322_T43QHV_RGB_2023-11-11_2024-05-21.tif\n",
      "Generating URL ...\n",
      "Data downloaded to d:\\github\\telangana-crop-health\\downloads\\20240520T051651_20240520T053322_T43QHV_RGB_2023-11-15_2024-05-21.tif\n",
      "Downloaded: downloads/20240520T051651_20240520T053322_T43QHV_RGB_2023-11-15_2024-05-21.tif\n",
      "Generating URL ...\n",
      "Generating URL ...\n",
      "Generating URL ...\n",
      "Generating URL ...\n",
      "Generating URL ...\n",
      "Downloading data from https://earthengine.googleapis.com/v1/projects/234865683480/thumbnails/c967201706f583fa87d43cbd9bc19d8b-6c3c8fa4fe27747b7bb427070529c409:getPixels\n",
      "Please wait ...\n",
      "Downloading data from https://earthengine.googleapis.com/v1/projects/234865683480/thumbnails/222b9aec26ce3350ea8f202e3ffb7d8b-9c55d3d347b17c46c0674a872e583f2d:getPixels\n",
      "Please wait ...\n",
      "Generating URL ...\n",
      "Downloading data from https://earthengine.googleapis.com/v1/projects/234865683480/thumbnails/8a3fca70a91996a0a57dfb0bb29efb24-ecbf3cf941792ea7f2e6706e5ced47ca:getPixels\n",
      "Please wait ...\n",
      "Downloading data from https://earthengine.googleapis.com/v1/projects/234865683480/thumbnails/39408b3ce7b211f102d4917917afd169-089e4106ecf9a82691f9041b860b16a2:getPixels\n",
      "Please wait ...\n",
      "Downloading data from https://earthengine.googleapis.com/v1/projects/234865683480/thumbnails/a8707b2920dd58dedc327b1d51f27ca1-4bb175489710dd777a8ba5d9ef914551:getPixels\n",
      "Please wait ...\n",
      "Downloading data from https://earthengine.googleapis.com/v1/projects/234865683480/thumbnails/82d1424d74beee9f6f11deb890669a15-c1b04ce6b450f60fa806fc49bd6e3de6:getPixels\n",
      "Please wait ...\n",
      "Downloading data from https://earthengine.googleapis.com/v1/projects/234865683480/thumbnails/555f41ca6c580aa178ed70ee57801df6-72aee7dec42f2942a13f59ad92305660:getPixels\n",
      "Please wait ...\n",
      "Downloading data from https://earthengine.googleapis.com/v1/projects/234865683480/thumbnails/d8f38aeaeed83781b10bc4633a9a9b02-ebfd99f66ee39f0a8249a5d4d8b56034:getPixels\n",
      "Please wait ...\n"
     ]
    },
    {
     "name": "stderr",
     "output_type": "stream",
     "text": [
      "Downloading Images:   1%|          | 68/10606 [00:23<2:44:44,  1.07image/s]"
     ]
    },
    {
     "name": "stdout",
     "output_type": "stream",
     "text": [
      "Data downloaded to d:\\github\\telangana-crop-health\\downloads\\20240512T050649_20240512T051901_T43QHV_RGB_2023-09-11_2024-05-14.tif\n",
      "Downloaded: downloads/20240512T050649_20240512T051901_T43QHV_RGB_2023-09-11_2024-05-14.tif\n",
      "Data downloaded to d:\\github\\telangana-crop-health\\downloads\\20241203T051201_20241203T051201_T43QHV_RGB_2023-06-12_2024-12-04.tif\n",
      "Downloaded: downloads/20241203T051201_20241203T051201_T43QHV_RGB_2023-06-12_2024-12-04.tif\n",
      "Data downloaded to d:\\github\\telangana-crop-health\\downloads\\20240402T050649_20240402T051718_T43QHV_RGB_2023-11-29_2024-04-04.tif\n",
      "Downloaded: downloads/20240402T050649_20240402T051718_T43QHV_RGB_2023-11-29_2024-04-04.tif\n",
      "Data downloaded to d:\\github\\telangana-crop-health\\downloads\\20240520T051651_20240520T053322_T43QHV_RGB_2023-12-27_2024-05-22.tif\n",
      "Downloaded: downloads/20240520T051651_20240520T053322_T43QHV_RGB_2023-12-27_2024-05-22.tif\n",
      "Data downloaded to d:\\github\\telangana-crop-health\\downloads\\20241103T050951_20241103T052004_T43QHV_RGB_2023-08-11_2024-11-05.tif\n",
      "Downloaded: downloads/20241103T050951_20241103T052004_T43QHV_RGB_2023-08-11_2024-11-05.tif\n",
      "Data downloaded to d:\\github\\telangana-crop-health\\downloads\\20240202T051029_20240202T052012_T43QHV_RGB_2023-11-23_2024-02-05.tif\n",
      "Data downloaded to d:\\github\\telangana-crop-health\\downloads\\20240522T050649_20240522T051545_T43QHV_RGB_2023-12-25_2024-05-25.tif\n",
      "Downloaded: downloads/20240202T051029_20240202T052012_T43QHV_RGB_2023-11-23_2024-02-05.tif\n",
      "Downloaded: downloads/20240522T050649_20240522T051545_T43QHV_RGB_2023-12-25_2024-05-25.tif\n",
      "Data downloaded to d:\\github\\telangana-crop-health\\downloads\\20240527T050651_20240527T051452_T43QHV_RGB_2023-03-12_2024-05-28.tif\n",
      "Downloaded: downloads/20240527T050651_20240527T051452_T43QHV_RGB_2023-03-12_2024-05-28.tif\n",
      "Downloading data from https://earthengine.googleapis.com/v1/projects/234865683480/thumbnails/11fa6ed9e9a5d60065ed866706a98331-51e3267f6e303e9e2cec5d0f22234115:getPixels\n",
      "Please wait ...\n",
      "Downloading data from https://earthengine.googleapis.com/v1/projects/234865683480/thumbnails/77161093eec7d345da9c27c43500c3db-fbd20acc660c0cdfd99e4feb523972ed:getPixels\n",
      "Please wait ...\n",
      "Downloading data from https://earthengine.googleapis.com/v1/projects/234865683480/thumbnails/f9a3af3fd0df6cd76bb0f6dd39e540fa-7d2192522244fabe78b78c5010171830:getPixels\n",
      "Please wait ...\n"
     ]
    },
    {
     "name": "stderr",
     "output_type": "stream",
     "text": [
      "Downloading Images:   1%|          | 76/10606 [00:23<1:10:34,  2.49image/s]"
     ]
    },
    {
     "name": "stdout",
     "output_type": "stream",
     "text": [
      "Generating URL ...\n",
      "Generating URL ...\n",
      "Generating URL ...\n",
      "Data downloaded to d:\\github\\telangana-crop-health\\downloads\\20240425T051649_20240425T052817_T43QHV_RGB_2023-11-27_2024-04-26.tif\n",
      "Downloaded: downloads/20240425T051649_20240425T052817_T43QHV_RGB_2023-11-27_2024-04-26.tif\n",
      "Generating URL ...\n",
      "Generating URL ...\n"
     ]
    },
    {
     "name": "stderr",
     "output_type": "stream",
     "text": [
      "Downloading Images:   1%|          | 77/10606 [00:24<1:06:31,  2.64image/s]"
     ]
    },
    {
     "name": "stdout",
     "output_type": "stream",
     "text": [
      "Generating URL ...\n",
      "Data downloaded to d:\\github\\telangana-crop-health\\downloads\\20240412T050649_20240412T051727_T43QHV_RGB_2023-05-11_2024-04-15.tif\n",
      "Downloaded: downloads/20240412T050649_20240412T051727_T43QHV_RGB_2023-05-11_2024-04-15.tif\n",
      "Data downloaded to d:\\github\\telangana-crop-health\\downloads\\20240522T050649_20240522T051545_T43QHV_RGB_2023-11-27_2024-05-25.tif\n",
      "Downloaded: downloads/20240522T050649_20240522T051545_T43QHV_RGB_2023-11-27_2024-05-25.tif\n",
      "Generating URL ...\n",
      "Generating URL ...\n",
      "Downloading data from https://earthengine.googleapis.com/v1/projects/234865683480/thumbnails/893df888c85352b07b0ad6b1877e5134-b9d2b8ff4ee9a2bee7bb36376b61047c:getPixels\n",
      "Please wait ...\n",
      "Downloading data from https://earthengine.googleapis.com/v1/projects/234865683480/thumbnails/16ae5787196fabcda6a18c0cf1a2b483-b184b533a96ae1c38129f88eeebb5888:getPixels\n",
      "Please wait ...\n",
      "Downloading data from https://earthengine.googleapis.com/v1/projects/234865683480/thumbnails/de078b6d4e1b97fbf292af3c93be0bfa-1a3d157d170a93a90eef6a8c01be009a:getPixels\n",
      "Please wait ...\n",
      "Generating URL ...\n",
      "Generating URL ...\n",
      "Downloading data from https://earthengine.googleapis.com/v1/projects/234865683480/thumbnails/f44f385c03c4b08782ee8bb5d3072874-f2fec869b85f64e02eb6ca9a7fb0d5ad:getPixels\n",
      "Please wait ...\n",
      "Generating URL ...\n"
     ]
    },
    {
     "name": "stderr",
     "output_type": "stream",
     "text": [
      "Downloading Images:   1%|          | 79/10606 [00:24<1:06:31,  2.64image/s]"
     ]
    },
    {
     "name": "stdout",
     "output_type": "stream",
     "text": [
      "Downloading data from https://earthengine.googleapis.com/v1/projects/234865683480/thumbnails/e01086729d39b8430566d314facc04aa-d85a4284ba45cbfb07dc4a63ac97fce0:getPixels\n",
      "Please wait ...\n",
      "Downloading data from https://earthengine.googleapis.com/v1/projects/234865683480/thumbnails/60bbdd9e2360acbe457f71b0ec1a9563-1e4670d8e52fb8cc423d8f122d61af60:getPixels\n",
      "Please wait ...\n",
      "Downloading data from https://earthengine.googleapis.com/v1/projects/234865683480/thumbnails/1955e553bef9a08a31393d338401c7f4-56c44cb7b9923a36ac22ef85b4dc266c:getPixels\n",
      "Please wait ...\n",
      "Data downloaded to d:\\github\\telangana-crop-health\\downloads\\20240202T051029_20240202T052012_T43QHV_RGB_2023-11-24_2024-02-04.tif\n",
      "Downloaded: downloads/20240202T051029_20240202T052012_T43QHV_RGB_2023-11-24_2024-02-04.tif\n",
      "Downloading data from https://earthengine.googleapis.com/v1/projects/234865683480/thumbnails/5771a74a05199168df6d9acdc82a3781-ca199d26fb4bac9f03f980f104077241:getPixels\n",
      "Please wait ...\n"
     ]
    },
    {
     "name": "stderr",
     "output_type": "stream",
     "text": [
      "Downloading Images:   1%|          | 82/10606 [00:25<47:58,  3.66image/s]  "
     ]
    },
    {
     "name": "stdout",
     "output_type": "stream",
     "text": [
      "Data downloaded to d:\\github\\telangana-crop-health\\downloads\\20240527T050651_20240527T051452_T43QHV_RGB_2023-11-26_2024-05-28.tif\n",
      "Downloaded: downloads/20240527T050651_20240527T051452_T43QHV_RGB_2023-11-26_2024-05-28.tif\n",
      "Data downloaded to d:\\github\\telangana-crop-health\\downloads\\20240502T050649_20240502T051513_T43QHV_RGB_2023-11-26_2024-05-05.tif\n",
      "Downloaded: downloads/20240502T050649_20240502T051513_T43QHV_RGB_2023-11-26_2024-05-05.tif\n",
      "Data downloaded to d:\\github\\telangana-crop-health\\downloads\\20240422T050649_20240422T051633_T43QHV_RGB_2023-12-21_2024-04-26.tif\n",
      "Downloaded: downloads/20240422T050649_20240422T051633_T43QHV_RGB_2023-12-21_2024-04-26.tif\n",
      "Downloading data from https://earthengine.googleapis.com/v1/projects/234865683480/thumbnails/99024074e1cdb4c6f97b14cba976500a-af968ca4fc6e649fe7db27b8c730d036:getPixels\n",
      "Please wait ...\n"
     ]
    },
    {
     "name": "stderr",
     "output_type": "stream",
     "text": [
      "Downloading Images:   1%|          | 83/10606 [00:25<44:21,  3.95image/s]"
     ]
    },
    {
     "name": "stdout",
     "output_type": "stream",
     "text": [
      "Downloading data from https://earthengine.googleapis.com/v1/projects/234865683480/thumbnails/6b289bb69dbbd8323195f0bdd67c1a1e-ef54b486a719f9008e6d0f650dc5c359:getPixels\n",
      "Please wait ...\n",
      "Data downloaded to d:\\github\\telangana-crop-health\\downloads\\20240427T050651_20240427T051439_T43QHV_RGB_2023-11-18_2024-04-28.tif\n",
      "Downloaded: downloads/20240427T050651_20240427T051439_T43QHV_RGB_2023-11-18_2024-04-28.tif\n",
      "Data downloaded to d:\\github\\telangana-crop-health\\downloads\\20240417T050651_20240417T051251_T43QHV_RGB_2023-07-12_2024-04-19.tif\n",
      "Data downloaded to d:\\github\\telangana-crop-health\\downloads\\20240701T050659_20240701T051520_T43QHV_RGB_2023-12-21_2024-07-04.tif\n",
      "Downloaded: downloads/20240417T050651_20240417T051251_T43QHV_RGB_2023-07-12_2024-04-19.tif\n",
      "Downloaded: downloads/20240701T050659_20240701T051520_T43QHV_RGB_2023-12-21_2024-07-04.tif\n",
      "Downloading data from https://earthengine.googleapis.com/v1/projects/234865683480/thumbnails/ac93b1ca7d5c7604fd8d150f9a8962d9-d2043a5472c9c434f5b77552ab6d5cf4:getPixels\n",
      "Please wait ...\n",
      "Data downloaded to d:\\github\\telangana-crop-health\\downloads\\20240517T050651_20240517T051655_T43QHV_RGB_2023-11-13_2024-05-19.tif\n",
      "Downloaded: downloads/20240517T050651_20240517T051655_T43QHV_RGB_2023-11-13_2024-05-19.tif\n",
      "Generating URL ...\n",
      "Generating URL ...\n",
      "Generating URL ...\n",
      "Downloading data from https://earthengine.googleapis.com/v1/projects/234865683480/thumbnails/c4e36a5d7797d5496776bf1f209ebdc7-f3fc96432cb2167816464531564d36e4:getPixels\n",
      "Please wait ...\n",
      "Generating URL ...\n"
     ]
    },
    {
     "name": "stderr",
     "output_type": "stream",
     "text": [
      "Downloading Images:   1%|          | 88/10606 [00:25<32:36,  5.38image/s]"
     ]
    },
    {
     "name": "stdout",
     "output_type": "stream",
     "text": [
      "Generating URL ...\n",
      "Data downloaded to d:\\github\\telangana-crop-health\\downloads\\20240422T050649_20240422T051633_T43QHV_RGB_2023-01-12_2024-04-23.tif\n",
      "Downloaded: downloads/20240422T050649_20240422T051633_T43QHV_RGB_2023-01-12_2024-04-23.tif\n",
      "Generating URL ...\n",
      "Data downloaded to d:\\github\\telangana-crop-health\\downloads\\20240412T050649_20240412T051727_T43QHA_RGB_2023-06-12_2024-04-15.tif\n",
      "Downloaded: downloads/20240412T050649_20240412T051727_T43QHA_RGB_2023-06-12_2024-04-15.tif\n"
     ]
    },
    {
     "name": "stderr",
     "output_type": "stream",
     "text": [
      "Downloading Images:   1%|          | 89/10606 [00:26<36:49,  4.76image/s]"
     ]
    },
    {
     "name": "stdout",
     "output_type": "stream",
     "text": [
      "Downloading data from https://earthengine.googleapis.com/v1/projects/234865683480/thumbnails/586d7c82add0567f39b64d76969b6343-324321cc6e656c2e1ed409eac9cda3a1:getPixels\n",
      "Please wait ...\n",
      "Data downloaded to d:\\github\\telangana-crop-health\\downloads\\20240103T051219_20240103T052207_T43QHV_RGB_2023-12-29_2024-01-04.tif\n",
      "Downloaded: downloads/20240103T051219_20240103T052207_T43QHV_RGB_2023-12-29_2024-01-04.tif\n",
      "Downloading data from https://earthengine.googleapis.com/v1/projects/234865683480/thumbnails/d592041998dfe2f115241d3f71c72d55-e8d6e858dff521010c53cdd9f3a4d970:getPixels\n",
      "Please wait ...\n",
      "Downloading data from https://earthengine.googleapis.com/v1/projects/234865683480/thumbnails/77b23032357f078d11720ea99cf5500f-677af52976408a29271b652ded3c2527:getPixels\n",
      "Please wait ...\n",
      "Generating URL ...\n",
      "Generating URL ...\n",
      "Generating URL ...\n",
      "Data downloaded to d:\\github\\telangana-crop-health\\downloads\\20240512T050649_20240512T051901_T43QHA_RGB_2023-12-16_2024-05-15.tif\n",
      "Downloaded: downloads/20240512T050649_20240512T051901_T43QHA_RGB_2023-12-16_2024-05-15.tif\n"
     ]
    },
    {
     "name": "stderr",
     "output_type": "stream",
     "text": [
      "Downloading Images:   1%|          | 90/10606 [00:26<44:27,  3.94image/s]"
     ]
    },
    {
     "name": "stdout",
     "output_type": "stream",
     "text": [
      "Generating URL ...\n",
      "Data downloaded to d:\\github\\telangana-crop-health\\downloads\\20240326T051649_20240326T053300_T43QHA_RGB_2023-12-14_2024-03-27.tif\n",
      "Downloaded: downloads/20240326T051649_20240326T053300_T43QHA_RGB_2023-12-14_2024-03-27.tif\n",
      "Generating URL ...\n"
     ]
    },
    {
     "name": "stderr",
     "output_type": "stream",
     "text": [
      "Downloading Images:   1%|          | 93/10606 [00:27<33:01,  5.31image/s]"
     ]
    },
    {
     "name": "stdout",
     "output_type": "stream",
     "text": [
      "Data downloaded to d:\\github\\telangana-crop-health\\downloads\\20240220T051841_20240220T053308_T43QGA_RGB_2023-12-27_2024-02-25.tif\n",
      "Downloaded: downloads/20240220T051841_20240220T053308_T43QGA_RGB_2023-12-27_2024-02-25.tif\n",
      "Downloading data from https://earthengine.googleapis.com/v1/projects/234865683480/thumbnails/f57b8a33be00dbebac48bd9b854e0872-8ac520f9360cb3b751c143f9c49205a2:getPixels\n",
      "Please wait ...\n",
      "Data downloaded to d:\\github\\telangana-crop-health\\downloads\\20240316T051649_20240316T053107_T43QGA_RGB_2023-12-23_2024-03-18.tif\n",
      "Downloaded: downloads/20240316T051649_20240316T053107_T43QGA_RGB_2023-12-23_2024-03-18.tif\n",
      "Downloading data from https://earthengine.googleapis.com/v1/projects/234865683480/thumbnails/edd80d4e521444696eada08dcd77221f-1f31edcc36262f2b306ad1a00e4cbd3f:getPixels\n",
      "Please wait ...\n",
      "Downloading data from https://earthengine.googleapis.com/v1/projects/234865683480/thumbnails/f953ba9953735e8000b8c8692995ec93-5b7b4f9bd6832f90e74093b692b6a059:getPixels\n",
      "Please wait ...\n",
      "Generating URL ...\n",
      "Downloading data from https://earthengine.googleapis.com/v1/projects/234865683480/thumbnails/19704f87127cc36fde2c64df66c6f59e-8b80062a50deea0eca7cb2fd5de5fad9:getPixels\n",
      "Please wait ...\n",
      "Downloading data from https://earthengine.googleapis.com/v1/projects/234865683480/thumbnails/ba9bcc54238cf4be84214cff106664e2-e8e999cf1042ed48f3575b33728ad0aa:getPixels\n",
      "Please wait ...\n",
      "Downloading data from https://earthengine.googleapis.com/v1/projects/234865683480/thumbnails/4ecb1b2a92c05ee1a8b72f565344411f-c7f9817c95a3927aabd99f2e0ff005c8:getPixels\n",
      "Please wait ...\n",
      "Generating URL ...\n"
     ]
    },
    {
     "name": "stderr",
     "output_type": "stream",
     "text": [
      "Downloading Images:   1%|          | 94/10606 [00:27<42:26,  4.13image/s]"
     ]
    },
    {
     "name": "stdout",
     "output_type": "stream",
     "text": [
      "Downloading data from https://earthengine.googleapis.com/v1/projects/234865683480/thumbnails/825b1976171fa26950e1135bda85403a-c7d423977e4837d0d00b02340264d8df:getPixels\n",
      "Please wait ...\n",
      "Data downloaded to d:\\github\\telangana-crop-health\\downloads\\20240103T051219_20240103T052207_T43QHA_RGB_2023-07-12_2024-01-05.tif\n",
      "Downloaded: downloads/20240103T051219_20240103T052207_T43QHA_RGB_2023-07-12_2024-01-05.tif\n",
      "Downloading data from https://earthengine.googleapis.com/v1/projects/234865683480/thumbnails/e2433193a2313d99cffb196a31af78be-5836762e91547ecb5e95993875549eca:getPixels\n",
      "Please wait ...\n"
     ]
    },
    {
     "name": "stderr",
     "output_type": "stream",
     "text": [
      "Downloading Images:   1%|          | 95/10606 [00:27<43:50,  4.00image/s]"
     ]
    },
    {
     "name": "stdout",
     "output_type": "stream",
     "text": [
      "Generating URL ...\n",
      "Data downloaded to d:\\github\\telangana-crop-health\\downloads\\20240316T051649_20240316T053107_T43QGV_RGB_2023-10-30_2024-03-17.tif\n",
      "Downloaded: downloads/20240316T051649_20240316T053107_T43QGV_RGB_2023-10-30_2024-03-17.tif\n",
      "Data downloaded to d:\\github\\telangana-crop-health\\downloads\\20240828T051651_20240828T052758_T43QGV_RGB_2023-11-21_2024-09-02.tif\n",
      "Downloaded: downloads/20240828T051651_20240828T052758_T43QGV_RGB_2023-11-21_2024-09-02.tif\n",
      "Downloading data from https://earthengine.googleapis.com/v1/projects/234865683480/thumbnails/1e1a2beed9ca57fc7dcde2879e8f9250-fb128ad878a7aec84d242fcecce2f00e:getPixels\n",
      "Please wait ...\n"
     ]
    },
    {
     "name": "stderr",
     "output_type": "stream",
     "text": [
      "Downloading Images:   1%|          | 97/10606 [00:28<36:11,  4.84image/s]"
     ]
    },
    {
     "name": "stdout",
     "output_type": "stream",
     "text": [
      "Data downloaded to d:\\github\\telangana-crop-health\\downloads\\20240830T050659_20240830T052011_T43QHA_RGB_2023-10-22_2024-09-02.tif\n",
      "Downloaded: downloads/20240830T050659_20240830T052011_T43QHA_RGB_2023-10-22_2024-09-02.tif\n",
      "Downloading data from https://earthengine.googleapis.com/v1/projects/234865683480/thumbnails/647bd7abbe52aa5df9aac5a141e59f10-b89fe51d55213da7df7d6b305cea2f29:getPixels\n",
      "Please wait ...\n",
      "Data downloaded to d:\\github\\telangana-crop-health\\downloads\\20240311T051651_20240311T053119_T43QGV_RGB_2023-10-16_2024-03-14.tif\n",
      "Downloaded: downloads/20240311T051651_20240311T053119_T43QGV_RGB_2023-10-16_2024-03-14.tif\n",
      "Generating URL ...\n",
      "Generating URL ...\n",
      "Generating URL ...\n",
      "Generating URL ...\n"
     ]
    },
    {
     "name": "stderr",
     "output_type": "stream",
     "text": [
      "Downloading Images:   1%|          | 100/10606 [00:28<38:13,  4.58image/s]"
     ]
    },
    {
     "name": "stdout",
     "output_type": "stream",
     "text": [
      "Generating URL ...\n",
      "Generating URL ...\n",
      "Data downloaded to d:\\github\\telangana-crop-health\\downloads\\20240430T051651_20240430T053056_T43QHV_RGB_2023-10-21_2024-05-02.tif\n",
      "Downloaded: downloads/20240430T051651_20240430T053056_T43QHV_RGB_2023-10-21_2024-05-02.tif\n",
      "Data downloaded to d:\\github\\telangana-crop-health\\downloads\\20240215T051919_20240215T053307_T43QGA_RGB_2023-01-12_2024-02-19.tif\n",
      "Downloaded: downloads/20240215T051919_20240215T053307_T43QGA_RGB_2023-01-12_2024-02-19.tif\n"
     ]
    },
    {
     "name": "stderr",
     "output_type": "stream",
     "text": [
      "Downloading Images:   1%|          | 101/10606 [00:28<34:14,  5.11image/s]"
     ]
    },
    {
     "name": "stdout",
     "output_type": "stream",
     "text": [
      "Data downloaded to d:\\github\\telangana-crop-health\\downloads\\20240215T051919_20240215T053307_T43QGA_RGB_2023-12-21_2024-02-20.tif\n",
      "Downloaded: downloads/20240215T051919_20240215T053307_T43QGA_RGB_2023-12-21_2024-02-20.tif\n",
      "Data downloaded to d:\\github\\telangana-crop-health\\downloads\\20240227T050751_20240227T052054_T43QHV_RGB_2023-10-29_2024-02-29.tif\n",
      "Downloaded: downloads/20240227T050751_20240227T052054_T43QHV_RGB_2023-10-29_2024-02-29.tif\n",
      "Data downloaded to d:\\github\\telangana-crop-health\\downloads\\20240215T051919_20240215T053307_T43QGV_RGB_2023-10-21_2024-02-19.tif\n",
      "Downloaded: downloads/20240215T051919_20240215T053307_T43QGV_RGB_2023-10-21_2024-02-19.tif\n",
      "Downloading data from https://earthengine.googleapis.com/v1/projects/234865683480/thumbnails/b8539e473c11c98e989b34876480308b-a7a8a026deeec1138bb1d2de464f220a:getPixels\n",
      "Please wait ...\n",
      "Downloading data from https://earthengine.googleapis.com/v1/projects/234865683480/thumbnails/ef7f8e87c9014ee3e3b6b381da68b9ec-f608683dd781043cfc3b4c32965c168d:getPixels\n",
      "Please wait ...\n",
      "Generating URL ...\n",
      "Downloading data from https://earthengine.googleapis.com/v1/projects/234865683480/thumbnails/5d46313b879306848ea1039bc1bfae16-f07ceb6ca5717c8822f9e57fd30b2be9:getPixels\n",
      "Please wait ...\n",
      "Downloading data from https://earthengine.googleapis.com/v1/projects/234865683480/thumbnails/5f88492c089c18d9280532d0e218528f-dbb64d216f01a2b5f79516a4f239b68f:getPixels\n",
      "Please wait ...\n",
      "Generating URL ...\n",
      "Downloading data from https://earthengine.googleapis.com/v1/projects/234865683480/thumbnails/00247e919982d721f70adf6608e87b55-dd85ef284c6ec6269eb1d0f80be0e231:getPixels\n",
      "Please wait ...\n",
      "Downloading data from https://earthengine.googleapis.com/v1/projects/234865683480/thumbnails/12cbfaaf65e0d2c34d8fa706648bcb1b-f75fe179dade72407a1f0f56b7af1551:getPixels\n",
      "Please wait ...\n",
      "Generating URL ...\n",
      "Generating URL ...\n",
      "Generating URL ...\n"
     ]
    },
    {
     "name": "stderr",
     "output_type": "stream",
     "text": [
      "Downloading Images:   1%|          | 105/10606 [00:29<35:55,  4.87image/s]"
     ]
    },
    {
     "name": "stdout",
     "output_type": "stream",
     "text": [
      "Downloading data from https://earthengine.googleapis.com/v1/projects/234865683480/thumbnails/61639e3752e53b30e6da14fb730345c8-acaa036b759ec5c06ff506a2b6303736:getPixels\n",
      "Please wait ...\n",
      "Data downloaded to d:\\github\\telangana-crop-health\\downloads\\20240222T050829_20240222T051835_T43QHV_RGB_2023-12-10_2024-02-23.tif\n",
      "Downloaded: downloads/20240222T050829_20240222T051835_T43QHV_RGB_2023-12-10_2024-02-23.tif\n",
      "Downloading data from https://earthengine.googleapis.com/v1/projects/234865683480/thumbnails/1c15d2b0b637855aff9548e04089dbaf-93f2f4a7019b6522784c26971c35a0a0:getPixels\n",
      "Please wait ...\n",
      "Data downloaded to d:\\github\\telangana-crop-health\\downloads\\20241101T051859_20241101T052722_T43QHV_RGB_2023-03-10_2024-11-03.tif\n",
      "Downloaded: downloads/20241101T051859_20241101T052722_T43QHV_RGB_2023-03-10_2024-11-03.tif\n"
     ]
    },
    {
     "name": "stderr",
     "output_type": "stream",
     "text": [
      "Downloading Images:   1%|          | 106/10606 [00:29<33:36,  5.21image/s]"
     ]
    },
    {
     "name": "stdout",
     "output_type": "stream",
     "text": [
      "Downloading data from https://earthengine.googleapis.com/v1/projects/234865683480/thumbnails/60e236e991eef18f0aebd679a5782e01-29f765ec09a3f9bdea3afbcc56ce0b3b:getPixels\n",
      "Please wait ...\n",
      "Data downloaded to d:\\github\\telangana-crop-health\\downloads\\20240217T050901_20240217T051716_T43QHA_RGB_2023-06-10_2024-02-19.tif\n",
      "Downloaded: downloads/20240217T050901_20240217T051716_T43QHA_RGB_2023-06-10_2024-02-19.tif\n",
      "Downloading data from https://earthengine.googleapis.com/v1/projects/234865683480/thumbnails/46bf4990caa2ee621ffd9bae6de16f4f-0f623edf7bcce25642e4849231dc6b30:getPixels\n",
      "Please wait ...\n",
      "Data downloaded to d:\\github\\telangana-crop-health\\downloads\\20240311T051651_20240311T053119_T43QHA_RGB_2023-03-10_2024-03-14.tif\n",
      "Downloaded: downloads/20240311T051651_20240311T053119_T43QHA_RGB_2023-03-10_2024-03-14.tif\n",
      "Data downloaded to d:\\github\\telangana-crop-health\\downloads\\20240301T051741_20240301T053320_T43QHV_RGB_2023-05-10_2024-03-03.tif\n",
      "Downloaded: downloads/20240301T051741_20240301T053320_T43QHV_RGB_2023-05-10_2024-03-03.tif\n",
      "Downloading data from https://earthengine.googleapis.com/v1/projects/234865683480/thumbnails/78703dbf07dd87d20b2ee9778c9eea51-966fde4139035f7fd2af0ffc9461663f:getPixels\n",
      "Please wait ...\n"
     ]
    },
    {
     "name": "stderr",
     "output_type": "stream",
     "text": [
      "Downloading Images:   1%|          | 109/10606 [00:30<25:49,  6.78image/s]"
     ]
    },
    {
     "name": "stdout",
     "output_type": "stream",
     "text": [
      "Downloading data from https://earthengine.googleapis.com/v1/projects/234865683480/thumbnails/c37597176a2f75ece7250c04bc217998-2ddc17b5b8b5ca72f1b64bbeea4f0923:getPixels\n",
      "Please wait ...\n",
      "Generating URL ...\n",
      "Data downloaded to d:\\github\\telangana-crop-health\\downloads\\20241201T052109_20241201T053222_T43QHV_RGB_2023-02-12_2024-12-03.tif\n",
      "Downloaded: downloads/20241201T052109_20241201T053222_T43QHV_RGB_2023-02-12_2024-12-03.tif\n",
      "Generating URL ...\n"
     ]
    },
    {
     "name": "stderr",
     "output_type": "stream",
     "text": [
      "Downloading Images:   1%|          | 112/10606 [00:30<22:55,  7.63image/s]"
     ]
    },
    {
     "name": "stdout",
     "output_type": "stream",
     "text": [
      "Data downloaded to d:\\github\\telangana-crop-health\\downloads\\20240311T051651_20240311T053119_T43QHV_RGB_2023-11-15_2024-03-13.tif\n",
      "Downloaded: downloads/20240311T051651_20240311T053119_T43QHV_RGB_2023-11-15_2024-03-13.tif\n",
      "Data downloaded to d:\\github\\telangana-crop-health\\downloads\\20240217T050901_20240217T051716_T43QHV_RGB_2023-09-10_2024-02-19.tif\n",
      "Downloaded: downloads/20240217T050901_20240217T051716_T43QHV_RGB_2023-09-10_2024-02-19.tif\n",
      "Generating URL ...\n",
      "Generating URL ...\n",
      "Data downloaded to d:\\github\\telangana-crop-health\\downloads\\20240313T050649_20240313T052012_T43QHV_RGB_2023-10-28_2024-03-15.tif\n",
      "Downloaded: downloads/20240313T050649_20240313T052012_T43QHV_RGB_2023-10-28_2024-03-15.tif\n",
      "Data downloaded to d:\\github\\telangana-crop-health\\downloads\\20240313T050649_20240313T052012_T43QHV_RGB_2023-12-30_2024-03-16.tif\n",
      "Data downloaded to d:\\github\\telangana-crop-health\\downloads\\20240929T050649_20240929T051705_T43QHV_RGB_2023-11-15_2024-10-02.tif\n",
      "Downloaded: downloads/20240313T050649_20240313T052012_T43QHV_RGB_2023-12-30_2024-03-16.tif\n",
      "Downloaded: downloads/20240929T050649_20240929T051705_T43QHV_RGB_2023-11-15_2024-10-02.tif\n"
     ]
    },
    {
     "name": "stderr",
     "output_type": "stream",
     "text": [
      "Downloading Images:   1%|          | 115/10606 [00:30<15:42, 11.13image/s]"
     ]
    },
    {
     "name": "stdout",
     "output_type": "stream",
     "text": [
      "Data downloaded to d:\\github\\telangana-crop-health\\downloads\\20240402T050649_20240402T051718_T43QHV_RGB_2023-05-10_2024-04-03.tif\n",
      "Downloaded: downloads/20240402T050649_20240402T051718_T43QHV_RGB_2023-05-10_2024-04-03.tif\n",
      "Downloading data from https://earthengine.googleapis.com/v1/projects/234865683480/thumbnails/af14eaeb98e91157706534fc5444d1d3-1d3426b2dd06258a5a94552de8f9cf16:getPixels\n",
      "Please wait ...\n",
      "Generating URL ...\n",
      "Downloading data from https://earthengine.googleapis.com/v1/projects/234865683480/thumbnails/5cbcca2b661b7f0e82b682ee94d04c9f-7bd24549148eefc449911b2181c112f6:getPixels\n",
      "Please wait ...\n",
      "Generating URL ...\n",
      "Generating URL ...\n",
      "Downloading data from https://earthengine.googleapis.com/v1/projects/234865683480/thumbnails/2d00f374252683a81aa9bba5097cf1db-c4d4eee3d99ba0a3f7f72e52cd43a7b0:getPixels\n",
      "Please wait ...\n",
      "Generating URL ...\n",
      "Generating URL ...\n",
      "Generating URL ...\n"
     ]
    },
    {
     "name": "stderr",
     "output_type": "stream",
     "text": [
      "Downloading Images:   1%|          | 117/10606 [00:31<31:39,  5.52image/s]"
     ]
    },
    {
     "name": "stdout",
     "output_type": "stream",
     "text": [
      "Data downloaded to d:\\github\\telangana-crop-health\\downloads\\20240328T050651_20240328T051856_T43QHV_RGB_2023-11-24_2024-03-30.tif\n",
      "Downloaded: downloads/20240328T050651_20240328T051856_T43QHV_RGB_2023-11-24_2024-03-30.tif\n",
      "Downloading data from https://earthengine.googleapis.com/v1/projects/234865683480/thumbnails/7b95e5167955556deb1db274b8652b95-bcca39bc783d58dec60bf62b14b175de:getPixels\n",
      "Please wait ...\n",
      "Downloading data from https://earthengine.googleapis.com/v1/projects/234865683480/thumbnails/2ac4dc043eb756c9267175efcc9ab3d3-c86a3088b39f9edd7caea0b6c1af7453:getPixels\n",
      "Please wait ...\n",
      "Data downloaded to d:\\github\\telangana-crop-health\\downloads\\20240318T050651_20240318T052150_T43QHV_RGB_2023-11-13_2024-03-19.tif\n",
      "Downloaded: downloads/20240318T050651_20240318T052150_T43QHV_RGB_2023-11-13_2024-03-19.tif\n",
      "Downloading data from https://earthengine.googleapis.com/v1/projects/234865683480/thumbnails/ff6f777181ea26b6cb0b1f5fd93ecd3c-cd16957594c9d6049413abf96fd8eb1a:getPixels\n",
      "Please wait ...\n",
      "Data downloaded to d:\\github\\telangana-crop-health\\downloads\\20240323T050649_20240323T051727_T43QHV_RGB_2023-11-20_2024-03-28.tif\n",
      "Downloaded: downloads/20240323T050649_20240323T051727_T43QHV_RGB_2023-11-20_2024-03-28.tif\n",
      "Downloading data from https://earthengine.googleapis.com/v1/projects/234865683480/thumbnails/e7b3e583acccd0d02d0384bbf02f1ce2-33164b63d7b394092a3617c43344f44e:getPixels\n",
      "Please wait ...\n",
      "Downloading data from https://earthengine.googleapis.com/v1/projects/234865683480/thumbnails/f16503265e65b725076bfb60555032ef-99ccbd29cd1c8839cac23e9d5ed4d387:getPixels\n",
      "Please wait ...\n",
      "Generating URL ...\n",
      "Downloading data from https://earthengine.googleapis.com/v1/projects/234865683480/thumbnails/3b785fbc1b554b2500d6b972dd40b404-ca2bd7d2e60d07c1dc3ba279672ad5ae:getPixels\n",
      "Please wait ...\n"
     ]
    },
    {
     "name": "stderr",
     "output_type": "stream",
     "text": [
      "Downloading Images:   1%|          | 120/10606 [00:32<31:14,  5.59image/s]"
     ]
    },
    {
     "name": "stdout",
     "output_type": "stream",
     "text": [
      "Generating URL ...\n",
      "Downloading data from https://earthengine.googleapis.com/v1/projects/234865683480/thumbnails/13131d8d3b34010b1cab989fea83a804-7f1624bf6b1e6dd1f346ff271685f0a4:getPixels\n",
      "Please wait ...\n",
      "Data downloaded to d:\\github\\telangana-crop-health\\downloads\\20240701T050659_20240701T051520_T43QHV_RGB_2023-11-19_2024-07-03.tif\n",
      "Downloaded: downloads/20240701T050659_20240701T051520_T43QHV_RGB_2023-11-19_2024-07-03.tif\n",
      "Generating URL ...\n",
      "Data downloaded to d:\\github\\telangana-crop-health\\downloads\\20240601T050649_20240601T051727_T43QHV_RGB_2023-11-11_2024-06-02.tif\n",
      "Downloaded: downloads/20240601T050649_20240601T051727_T43QHV_RGB_2023-11-11_2024-06-02.tif\n"
     ]
    },
    {
     "name": "stderr",
     "output_type": "stream",
     "text": [
      "Downloading Images:   1%|          | 122/10606 [00:32<25:26,  6.87image/s]"
     ]
    },
    {
     "name": "stdout",
     "output_type": "stream",
     "text": [
      "Generating URL ...\n",
      "Generating URL ...\n",
      "Data downloaded to d:\\github\\telangana-crop-health\\downloads\\20240328T050651_20240328T051856_T43QHV_RGB_2023-09-12_2024-03-30.tif\n",
      "Downloaded: downloads/20240328T050651_20240328T051856_T43QHV_RGB_2023-09-12_2024-03-30.tif\n",
      "Data downloaded to d:\\github\\telangana-crop-health\\downloads\\20240217T050901_20240217T051716_T43QHV_RGB_2023-09-12_2024-02-18.tif\n",
      "Downloaded: downloads/20240217T050901_20240217T051716_T43QHV_RGB_2023-09-12_2024-02-18.tif\n"
     ]
    },
    {
     "name": "stderr",
     "output_type": "stream",
     "text": [
      "Downloading Images:   1%|          | 123/10606 [00:32<26:01,  6.71image/s]"
     ]
    },
    {
     "name": "stdout",
     "output_type": "stream",
     "text": [
      "Data downloaded to d:\\github\\telangana-crop-health\\downloads\\20240318T050651_20240318T052150_T43QHV_RGB_2023-10-22_2024-03-19.tif\n",
      "Downloaded: downloads/20240318T050651_20240318T052150_T43QHV_RGB_2023-10-22_2024-03-19.tif\n",
      "Downloading data from https://earthengine.googleapis.com/v1/projects/234865683480/thumbnails/672f6182008f94f849d348453620eac1-ed24d899e2e6975dc5d0929f44a38bfa:getPixels\n",
      "Please wait ...\n",
      "Data downloaded to d:\\github\\telangana-crop-health\\downloads\\20240225T051809_20240225T052518_T43QGV_RGB_2023-10-27_2024-02-27.tif\n",
      "Downloaded: downloads/20240225T051809_20240225T052518_T43QGV_RGB_2023-10-27_2024-02-27.tif\n",
      "Generating URL ...\n",
      "Downloading data from https://earthengine.googleapis.com/v1/projects/234865683480/thumbnails/288ddf181bafecd27c55b1cd1551c01a-a5d960bad1abd2f0471470cf759c8a4f:getPixels\n",
      "Please wait ...\n",
      "Generating URL ...\n"
     ]
    },
    {
     "name": "stderr",
     "output_type": "stream",
     "text": [
      "Downloading Images:   1%|          | 125/10606 [00:32<25:37,  6.81image/s]"
     ]
    },
    {
     "name": "stdout",
     "output_type": "stream",
     "text": [
      "Data downloaded to d:\\github\\telangana-crop-health\\downloads\\20240601T050649_20240601T051727_T43QHV_RGB_2023-11-19_2024-06-03.tif\n",
      "Downloaded: downloads/20240601T050649_20240601T051727_T43QHV_RGB_2023-11-19_2024-06-03.tif\n",
      "Generating URL ...\n",
      "Downloading data from https://earthengine.googleapis.com/v1/projects/234865683480/thumbnails/7dbde7980fd991399f7a05321ae51c76-2f34a49f2323ceac3623a10597478792:getPixels\n",
      "Please wait ...\n",
      "Generating URL ...\n",
      "Downloading data from https://earthengine.googleapis.com/v1/projects/234865683480/thumbnails/ec4e2785e2b83f97b42e55cf22a0a4ef-8760a41917221b8321af689d827bce88:getPixels\n",
      "Please wait ...\n",
      "Generating URL ...\n",
      "Generating URL ...\n",
      "Downloading data from https://earthengine.googleapis.com/v1/projects/234865683480/thumbnails/18b5dc72a2a0205efd32e96991eb36af-6fdfa13062eacd4ff5f67f8642f1fd3f:getPixels\n",
      "Please wait ...\n"
     ]
    },
    {
     "name": "stderr",
     "output_type": "stream",
     "text": [
      "Downloading Images:   1%|          | 126/10606 [00:33<36:19,  4.81image/s]"
     ]
    },
    {
     "name": "stdout",
     "output_type": "stream",
     "text": [
      "Data downloaded to d:\\github\\telangana-crop-health\\downloads\\20240217T050901_20240217T051716_T43QHV_RGB_2023-12-24_2024-02-18.tif\n",
      "Downloaded: downloads/20240217T050901_20240217T051716_T43QHV_RGB_2023-12-24_2024-02-18.tif\n",
      "Generating URL ...\n",
      "Data downloaded to d:\\github\\telangana-crop-health\\downloads\\20240328T050651_20240328T051856_T43QHV_RGB_2023-12-20_2024-03-29.tif\n",
      "Downloaded: downloads/20240328T050651_20240328T051856_T43QHV_RGB_2023-12-20_2024-03-29.tif\n",
      "Downloading data from https://earthengine.googleapis.com/v1/projects/234865683480/thumbnails/eee2ad41babf5c6567cd8e96656a9942-f05eef5eab3131b7997b8c8c6b1a9e2e:getPixels\n",
      "Please wait ...\n",
      "Data downloaded to d:\\github\\telangana-crop-health\\downloads\\20240301T051741_20240301T053320_T43QHV_RGB_2023-12-29_2024-03-02.tif\n",
      "Downloaded: downloads/20240301T051741_20240301T053320_T43QHV_RGB_2023-12-29_2024-03-02.tif\n",
      "Downloading data from https://earthengine.googleapis.com/v1/projects/234865683480/thumbnails/67b95df35e6ce4895a2d2dd0e610fe03-52caff5e40e92be0136b04c3d26911c8:getPixels\n",
      "Please wait ...\n"
     ]
    },
    {
     "name": "stderr",
     "output_type": "stream",
     "text": [
      "Downloading Images:   1%|          | 129/10606 [00:33<29:13,  5.97image/s]"
     ]
    },
    {
     "name": "stdout",
     "output_type": "stream",
     "text": [
      "Downloading data from https://earthengine.googleapis.com/v1/projects/234865683480/thumbnails/c63bd9d343761983547053900162be27-1c4f6f932a7fae64ebf39d636cfeac8e:getPixels\n",
      "Please wait ...\n",
      "Downloading data from https://earthengine.googleapis.com/v1/projects/234865683480/thumbnails/9bf3ab4212d9476c497f6c873b85adc5-a7235ef9ab0b08dae874c6e0486a4093:getPixels\n",
      "Please wait ...\n",
      "Data downloaded to d:\\github\\telangana-crop-health\\downloads\\20240328T050651_20240328T051856_T43QHV_RGB_2023-12-21_2024-03-29.tif\n",
      "Downloaded: downloads/20240328T050651_20240328T051856_T43QHV_RGB_2023-12-21_2024-03-29.tif\n",
      "Downloading data from https://earthengine.googleapis.com/v1/projects/234865683480/thumbnails/64862053437c6c2121b526e0bb859f18-548b0e21e5b0d9dc198ef29c79b4d0ef:getPixels\n",
      "Please wait ...\n"
     ]
    },
    {
     "name": "stderr",
     "output_type": "stream",
     "text": [
      "Downloading Images:   1%|          | 130/10606 [00:33<29:41,  5.88image/s]"
     ]
    },
    {
     "name": "stdout",
     "output_type": "stream",
     "text": [
      "Downloading data from https://earthengine.googleapis.com/v1/projects/234865683480/thumbnails/0d81fa0e17d80d0618af392d597d1eb4-44ae841e1f61d1d16f01c61f3bdbbd16:getPixels\n",
      "Please wait ...\n",
      "Generating URL ...\n",
      "Data downloaded to d:\\github\\telangana-crop-health\\downloads\\20240328T050651_20240328T051856_T43QHV_RGB_2023-10-25_2024-03-30.tif\n",
      "Downloaded: downloads/20240328T050651_20240328T051856_T43QHV_RGB_2023-10-25_2024-03-30.tif\n",
      "Generating URL ...\n"
     ]
    },
    {
     "name": "stderr",
     "output_type": "stream",
     "text": [
      "Downloading Images:   1%|          | 132/10606 [00:33<29:32,  5.91image/s]"
     ]
    },
    {
     "name": "stdout",
     "output_type": "stream",
     "text": [
      "Generating URL ...\n",
      "Data downloaded to d:\\github\\telangana-crop-health\\downloads\\20240701T050659_20240701T051520_T43QHV_RGB_2023-12-23_2024-07-03.tif\n",
      "Downloaded: downloads/20240701T050659_20240701T051520_T43QHV_RGB_2023-12-23_2024-07-03.tif\n",
      "Data downloaded to d:\\github\\telangana-crop-health\\downloads\\20240318T050651_20240318T052150_T43QHV_RGB_2023-11-18_2024-03-19.tif\n",
      "Downloaded: downloads/20240318T050651_20240318T052150_T43QHV_RGB_2023-11-18_2024-03-19.tif\n"
     ]
    },
    {
     "name": "stderr",
     "output_type": "stream",
     "text": [
      "Downloading Images:   1%|▏         | 134/10606 [00:34<21:48,  8.00image/s]"
     ]
    },
    {
     "name": "stdout",
     "output_type": "stream",
     "text": [
      "Data downloaded to d:\\github\\telangana-crop-health\\downloads\\20240220T051841_20240220T053308_T43QHV_RGB_2023-03-12_2024-02-21.tif\n",
      "Downloaded: downloads/20240220T051841_20240220T053308_T43QHV_RGB_2023-03-12_2024-02-21.tif\n",
      "Generating URL ...\n",
      "Data downloaded to d:\\github\\telangana-crop-health\\downloads\\20240227T050751_20240227T052054_T43QHV_RGB_2023-11-18_2024-02-28.tif\n",
      "Downloaded: downloads/20240227T050751_20240227T052054_T43QHV_RGB_2023-11-18_2024-02-28.tif\n",
      "Data downloaded to d:\\github\\telangana-crop-health\\downloads\\20240430T051651_20240430T053056_T43QHV_RGB_2023-12-20_2024-05-02.tif\n",
      "Downloaded: downloads/20240430T051651_20240430T053056_T43QHV_RGB_2023-12-20_2024-05-02.tif\n",
      "Generating URL ...\n",
      "Downloading data from https://earthengine.googleapis.com/v1/projects/234865683480/thumbnails/020e701fdc9addc1c16c250987b83870-d37f0d1eb3bba382769bad8084467d8e:getPixels\n",
      "Please wait ...\n",
      "Downloading data from https://earthengine.googleapis.com/v1/projects/234865683480/thumbnails/c5e2e28e40865c9c9235324838067cb9-dc9508658cc233e285b614996245af7d:getPixels\n",
      "Please wait ...\n",
      "Generating URL ...\n",
      "Downloading data from https://earthengine.googleapis.com/v1/projects/234865683480/thumbnails/86bd72d00a0721f243f13554843502ad-b1ab297132b4a6c27f27326f4288ead4:getPixels\n",
      "Please wait ...\n",
      "Generating URL ...\n",
      "Generating URL ...\n",
      "Generating URL ...\n"
     ]
    },
    {
     "name": "stderr",
     "output_type": "stream",
     "text": [
      "Downloading Images:   1%|▏         | 136/10606 [00:34<36:40,  4.76image/s]"
     ]
    },
    {
     "name": "stdout",
     "output_type": "stream",
     "text": [
      "Generating URL ...\n",
      "Downloading data from https://earthengine.googleapis.com/v1/projects/234865683480/thumbnails/4543188556a48abaa437ca16af4593ca-46d92850b27f534f4896f345a40fa69a:getPixels\n",
      "Please wait ...\n",
      "Data downloaded to d:\\github\\telangana-crop-health\\downloads\\20240217T050901_20240217T051716_T43QHV_RGB_2023-03-11_2024-02-20.tif\n",
      "Downloaded: downloads/20240217T050901_20240217T051716_T43QHV_RGB_2023-03-11_2024-02-20.tif\n",
      "Downloading data from https://earthengine.googleapis.com/v1/projects/234865683480/thumbnails/c17e2a0191e68321ff7a2a940d325fd8-c75bf62444df13cf353562c744aac36c:getPixels\n",
      "Please wait ...\n"
     ]
    },
    {
     "name": "stderr",
     "output_type": "stream",
     "text": [
      "Downloading Images:   1%|▏         | 139/10606 [00:35<27:27,  6.36image/s]"
     ]
    },
    {
     "name": "stdout",
     "output_type": "stream",
     "text": [
      "Data downloaded to d:\\github\\telangana-crop-health\\downloads\\20240701T050659_20240701T051520_T43QHV_RGB_2023-10-27_2024-07-03.tif\n",
      "Downloaded: downloads/20240701T050659_20240701T051520_T43QHV_RGB_2023-10-27_2024-07-03.tif\n",
      "Data downloaded to d:\\github\\telangana-crop-health\\downloads\\20240202T051029_20240202T052012_T43QHV_RGB_2023-02-11_2024-02-03.tif\n",
      "Downloaded: downloads/20240202T051029_20240202T052012_T43QHV_RGB_2023-02-11_2024-02-03.tif\n",
      "Data downloaded to d:\\github\\telangana-crop-health\\downloads\\20240701T050659_20240701T051520_T43QHV_RGB_2023-08-12_2024-07-03.tif\n",
      "Downloaded: downloads/20240701T050659_20240701T051520_T43QHV_RGB_2023-08-12_2024-07-03.tif\n",
      "Downloading data from https://earthengine.googleapis.com/v1/projects/234865683480/thumbnails/c50bcb24f086250a6a9239f8b4521a7b-6c3bfbd9553de141e4b97e670035dcd2:getPixels\n",
      "Please wait ...\n"
     ]
    },
    {
     "name": "stderr",
     "output_type": "stream",
     "text": [
      "Downloading Images:   1%|▏         | 140/10606 [00:35<32:45,  5.33image/s]"
     ]
    },
    {
     "name": "stdout",
     "output_type": "stream",
     "text": [
      "Downloading data from https://earthengine.googleapis.com/v1/projects/234865683480/thumbnails/4b2349e051e1f1ecc17d8c4dd2a29cea-2dbd3b72f8ced05ed0eccd70dabe3fb0:getPixels\n",
      "Please wait ...\n",
      "Downloading data from https://earthengine.googleapis.com/v1/projects/234865683480/thumbnails/cc241361019bd53c38993f4321f163d0-805ff0d4deabaebf5e5d012aa3fd6259:getPixels\n",
      "Please wait ...\n",
      "Downloading data from https://earthengine.googleapis.com/v1/projects/234865683480/thumbnails/24d9084ca977a91fecea95ad38b78e3b-49b6f1e5c6a42f9c5a348c48d90703e0:getPixels\n",
      "Please wait ...\n",
      "Generating URL ...\n",
      "Downloading data from https://earthengine.googleapis.com/v1/projects/234865683480/thumbnails/33d3ef11d6ef90fdb37c2867bf314a95-24550efd1852bf8217c439e098490a4b:getPixels\n",
      "Please wait ...\n",
      "Data downloaded to d:\\github\\telangana-crop-health\\downloads\\20240316T051649_20240316T053107_T43QHV_RGB_2023-12-19_2024-03-17.tif\n",
      "Downloaded: downloads/20240316T051649_20240316T053107_T43QHV_RGB_2023-12-19_2024-03-17.tif\n"
     ]
    },
    {
     "name": "stderr",
     "output_type": "stream",
     "text": [
      "Downloading Images:   1%|▏         | 141/10606 [00:35<29:58,  5.82image/s]"
     ]
    },
    {
     "name": "stdout",
     "output_type": "stream",
     "text": [
      "Generating URL ...\n",
      "Data downloaded to d:\\github\\telangana-crop-health\\downloads\\20240321T051651_20240321T053116_T43QHV_RGB_2023-07-11_2024-03-22.tif\n",
      "Downloaded: downloads/20240321T051651_20240321T053116_T43QHV_RGB_2023-07-11_2024-03-22.tif\n"
     ]
    },
    {
     "name": "stderr",
     "output_type": "stream",
     "text": [
      "Downloading Images:   1%|▏         | 142/10606 [00:35<39:13,  4.45image/s]"
     ]
    },
    {
     "name": "stdout",
     "output_type": "stream",
     "text": [
      "Downloading data from https://earthengine.googleapis.com/v1/projects/234865683480/thumbnails/7d19b59ddde9135d31ae16adede22a28-8512e737dffde021e5081152a7b852a1:getPixels\n",
      "Please wait ...\n",
      "Downloading data from https://earthengine.googleapis.com/v1/projects/234865683480/thumbnails/3df2cca96652f13f3ebe37a56ca84d2c-8ba0ba228748df3a1a58bcc5de395d33:getPixels\n",
      "Please wait ...\n",
      "Data downloaded to d:\\github\\telangana-crop-health\\downloads\\20240701T050659_20240701T051520_T43QHV_RGB_2023-12-10_2024-07-03.tif\n",
      "Downloaded: downloads/20240701T050659_20240701T051520_T43QHV_RGB_2023-12-10_2024-07-03.tif\n",
      "Generating URL ...\n",
      "Data downloaded to d:\\github\\telangana-crop-health\\downloads\\20240326T051649_20240326T053300_T43QHV_RGB_2023-10-19_2024-03-27.tif\n",
      "Data downloaded to d:\\github\\telangana-crop-health\\downloads\\20240318T050651_20240318T052150_T43QHV_RGB_2023-10-23_2024-03-20.tif\n",
      "Downloaded: downloads/20240326T051649_20240326T053300_T43QHV_RGB_2023-10-19_2024-03-27.tif\n",
      "Downloaded: downloads/20240318T050651_20240318T052150_T43QHV_RGB_2023-10-23_2024-03-20.tif\n",
      "Downloading data from https://earthengine.googleapis.com/v1/projects/234865683480/thumbnails/2dc02aa8ace8949a6b0a2d70064bb4c0-7d0c698fea7f80deadb7a4bb859a6227:getPixels\n",
      "Please wait ...\n",
      "Generating URL ...\n"
     ]
    },
    {
     "name": "stderr",
     "output_type": "stream",
     "text": [
      "Downloading Images:   1%|▏         | 145/10606 [00:36<35:21,  4.93image/s]"
     ]
    },
    {
     "name": "stdout",
     "output_type": "stream",
     "text": [
      "Generating URL ...\n",
      "Generating URL ...\n",
      "Data downloaded to d:\\github\\telangana-crop-health\\downloads\\20240225T051809_20240225T052518_T43QHV_RGB_2023-12-15_2024-02-27.tif\n",
      "Downloaded: downloads/20240225T051809_20240225T052518_T43QHV_RGB_2023-12-15_2024-02-27.tif\n",
      "Generating URL ...\n",
      "Generating URL ...\n",
      "Downloading data from https://earthengine.googleapis.com/v1/projects/234865683480/thumbnails/a45f65dc1fb93c0704fe2d08e5d2fc0c-400300260331ad225066e046177588a5:getPixels\n",
      "Please wait ...\n"
     ]
    },
    {
     "name": "stderr",
     "output_type": "stream",
     "text": [
      "Downloading Images:   1%|▏         | 146/10606 [00:36<37:55,  4.60image/s]"
     ]
    },
    {
     "name": "stdout",
     "output_type": "stream",
     "text": [
      "Downloading data from https://earthengine.googleapis.com/v1/projects/234865683480/thumbnails/d77ac90b52be77240376d08260ccc977-35acc716653d0af5dc21b42102b75151:getPixels\n",
      "Please wait ...\n",
      "Data downloaded to d:\\github\\telangana-crop-health\\downloads\\20240215T051919_20240215T053307_T43QHV_RGB_2023-11-14_2024-02-17.tif\n",
      "Downloaded: downloads/20240215T051919_20240215T053307_T43QHV_RGB_2023-11-14_2024-02-17.tif\n",
      "Data downloaded to d:\\github\\telangana-crop-health\\downloads\\20240318T050651_20240318T052150_T43QHV_RGB_2023-08-11_2024-03-21.tif\n",
      "Downloaded: downloads/20240318T050651_20240318T052150_T43QHV_RGB_2023-08-11_2024-03-21.tif\n",
      "Data downloaded to d:\\github\\telangana-crop-health\\downloads\\20240402T050649_20240402T051718_T43QHV_RGB_2023-12-29_2024-04-03.tif\n",
      "Downloaded: downloads/20240402T050649_20240402T051718_T43QHV_RGB_2023-12-29_2024-04-03.tif\n",
      "Data downloaded to d:\\github\\telangana-crop-health\\downloads\\20240217T050901_20240217T051716_T43QHV_RGB_2023-04-11_2024-02-20.tif\n",
      "Downloaded: downloads/20240217T050901_20240217T051716_T43QHV_RGB_2023-04-11_2024-02-20.tif\n",
      "Downloading data from https://earthengine.googleapis.com/v1/projects/234865683480/thumbnails/7452072415445bc61262e308d1e77c41-bc68381c934b36795543611c74aed6fb:getPixels\n",
      "Please wait ...\n",
      "Downloading data from https://earthengine.googleapis.com/v1/projects/234865683480/thumbnails/762b3dd5059bcf03a038f9676d5a0e39-8598ad98983ef3715793b6f01a6f362e:getPixels\n",
      "Please wait ...\n",
      "Downloading data from https://earthengine.googleapis.com/v1/projects/234865683480/thumbnails/6618efbd590d78165a15be32ee9c1fb1-28928ab0c876bb2802d8d126953ee194:getPixels\n",
      "Please wait ...\n",
      "Generating URL ...\n"
     ]
    },
    {
     "name": "stderr",
     "output_type": "stream",
     "text": [
      "Downloading Images:   1%|▏         | 150/10606 [00:37<30:33,  5.70image/s]"
     ]
    },
    {
     "name": "stdout",
     "output_type": "stream",
     "text": [
      "Downloading data from https://earthengine.googleapis.com/v1/projects/234865683480/thumbnails/8d3f2cfc7c1c6ef5220a36c2db5ecbda-7e92c8011e728b03eb94701470e1c166:getPixels\n",
      "Please wait ...\n",
      "Generating URL ...\n",
      "Data downloaded to d:\\github\\telangana-crop-health\\downloads\\20240217T050901_20240217T051716_T43QHV_RGB_2023-09-10_2024-02-20.tif\n",
      "Downloaded: downloads/20240217T050901_20240217T051716_T43QHV_RGB_2023-09-10_2024-02-20.tif\n",
      "Data downloaded to d:\\github\\telangana-crop-health\\downloads\\20240321T051651_20240321T053116_T43QHV_RGB_2023-10-31_2024-03-22.tif\n",
      "Downloaded: downloads/20240321T051651_20240321T053116_T43QHV_RGB_2023-10-31_2024-03-22.tif\n",
      "Generating URL ...\n",
      "Generating URL ...\n",
      "Generating URL ...\n"
     ]
    },
    {
     "name": "stderr",
     "output_type": "stream",
     "text": [
      "Downloading Images:   1%|▏         | 153/10606 [00:37<25:59,  6.70image/s]"
     ]
    },
    {
     "name": "stdout",
     "output_type": "stream",
     "text": [
      "Data downloaded to d:\\github\\telangana-crop-health\\downloads\\20240225T051809_20240225T052518_T43QHV_RGB_2023-12-10_2024-02-27.tif\n",
      "Downloaded: downloads/20240225T051809_20240225T052518_T43QHV_RGB_2023-12-10_2024-02-27.tif\n",
      "Generating URL ...\n",
      "Data downloaded to d:\\github\\telangana-crop-health\\downloads\\20240103T051219_20240103T052207_T43QHA_RGB_2023-12-21_2024-01-04.tif\n",
      "Downloaded: downloads/20240103T051219_20240103T052207_T43QHA_RGB_2023-12-21_2024-01-04.tif\n",
      "Data downloaded to d:\\github\\telangana-crop-health\\downloads\\20240217T050901_20240217T051716_T43QHV_RGB_2023-12-28_2024-02-20.tif\n",
      "Downloaded: downloads/20240217T050901_20240217T051716_T43QHV_RGB_2023-12-28_2024-02-20.tif\n"
     ]
    },
    {
     "name": "stderr",
     "output_type": "stream",
     "text": [
      "Downloading Images:   1%|▏         | 155/10606 [00:37<26:23,  6.60image/s]"
     ]
    },
    {
     "name": "stdout",
     "output_type": "stream",
     "text": [
      "Downloading data from https://earthengine.googleapis.com/v1/projects/234865683480/thumbnails/7bbcd9f568a176ca61425e0a5f21656f-51f804a85f3ea10e047d773227ecbbfc:getPixels\n",
      "Please wait ...Downloading data from https://earthengine.googleapis.com/v1/projects/234865683480/thumbnails/7dc3dc8fd68fab9c681d8a791feab9af-31092c69c6ac1f8d85c36a309bb55df9:getPixels\n",
      "Please wait ...\n",
      "\n",
      "Downloading data from https://earthengine.googleapis.com/v1/projects/234865683480/thumbnails/0185a475bd0bc15f56b60f991e3aa252-cc74f826cb1014d6a5bb19a052cad212:getPixels\n",
      "Please wait ...\n",
      "Downloading data from https://earthengine.googleapis.com/v1/projects/234865683480/thumbnails/92a22683909fa4ef25837604fe86e8b9-29bad6730a7665cf45e629ab39599784:getPixels\n",
      "Please wait ...\n",
      "Generating URL ...\n",
      "Data downloaded to d:\\github\\telangana-crop-health\\downloads\\20240601T050649_20240601T051727_T43QHA_RGB_2023-11-22_2024-06-03.tif\n",
      "Downloaded: downloads/20240601T050649_20240601T051727_T43QHA_RGB_2023-11-22_2024-06-03.tif\n",
      "Downloading data from https://earthengine.googleapis.com/v1/projects/234865683480/thumbnails/156e2609d515703d20a6be5caf37185b-2f3f0545a4f507ffdbc9c0477035f866:getPixels\n",
      "Please wait ...\n",
      "Generating URL ...\n",
      "Generating URL ...\n",
      "Generating URL ...\n",
      "Downloading data from https://earthengine.googleapis.com/v1/projects/234865683480/thumbnails/d55429696a1833a2f3b7db16db182ee3-024fdeb3736135ae3cb439e4e3e83f30:getPixels\n",
      "Please wait ...\n"
     ]
    },
    {
     "name": "stderr",
     "output_type": "stream",
     "text": [
      "Downloading Images:   1%|▏         | 156/10606 [00:38<37:19,  4.67image/s]"
     ]
    },
    {
     "name": "stdout",
     "output_type": "stream",
     "text": [
      "Data downloaded to d:\\github\\telangana-crop-health\\downloads\\20240318T050651_20240318T052150_T43QHA_RGB_2023-12-13_2024-03-21.tif\n",
      "Downloaded: downloads/20240318T050651_20240318T052150_T43QHA_RGB_2023-12-13_2024-03-21.tif\n",
      "Data downloaded to d:\\github\\telangana-crop-health\\downloads\\20241002T051649_20241002T052816_T43QHA_RGB_2023-12-15_2024-10-03.tif\n",
      "Downloaded: downloads/20241002T051649_20241002T052816_T43QHA_RGB_2023-12-15_2024-10-03.tif\n",
      "Generating URL ...\n",
      "Data downloaded to d:\\github\\telangana-crop-health\\downloads\\20240313T050649_20240313T052012_T43QHB_RGB_2023-08-11_2024-03-14.tif\n",
      "Downloaded: downloads/20240313T050649_20240313T052012_T43QHB_RGB_2023-08-11_2024-03-14.tif\n"
     ]
    },
    {
     "name": "stderr",
     "output_type": "stream",
     "text": [
      "Downloading Images:   1%|▏         | 158/10606 [00:38<29:49,  5.84image/s]"
     ]
    },
    {
     "name": "stdout",
     "output_type": "stream",
     "text": [
      "Downloading data from https://earthengine.googleapis.com/v1/projects/234865683480/thumbnails/5c69c0598a5a7dab02515312adb40202-b44e79fd5a4dfaeda716063b8fba55aa:getPixels\n",
      "Please wait ...\n",
      "Downloading data from https://earthengine.googleapis.com/v1/projects/234865683480/thumbnails/1c015000657d1687be9c1e4dc2cfa64a-84c2c02a57acf8a8c52a8548b02bfb9d:getPixels\n",
      "Please wait ...\n",
      "Data downloaded to d:\\github\\telangana-crop-health\\downloads\\20240731T050649_20240731T051731_T43QHB_RGB_2023-10-21_2024-08-02.tif\n",
      "Data downloaded to d:\\github\\telangana-crop-health\\downloads\\20240313T050649_20240313T052012_T43QHB_RGB_2023-12-29_2024-03-15.tif\n",
      "Downloaded: downloads/20240731T050649_20240731T051731_T43QHB_RGB_2023-10-21_2024-08-02.tif\n",
      "Downloaded: downloads/20240313T050649_20240313T052012_T43QHB_RGB_2023-12-29_2024-03-15.tif\n",
      "Downloading data from https://earthengine.googleapis.com/v1/projects/234865683480/thumbnails/4a49ecb31786a016ba193eaada207f93-7a0c0353acfc8337a4182bdf78cbb858:getPixels\n",
      "Please wait ...\n"
     ]
    },
    {
     "name": "stderr",
     "output_type": "stream",
     "text": [
      "Downloading Images:   2%|▏         | 161/10606 [00:38<24:21,  7.15image/s]"
     ]
    },
    {
     "name": "stdout",
     "output_type": "stream",
     "text": [
      "Data downloaded to d:\\github\\telangana-crop-health\\downloads\\20241201T052109_20241201T053222_T43QHV_RGB_2023-10-14_2024-12-02.tif\n",
      "Downloaded: downloads/20241201T052109_20241201T053222_T43QHV_RGB_2023-10-14_2024-12-02.tif\n",
      "Generating URL ...\n",
      "Generating URL ...\n",
      "Generating URL ...\n"
     ]
    },
    {
     "name": "stderr",
     "output_type": "stream",
     "text": [
      "Downloading Images:   2%|▏         | 162/10606 [00:39<35:28,  4.91image/s]"
     ]
    },
    {
     "name": "stdout",
     "output_type": "stream",
     "text": [
      "Generating URL ...\n",
      "Generating URL ...\n",
      "Generating URL ...\n",
      "Downloading data from https://earthengine.googleapis.com/v1/projects/234865683480/thumbnails/47ce1f3ccf7c5b27b9de04f31d00439d-b68658c4b21f27792d40bc9ef0fe903b:getPixels\n",
      "Please wait ...\n",
      "Data downloaded to d:\\github\\telangana-crop-health\\downloads\\20240830T050659_20240830T052011_T43QHB_RGB_2023-11-16_2024-09-02.tif\n",
      "Data downloaded to d:\\github\\telangana-crop-health\\downloads\\20240202T051029_20240202T052012_T43QHB_RGB_2023-10-25_2024-02-03.tif\n",
      "Downloaded: downloads/20240830T050659_20240830T052011_T43QHB_RGB_2023-11-16_2024-09-02.tif\n",
      "Downloaded: downloads/20240202T051029_20240202T052012_T43QHB_RGB_2023-10-25_2024-02-03.tif\n",
      "Data downloaded to d:\\github\\telangana-crop-health\\downloads\\20240131T052041_20240131T053139_T43QHB_RGB_2023-12-25_2024-02-02.tif\n",
      "Downloaded: downloads/20240131T052041_20240131T053139_T43QHB_RGB_2023-12-25_2024-02-02.tif\n",
      "Downloading data from https://earthengine.googleapis.com/v1/projects/234865683480/thumbnails/856b6b5ff3f08de41389bee460d6e605-7f91ff2cee84ba40daf8d419fa62d1ea:getPixels\n",
      "Please wait ...\n",
      "Downloading data from https://earthengine.googleapis.com/v1/projects/234865683480/thumbnails/8b058ddb637c1fb8f7a0784938c5b367-e8613264792a30624864cee00deffa3c:getPixels\n",
      "Please wait ...\n",
      "Downloading data from https://earthengine.googleapis.com/v1/projects/234865683480/thumbnails/e17546cb3f9dfb740573b0d238a56a8b-2c40f75e83c8645ec294b6e6a284081f:getPixels\n",
      "Please wait ...\n",
      "Downloading data from https://earthengine.googleapis.com/v1/projects/234865683480/thumbnails/9ff75a2d2fa418f9277a92560db6aa63-6318cad245299a25bf69facb20a0e5a2:getPixels\n",
      "Please wait ...\n",
      "Downloading data from https://earthengine.googleapis.com/v1/projects/234865683480/thumbnails/3a3523f63d95803a7b7ad6ec1759debf-7842d185cbd1f6d025cde4b31cfbe1f6:getPixels\n",
      "Please wait ...\n",
      "Generating URL ...\n",
      "Downloading data from https://earthengine.googleapis.com/v1/projects/234865683480/thumbnails/1742d6091af8a8a8380b87db217d409a-9b611ec2198375fac8629c023609ab5c:getPixels\n",
      "Please wait ...\n",
      "Generating URL ...\n"
     ]
    },
    {
     "name": "stderr",
     "output_type": "stream",
     "text": [
      "Downloading Images:   2%|▏         | 165/10606 [00:40<40:11,  4.33image/s]"
     ]
    },
    {
     "name": "stdout",
     "output_type": "stream",
     "text": [
      "Generating URL ...\n",
      "Data downloaded to d:\\github\\telangana-crop-health\\downloads\\20240215T051919_20240215T053307_T43QHB_RGB_2023-10-18_2024-02-17.tif\n",
      "Downloaded: downloads/20240215T051919_20240215T053307_T43QHB_RGB_2023-10-18_2024-02-17.tif\n"
     ]
    },
    {
     "name": "stderr",
     "output_type": "stream",
     "text": [
      "Downloading Images:   2%|▏         | 167/10606 [00:40<35:10,  4.95image/s]"
     ]
    },
    {
     "name": "stdout",
     "output_type": "stream",
     "text": [
      "Downloading data from https://earthengine.googleapis.com/v1/projects/234865683480/thumbnails/d561268c0094ef56bd16d27cb1c9a840-d78f71fa2e7710f3ebbef0b89accd4ce:getPixels\n",
      "Please wait ...\n",
      "Data downloaded to d:\\github\\telangana-crop-health\\downloads\\20240326T051649_20240326T053300_T43QHB_RGB_2023-12-17_2024-03-27.tif\n",
      "Downloaded: downloads/20240326T051649_20240326T053300_T43QHB_RGB_2023-12-17_2024-03-27.tif\n",
      "Generating URL ...\n",
      "Data downloaded to d:\\github\\telangana-crop-health\\downloads\\20240313T050649_20240313T052012_T43QHB_RGB_2023-01-12_2024-03-14.tif\n",
      "Downloaded: downloads/20240313T050649_20240313T052012_T43QHB_RGB_2023-01-12_2024-03-14.tif\n",
      "Data downloaded to d:\\github\\telangana-crop-health\\downloads\\20240101T052221_20240101T052222_T43QHB_RGB_2023-10-10_2024-01-03.tif\n",
      "Downloaded: downloads/20240101T052221_20240101T052222_T43QHB_RGB_2023-10-10_2024-01-03.tif\n",
      "Downloading data from https://earthengine.googleapis.com/v1/projects/234865683480/thumbnails/74aad9f44f5f732c09653a2640d16a1a-47ad1c67c1f22fe9f13af3acf106a41d:getPixels\n",
      "Please wait ...\n",
      "Data downloaded to d:\\github\\telangana-crop-health\\downloads\\20240313T050649_20240313T052012_T43QHB_RGB_2023-12-27_2024-03-14.tif\n",
      "Downloaded: downloads/20240313T050649_20240313T052012_T43QHB_RGB_2023-12-27_2024-03-14.tif\n",
      "Downloading data from https://earthengine.googleapis.com/v1/projects/234865683480/thumbnails/828febbd85df05e9e0f3ea19d664dbb9-eedc5ead56458f8ad5ddd72ba5092406:getPixels\n",
      "Please wait ...\n",
      "Downloading data from https://earthengine.googleapis.com/v1/projects/234865683480/thumbnails/3dd2b6f003128736a26aecc92b8e479d-900855de66df0c9eb2e0398ad6e80481:getPixels\n",
      "Please wait ...\n",
      "Generating URL ...\n"
     ]
    },
    {
     "name": "stderr",
     "output_type": "stream",
     "text": [
      "Downloading Images:   2%|▏         | 170/10606 [00:40<29:41,  5.86image/s]"
     ]
    },
    {
     "name": "stdout",
     "output_type": "stream",
     "text": [
      "Data downloaded to d:\\github\\telangana-crop-health\\downloads\\20240601T050649_20240601T051727_T43QHB_RGB_2023-07-11_2024-06-02.tif\n",
      "Downloaded: downloads/20240601T050649_20240601T051727_T43QHB_RGB_2023-07-11_2024-06-02.tif\n",
      "Generating URL ...\n",
      "Generating URL ...\n",
      "Generating URL ...\n",
      "Generating URL ...\n"
     ]
    },
    {
     "name": "stderr",
     "output_type": "stream",
     "text": [
      "Downloading Images:   2%|▏         | 173/10606 [00:41<24:06,  7.21image/s]"
     ]
    },
    {
     "name": "stdout",
     "output_type": "stream",
     "text": [
      "Data downloaded to d:\\github\\telangana-crop-health\\downloads\\20240830T050659_20240830T052011_T43QHB_RGB_2023-10-10_2024-09-02.tif\n",
      "Downloaded: downloads/20240830T050659_20240830T052011_T43QHB_RGB_2023-10-10_2024-09-02.tif\n",
      "Downloading data from https://earthengine.googleapis.com/v1/projects/234865683480/thumbnails/e28fe08640d98946a383908f235c4add-0a0bc04d4496efe5a8b2f35fe62fadd3:getPixels\n",
      "Please wait ...\n",
      "Data downloaded to d:\\github\\telangana-crop-health\\downloads\\20240212T050939_20240212T051719_T43QHB_RGB_2023-11-12_2024-02-14.tif\n",
      "Downloaded: downloads/20240212T050939_20240212T051719_T43QHB_RGB_2023-11-12_2024-02-14.tif\n",
      "Data downloaded to d:\\github\\telangana-crop-health\\downloads\\20240326T051649_20240326T053300_T43QHB_RGB_2023-02-10_2024-03-27.tif\n",
      "Downloaded: downloads/20240326T051649_20240326T053300_T43QHB_RGB_2023-02-10_2024-03-27.tif\n",
      "Data downloaded to d:\\github\\telangana-crop-health\\downloads\\20241002T051649_20241002T052816_T43QHB_RGB_2023-12-28_2024-10-03.tif\n",
      "Downloaded: downloads/20241002T051649_20241002T052816_T43QHB_RGB_2023-12-28_2024-10-03.tif\n",
      "Downloading data from https://earthengine.googleapis.com/v1/projects/234865683480/thumbnails/b2b1198ceec39d3241995cc337ae5893-0b4370be34934117c537d4f6b99905aa:getPixels\n",
      "Please wait ...\n"
     ]
    },
    {
     "name": "stderr",
     "output_type": "stream",
     "text": [
      "Downloading Images:   2%|▏         | 175/10606 [00:41<22:58,  7.57image/s]"
     ]
    },
    {
     "name": "stdout",
     "output_type": "stream",
     "text": [
      "Generating URL ...\n",
      "Data downloaded to d:\\github\\telangana-crop-health\\downloads\\20240902T051659_20240902T052438_T43QHB_RGB_2023-12-20_2024-09-03.tif\n",
      "Downloaded: downloads/20240902T051659_20240902T052438_T43QHB_RGB_2023-12-20_2024-09-03.tif\n",
      "Downloading data from https://earthengine.googleapis.com/v1/projects/234865683480/thumbnails/432090e122d03cffedc8bfd678e15230-c6146f1a12f5d9eb1113ed066a07ecdf:getPixels\n",
      "Please wait ...\n",
      "Generating URL ...\n",
      "Downloading data from https://earthengine.googleapis.com/v1/projects/234865683480/thumbnails/866a405786d4313475ec827b65748d7e-acec19fcc15d1b8d85fc5d0cdd5122c5:getPixels\n",
      "Please wait ...\n",
      "Downloading data from https://earthengine.googleapis.com/v1/projects/234865683480/thumbnails/6441b8a8e5bf5acb341e40db58412c82-4700effaeb3d2e4484c194de7bb8f7f4:getPixels\n",
      "Please wait ...\n",
      "Generating URL ...\n",
      "Downloading data from https://earthengine.googleapis.com/v1/projects/234865683480/thumbnails/1d8654cef042412421c2afdee31d22be-be5c4f9045f2edaf3af258af5929f7b7:getPixels\n",
      "Please wait ...\n",
      "Data downloaded to d:\\github\\telangana-crop-health\\downloads\\20240321T051651_20240321T053116_T43QHB_RGB_2023-10-12_2024-03-22.tif\n",
      "Downloaded: downloads/20240321T051651_20240321T053116_T43QHB_RGB_2023-10-12_2024-03-22.tif\n"
     ]
    },
    {
     "name": "stderr",
     "output_type": "stream",
     "text": [
      "Downloading Images:   2%|▏         | 176/10606 [00:41<31:41,  5.48image/s]"
     ]
    },
    {
     "name": "stdout",
     "output_type": "stream",
     "text": [
      "Generating URL ...\n",
      "Generating URL ...\n",
      "Generating URL ...\n",
      "Downloading data from https://earthengine.googleapis.com/v1/projects/234865683480/thumbnails/128711f917a3cc3c46565a1d2a8298fe-4b46154af4ce55f764bfd6f75cd73833:getPixels\n",
      "Please wait ...\n"
     ]
    },
    {
     "name": "stderr",
     "output_type": "stream",
     "text": [
      "Downloading Images:   2%|▏         | 179/10606 [00:42<30:09,  5.76image/s]"
     ]
    },
    {
     "name": "stdout",
     "output_type": "stream",
     "text": [
      "Data downloaded to d:\\github\\telangana-crop-health\\downloads\\20240311T051651_20240311T053119_T43QHB_RGB_2023-12-16_2024-03-13.tif\n",
      "Downloaded: downloads/20240311T051651_20240311T053119_T43QHB_RGB_2023-12-16_2024-03-13.tif\n",
      "Downloading data from https://earthengine.googleapis.com/v1/projects/234865683480/thumbnails/b3a3b8368ebe0a67f362534c72d8d7fd-0e0c0bfd98ebee24d0d40681256a463f:getPixels\n",
      "Please wait ...\n",
      "Data downloaded to d:\\github\\telangana-crop-health\\downloads\\20240220T051841_20240220T053308_T43QHB_RGB_2023-10-30_2024-02-22.tif\n",
      "Downloaded: downloads/20240220T051841_20240220T053308_T43QHB_RGB_2023-10-30_2024-02-22.tif\n",
      "Generating URL ...\n",
      "Data downloaded to d:\\github\\telangana-crop-health\\downloads\\20241002T051649_20241002T052816_T43QHB_RGB_2023-12-10_2024-10-03.tif\n",
      "Downloaded: downloads/20241002T051649_20241002T052816_T43QHB_RGB_2023-12-10_2024-10-03.tif\n"
     ]
    },
    {
     "name": "stderr",
     "output_type": "stream",
     "text": [
      "Downloading Images:   2%|▏         | 180/10606 [00:42<33:45,  5.15image/s]"
     ]
    },
    {
     "name": "stdout",
     "output_type": "stream",
     "text": [
      "Downloading data from https://earthengine.googleapis.com/v1/projects/234865683480/thumbnails/caab3838415d5c75903b6d61dcf16c1b-3500066499cee4da59102999afce74fe:getPixels\n",
      "Please wait ...\n",
      "Downloading data from https://earthengine.googleapis.com/v1/projects/234865683480/thumbnails/80dff62840fc87692d42871bb93fea07-53df985fc8ccd18d6ac4551588ca9b41:getPixels\n",
      "Please wait ...\n",
      "Data downloaded to d:\\github\\telangana-crop-health\\downloads\\20240316T051649_20240316T053107_T43QHB_RGB_2023-09-12_2024-03-18.tif\n",
      "Downloaded: downloads/20240316T051649_20240316T053107_T43QHB_RGB_2023-09-12_2024-03-18.tif\n",
      "Generating URL ...\n"
     ]
    },
    {
     "name": "stderr",
     "output_type": "stream",
     "text": [
      "Downloading Images:   2%|▏         | 181/10606 [00:43<41:09,  4.22image/s]"
     ]
    },
    {
     "name": "stdout",
     "output_type": "stream",
     "text": [
      "Generating URL ...\n",
      "Generating URL ...\n",
      "Downloading data from https://earthengine.googleapis.com/v1/projects/234865683480/thumbnails/1c2d154acf8785a9e8e1131f6dd6a89a-35a647ac0baccde29fd5dab6c07348d7:getPixels\n",
      "Please wait ...\n",
      "Data downloaded to d:\\github\\telangana-crop-health\\downloads\\20240318T050651_20240318T052150_T43QHB_RGB_2023-12-23_2024-03-21.tif\n",
      "Downloaded: downloads/20240318T050651_20240318T052150_T43QHB_RGB_2023-12-23_2024-03-21.tif\n"
     ]
    },
    {
     "name": "stderr",
     "output_type": "stream",
     "text": [
      "Downloading Images:   2%|▏         | 183/10606 [00:43<30:44,  5.65image/s]"
     ]
    },
    {
     "name": "stdout",
     "output_type": "stream",
     "text": [
      "Data downloaded to d:\\github\\telangana-crop-health\\downloads\\20240601T050649_20240601T051727_T43QHB_RGB_2023-12-16_2024-06-03.tif\n",
      "Downloaded: downloads/20240601T050649_20240601T051727_T43QHB_RGB_2023-12-16_2024-06-03.tif\n",
      "Data downloaded to d:\\github\\telangana-crop-health\\downloads\\20240929T050649_20240929T051705_T43QHB_RGB_2023-07-12_2024-10-03.tif\n",
      "Downloaded: downloads/20240929T050649_20240929T051705_T43QHB_RGB_2023-07-12_2024-10-03.tif\n",
      "Generating URL ...\n",
      "Data downloaded to d:\\github\\telangana-crop-health\\downloads\\20240318T050651_20240318T052150_T43QHB_RGB_2023-10-15_2024-03-21.tif\n",
      "Downloaded: downloads/20240318T050651_20240318T052150_T43QHB_RGB_2023-10-15_2024-03-21.tif\n",
      "Downloading data from https://earthengine.googleapis.com/v1/projects/234865683480/thumbnails/7cf0f72bf0dafae8e01b5d34125cbb47-a6958381e4663b8346796c78b3ea3245:getPixels\n",
      "Please wait ...\n",
      "Downloading data from https://earthengine.googleapis.com/v1/projects/234865683480/thumbnails/4bbeae636d3e4845a7e3486961084946-46435ad7a6b01d23e1533bd3ee5cffe0:getPixels\n",
      "Please wait ...\n",
      "Downloading data from https://earthengine.googleapis.com/v1/projects/234865683480/thumbnails/c7e9d19825ba1e3595f1dd10b0fa2775-ea47b12457d470c059cbeeef29e6103b:getPixels\n",
      "Please wait ...\n"
     ]
    },
    {
     "name": "stderr",
     "output_type": "stream",
     "text": [
      "Downloading Images:   2%|▏         | 185/10606 [00:43<36:37,  4.74image/s]"
     ]
    },
    {
     "name": "stdout",
     "output_type": "stream",
     "text": [
      "Downloading data from https://earthengine.googleapis.com/v1/projects/234865683480/thumbnails/fb2a7a9597e72c195bd26a3d4b1b9ad8-ed154a0d49fc2e3ba2566f016d4bf39e:getPixels\n",
      "Please wait ...\n",
      "Generating URL ...\n",
      "Generating URL ...\n",
      "Data downloaded to d:\\github\\telangana-crop-health\\downloads\\20240830T050659_20240830T052011_T43QHB_RGB_2023-11-23_2024-09-02.tif\n",
      "Downloaded: downloads/20240830T050659_20240830T052011_T43QHB_RGB_2023-11-23_2024-09-02.tif\n",
      "Generating URL ...\n",
      "Generating URL ...\n"
     ]
    },
    {
     "name": "stderr",
     "output_type": "stream",
     "text": [
      "Downloading Images:   2%|▏         | 186/10606 [00:44<38:20,  4.53image/s]"
     ]
    },
    {
     "name": "stdout",
     "output_type": "stream",
     "text": [
      "Downloading data from https://earthengine.googleapis.com/v1/projects/234865683480/thumbnails/fd76407d27bdb7b2bd4bca109556194b-59f64eefc00931a3e29efdaa60fe53b4:getPixels\n",
      "Please wait ...\n",
      "Data downloaded to d:\\github\\telangana-crop-health\\downloads\\20240202T051029_20240202T052012_T43QHB_RGB_2023-01-10_2024-02-03.tif\n",
      "Downloaded: downloads/20240202T051029_20240202T052012_T43QHB_RGB_2023-01-10_2024-02-03.tif\n",
      "Data downloaded to d:\\github\\telangana-crop-health\\downloads\\20231229T051221_20231229T052219_T43QHB_RGB_2023-12-18_2024-01-03.tif\n",
      "Downloaded: downloads/20231229T051221_20231229T052219_T43QHB_RGB_2023-12-18_2024-01-03.tif\n"
     ]
    },
    {
     "name": "stderr",
     "output_type": "stream",
     "text": [
      "Downloading Images:   2%|▏         | 188/10606 [00:44<31:33,  5.50image/s]"
     ]
    },
    {
     "name": "stdout",
     "output_type": "stream",
     "text": [
      "Data downloaded to d:\\github\\telangana-crop-health\\downloads\\20240902T051659_20240902T052438_T43QHB_RGB_2023-10-21_2024-09-03.tifData downloaded to d:\\github\\telangana-crop-health\\downloads\\20240212T050939_20240212T051719_T43QHB_RGB_2023-06-11_2024-02-17.tif\n",
      "\n",
      "Downloaded: downloads/20240902T051659_20240902T052438_T43QHB_RGB_2023-10-21_2024-09-03.tif\n",
      "Downloaded: downloads/20240212T050939_20240212T051719_T43QHB_RGB_2023-06-11_2024-02-17.tif\n",
      "Data downloaded to d:\\github\\telangana-crop-health\\downloads\\20240731T050649_20240731T051731_T43QHB_RGB_2023-10-20_2024-08-02.tif\n",
      "Downloaded: downloads/20240731T050649_20240731T051731_T43QHB_RGB_2023-10-20_2024-08-02.tif\n",
      "Generating URL ...\n",
      "Downloading data from https://earthengine.googleapis.com/v1/projects/234865683480/thumbnails/ba9e0223c19178b1125ba9387f2fafe0-72140f49369a14c3fca70b1fe3a62c51:getPixels\n",
      "Please wait ...\n",
      "Downloading data from https://earthengine.googleapis.com/v1/projects/234865683480/thumbnails/04d79f628f0cca61df359c9ec5dcaf7e-5aaa96adf8959dc8a92f0038c5ff77a9:getPixels\n",
      "Please wait ...\n",
      "Downloading data from https://earthengine.googleapis.com/v1/projects/234865683480/thumbnails/7d1a17f2e9949de4c380eddd62d6875a-e000498aba6316076be306ba42014744:getPixels\n",
      "Please wait ...\n",
      "Generating URL ...\n",
      "Generating URL ...\n"
     ]
    },
    {
     "name": "stderr",
     "output_type": "stream",
     "text": [
      "Downloading Images:   2%|▏         | 191/10606 [00:44<29:32,  5.88image/s]"
     ]
    },
    {
     "name": "stdout",
     "output_type": "stream",
     "text": [
      "Data downloaded to d:\\github\\telangana-crop-health\\downloads\\20241029T050839_20241029T052100_T43QHB_RGB_2023-11-21_2024-11-03.tif\n",
      "Downloaded: downloads/20241029T050839_20241029T052100_T43QHB_RGB_2023-11-21_2024-11-03.tif\n",
      "Generating URL ...\n",
      "Generating URL ...\n",
      "Generating URL ...\n",
      "Data downloaded to d:\\github\\telangana-crop-health\\downloads\\20240323T050649_20240323T051727_T43QHB_RGB_2023-07-12_2024-03-25.tif\n",
      "Downloaded: downloads/20240323T050649_20240323T051727_T43QHB_RGB_2023-07-12_2024-03-25.tif\n"
     ]
    },
    {
     "name": "stderr",
     "output_type": "stream",
     "text": [
      "Downloading Images:   2%|▏         | 194/10606 [00:45<27:24,  6.33image/s]"
     ]
    },
    {
     "name": "stdout",
     "output_type": "stream",
     "text": [
      "Downloading data from https://earthengine.googleapis.com/v1/projects/234865683480/thumbnails/9529011906b88bcd9dae3b3d916522b2-d245adf56c8d2ee79f1661d829bbd73f:getPixels\n",
      "Please wait ...\n",
      "Data downloaded to d:\\github\\telangana-crop-health\\downloads\\20240701T050659_20240701T051520_T43QHB_RGB_2023-10-30_2024-07-03.tif\n",
      "Downloaded: downloads/20240701T050659_20240701T051520_T43QHB_RGB_2023-10-30_2024-07-03.tif\n",
      "Downloading data from https://earthengine.googleapis.com/v1/projects/234865683480/thumbnails/ae24e1262f647d7dace0669ec3907ef9-cedd3d879671d181c13796b93fdbd6a6:getPixels\n",
      "Please wait ...\n",
      "Data downloaded to d:\\github\\telangana-crop-health\\downloads\\20240731T050649_20240731T051731_T43QHB_RGB_2023-01-11_2024-08-03.tif\n",
      "Downloaded: downloads/20240731T050649_20240731T051731_T43QHB_RGB_2023-01-11_2024-08-03.tif\n",
      "Generating URL ...\n",
      "Downloading data from https://earthengine.googleapis.com/v1/projects/234865683480/thumbnails/dc0eea44cd424f7ff727783d01028a51-dccc2699adaa75e475e145547d688cde:getPixels\n",
      "Please wait ...\n",
      "Downloading data from https://earthengine.googleapis.com/v1/projects/234865683480/thumbnails/226eec44d352f2cae5d01bc4a2c829dc-d7c00db10482e775a28db005a53cf23e:getPixels\n",
      "Please wait ...\n",
      "Downloading data from https://earthengine.googleapis.com/v1/projects/234865683480/thumbnails/cd30408b16cb66bacad128d85c264e22-6179a25640497c28d811b7b3b1446d45:getPixels\n",
      "Please wait ...\n",
      "Generating URL ...\n",
      "Downloading data from https://earthengine.googleapis.com/v1/projects/234865683480/thumbnails/91b9b9741a1073cb31ba2c34a4b6155e-5e0d9859d70248f2622a0f0268e56036:getPixels\n",
      "Please wait ...\n",
      "Generating URL ...\n",
      "Downloading data from https://earthengine.googleapis.com/v1/projects/234865683480/thumbnails/5c4b39e7990684fdd58ebb2b640e7aa8-c086ae9276313e85271b147597ebeaad:getPixels\n",
      "Please wait ...\n",
      "Downloading data from https://earthengine.googleapis.com/v1/projects/234865683480/thumbnails/791eaaf61beb263e7d96b26e2be201e5-ab6074d27292ebe33e74168bc50271d3:getPixels\n",
      "Please wait ...\n",
      "Generating URL ...\n",
      "Downloading data from https://earthengine.googleapis.com/v1/projects/234865683480/thumbnails/cf41ccaa735f1a6b442a446522f1c889-094a260b9586d8d24aa8b9c2ca89d1c9:getPixels\n",
      "Please wait ...\n"
     ]
    },
    {
     "name": "stderr",
     "output_type": "stream",
     "text": [
      "Downloading Images:   2%|▏         | 195/10606 [00:45<50:13,  3.45image/s]"
     ]
    },
    {
     "name": "stdout",
     "output_type": "stream",
     "text": [
      "Data downloaded to d:\\github\\telangana-crop-health\\downloads\\20231229T051221_20231229T052219_T43QHB_RGB_2023-10-10_2024-01-02.tif\n",
      "Downloaded: downloads/20231229T051221_20231229T052219_T43QHB_RGB_2023-10-10_2024-01-02.tif\n",
      "Downloading data from https://earthengine.googleapis.com/v1/projects/234865683480/thumbnails/90820daed50907e9da2a63ca077c3b08-f7073c5743b30fbc8f84a105b51d1776:getPixels\n",
      "Please wait ...\n"
     ]
    },
    {
     "name": "stderr",
     "output_type": "stream",
     "text": [
      "Downloading Images:   2%|▏         | 196/10606 [00:46<46:56,  3.70image/s]"
     ]
    },
    {
     "name": "stdout",
     "output_type": "stream",
     "text": [
      "Data downloaded to d:\\github\\telangana-crop-health\\downloads\\20240318T050651_20240318T052150_T43QHB_RGB_2023-05-12_2024-03-22.tif\n",
      "Downloaded: downloads/20240318T050651_20240318T052150_T43QHB_RGB_2023-05-12_2024-03-22.tif\n",
      "Data downloaded to d:\\github\\telangana-crop-health\\downloads\\20240212T050939_20240212T051719_T43QHB_RGB_2023-01-10_2024-02-14.tif\n",
      "Downloaded: downloads/20240212T050939_20240212T051719_T43QHB_RGB_2023-01-10_2024-02-14.tif\n",
      "Downloading data from https://earthengine.googleapis.com/v1/projects/234865683480/thumbnails/0a6a68d82699a7f63e9abada127c5f13-28c1e0fd270d503a8acd5d0a6fee85d7:getPixels\n",
      "Please wait ...\n",
      "Data downloaded to d:\\github\\telangana-crop-health\\downloads\\20240701T050659_20240701T051520_T43QHB_RGB_2023-03-10_2024-07-02.tif\n",
      "Downloaded: downloads/20240701T050659_20240701T051520_T43QHB_RGB_2023-03-10_2024-07-02.tif\n",
      "Data downloaded to d:\\github\\telangana-crop-health\\downloads\\20240502T050649_20240502T051513_T43QHB_RGB_2023-10-27_2024-05-03.tif\n",
      "Downloaded: downloads/20240502T050649_20240502T051513_T43QHB_RGB_2023-10-27_2024-05-03.tif\n"
     ]
    },
    {
     "name": "stderr",
     "output_type": "stream",
     "text": [
      "Downloading Images:   2%|▏         | 201/10606 [00:46<24:51,  6.98image/s]"
     ]
    },
    {
     "name": "stdout",
     "output_type": "stream",
     "text": [
      "Data downloaded to d:\\github\\telangana-crop-health\\downloads\\20240402T050649_20240402T051718_T43QHB_RGB_2023-03-10_2024-04-03.tif\n",
      "Downloaded: downloads/20240402T050649_20240402T051718_T43QHB_RGB_2023-03-10_2024-04-03.tif\n",
      "Downloading data from https://earthengine.googleapis.com/v1/projects/234865683480/thumbnails/b1ca4278f33c918c4bf3c8b0015033f5-6abac4b0a5e138083f2e637d5dfb7371:getPixels\n",
      "Please wait ...\n",
      "Generating URL ...\n",
      "Data downloaded to d:\\github\\telangana-crop-health\\downloads\\20240212T050939_20240212T051719_T44QKG_RGB_2023-10-30_2024-02-16.tif\n",
      "Downloaded: downloads/20240212T050939_20240212T051719_T44QKG_RGB_2023-10-30_2024-02-16.tif\n"
     ]
    },
    {
     "name": "stderr",
     "output_type": "stream",
     "text": [
      "Downloading Images:   2%|▏         | 203/10606 [00:46<22:44,  7.62image/s]"
     ]
    },
    {
     "name": "stdout",
     "output_type": "stream",
     "text": [
      "Generating URL ...\n",
      "Data downloaded to d:\\github\\telangana-crop-health\\downloads\\20240830T050659_20240830T052011_T43QHB_RGB_2023-11-17_2024-09-02.tif\n",
      "Downloaded: downloads/20240830T050659_20240830T052011_T43QHB_RGB_2023-11-17_2024-09-02.tif\n",
      "Generating URL ...\n",
      "Generating URL ...\n",
      "Data downloaded to d:\\github\\telangana-crop-health\\downloads\\20240830T050659_20240830T052011_T44QKG_RGB_2023-11-14_2024-09-03.tif\n",
      "Downloaded: downloads/20240830T050659_20240830T052011_T44QKG_RGB_2023-11-14_2024-09-03.tif\n"
     ]
    },
    {
     "name": "stderr",
     "output_type": "stream",
     "text": [
      "Downloading Images:   2%|▏         | 204/10606 [00:46<24:06,  7.19image/s]"
     ]
    },
    {
     "name": "stdout",
     "output_type": "stream",
     "text": [
      "Data downloaded to d:\\github\\telangana-crop-health\\downloads\\20240323T050649_20240323T051727_T43QHB_RGB_2023-12-30_2024-03-28.tif\n",
      "Downloaded: downloads/20240323T050649_20240323T051727_T43QHB_RGB_2023-12-30_2024-03-28.tif\n",
      "Generating URL ...\n",
      "Data downloaded to d:\\github\\telangana-crop-health\\downloads\\20240313T050649_20240313T052012_T43QHB_RGB_2023-08-10_2024-03-18.tif\n",
      "Downloaded: downloads/20240313T050649_20240313T052012_T43QHB_RGB_2023-08-10_2024-03-18.tif\n",
      "Downloading data from https://earthengine.googleapis.com/v1/projects/234865683480/thumbnails/88e172ef82279af56243627ed85c7526-b5f92523a8c6d487b63a5ca734264aa8:getPixels\n",
      "Please wait ...\n",
      "Generating URL ...\n"
     ]
    },
    {
     "name": "stderr",
     "output_type": "stream",
     "text": [
      "Downloading Images:   2%|▏         | 206/10606 [00:47<22:06,  7.84image/s]"
     ]
    },
    {
     "name": "stdout",
     "output_type": "stream",
     "text": [
      "Data downloaded to d:\\github\\telangana-crop-health\\downloads\\20240222T050829_20240222T051835_T43QHB_RGB_2023-06-10_2024-02-26.tif\n",
      "Downloaded: downloads/20240222T050829_20240222T051835_T43QHB_RGB_2023-06-10_2024-02-26.tif\n",
      "Downloading data from https://earthengine.googleapis.com/v1/projects/234865683480/thumbnails/f0b81cb26a5d01e7d3ba7df7c86dce3a-ac5d1532657375b442155302776da3c4:getPixels\n",
      "Please wait ...\n",
      "Generating URL ...\n",
      "Downloading data from https://earthengine.googleapis.com/v1/projects/234865683480/thumbnails/5b4156cbaaa71b18ffdb55c87ae7db98-3d6f9628f5dd562983658aca8fcd0d74:getPixels\n",
      "Please wait ...\n",
      "Downloading data from https://earthengine.googleapis.com/v1/projects/234865683480/thumbnails/99edfa769d4f260aab3e3b67f50ad467-be0cf185196e1cb053de6d9c36d027a3:getPixels\n",
      "Please wait ...\n",
      "Generating URL ...\n",
      "Generating URL ...\n"
     ]
    },
    {
     "name": "stderr",
     "output_type": "stream",
     "text": [
      "Downloading Images:   2%|▏         | 207/10606 [00:47<37:44,  4.59image/s]"
     ]
    },
    {
     "name": "stdout",
     "output_type": "stream",
     "text": [
      "Data downloaded to d:\\github\\telangana-crop-health\\downloads\\20240313T050649_20240313T052012_T43QHB_RGB_2023-11-30_2024-03-18.tif\n",
      "Downloaded: downloads/20240313T050649_20240313T052012_T43QHB_RGB_2023-11-30_2024-03-18.tif\n",
      "Generating URL ...\n",
      "Data downloaded to d:\\github\\telangana-crop-health\\downloads\\20240212T050939_20240212T051719_T43QHB_RGB_2023-10-26_2024-02-17.tif\n",
      "Downloaded: downloads/20240212T050939_20240212T051719_T43QHB_RGB_2023-10-26_2024-02-17.tif\n",
      "Generating URL ...\n",
      "Downloading data from https://earthengine.googleapis.com/v1/projects/234865683480/thumbnails/54fa9ae347e5b2e8c959e3b552de8c44-27184366861fe7a35b38c72dda48adc3:getPixels\n",
      "Please wait ...\n",
      "Data downloaded to d:\\github\\telangana-crop-health\\downloads\\20240222T050829_20240222T051835_T43QHB_RGB_2023-11-26_2024-02-25.tif\n",
      "Downloaded: downloads/20240222T050829_20240222T051835_T43QHB_RGB_2023-11-26_2024-02-25.tif\n"
     ]
    },
    {
     "name": "stderr",
     "output_type": "stream",
     "text": [
      "Downloading Images:   2%|▏         | 209/10606 [00:47<30:17,  5.72image/s]"
     ]
    },
    {
     "name": "stdout",
     "output_type": "stream",
     "text": [
      "Generating URL ...\n",
      "Data downloaded to d:\\github\\telangana-crop-health\\downloads\\20240222T050829_20240222T051835_T43QHB_RGB_2023-12-21_2024-02-24.tif\n",
      "Downloaded: downloads/20240222T050829_20240222T051835_T43QHB_RGB_2023-12-21_2024-02-24.tif\n",
      "Downloading data from https://earthengine.googleapis.com/v1/projects/234865683480/thumbnails/9668cf15296e890ba4594fd169ed8543-90f70b1f1171e9c8d5ad6b9ebb0c6c63:getPixels\n",
      "Please wait ...Downloading data from https://earthengine.googleapis.com/v1/projects/234865683480/thumbnails/3c247d4b306eabbad0fb992ad02d48ff-1f3f3a0f3eb0ada6f0cd3342daa3106a:getPixels\n",
      "Please wait ...\n",
      "\n",
      "Generating URL ...\n",
      "Downloading data from https://earthengine.googleapis.com/v1/projects/234865683480/thumbnails/f95a55378252dd150d66acd4b3af38f8-7dae04ef4f4add06363c82a296379f57:getPixels\n",
      "Please wait ...\n",
      "Generating URL ...\n",
      "Downloading data from https://earthengine.googleapis.com/v1/projects/234865683480/thumbnails/66299b0670a78b366b7587ffa984df82-350ca8916f5256437530365e36117f4a:getPixels\n",
      "Please wait ...\n",
      "Downloading data from https://earthengine.googleapis.com/v1/projects/234865683480/thumbnails/a37f5ac926c51e7ccfa9876c7209b2fb-2afb3df57a59dfc9a5d368ef80a1ec27:getPixels\n",
      "Please wait ...\n"
     ]
    },
    {
     "name": "stderr",
     "output_type": "stream",
     "text": [
      "Downloading Images:   2%|▏         | 212/10606 [00:48<39:04,  4.43image/s]"
     ]
    },
    {
     "name": "stdout",
     "output_type": "stream",
     "text": [
      "Generating URL ...\n",
      "Data downloaded to d:\\github\\telangana-crop-health\\downloads\\20240601T050649_20240601T051727_T43QHB_RGB_2023-06-10_2024-06-02.tif\n",
      "Downloaded: downloads/20240601T050649_20240601T051727_T43QHB_RGB_2023-06-10_2024-06-02.tif\n",
      "Downloading data from https://earthengine.googleapis.com/v1/projects/234865683480/thumbnails/1ab95ea4d7adcfe7ac75b26071b7d8cf-caed55aae3c38531f25697c00134ef97:getPixels\n",
      "Please wait ...\n",
      "Downloading data from https://earthengine.googleapis.com/v1/projects/234865683480/thumbnails/55400bd4c658d612b370eb239c794e49-1dadacfe13f5f79f6088bbbc07e0d61d:getPixels\n",
      "Please wait ...\n",
      "Data downloaded to d:\\github\\telangana-crop-health\\downloads\\20240402T050649_20240402T051718_T43QHB_RGB_2023-03-12_2024-04-03.tif\n",
      "Downloaded: downloads/20240402T050649_20240402T051718_T43QHB_RGB_2023-03-12_2024-04-03.tif\n"
     ]
    },
    {
     "name": "stderr",
     "output_type": "stream",
     "text": [
      "Downloading Images:   2%|▏         | 213/10606 [00:48<35:07,  4.93image/s]"
     ]
    },
    {
     "name": "stdout",
     "output_type": "stream",
     "text": [
      "Data downloaded to d:\\github\\telangana-crop-health\\downloads\\20240321T051651_20240321T053116_T43QHB_RGB_2023-11-11_2024-03-23.tif\n",
      "Downloaded: downloads/20240321T051651_20240321T053116_T43QHB_RGB_2023-11-11_2024-03-23.tif\n",
      "Data downloaded to d:\\github\\telangana-crop-health\\downloads\\20240318T050651_20240318T052150_T43QHB_RGB_2023-10-16_2024-03-20.tif\n",
      "Downloaded: downloads/20240318T050651_20240318T052150_T43QHB_RGB_2023-10-16_2024-03-20.tif\n",
      "Downloading data from https://earthengine.googleapis.com/v1/projects/234865683480/thumbnails/f70502b7e8a92bdcff3e3c6749bd5ac9-982d51633ef8caaff08af14abc23b7f3:getPixels\n",
      "Please wait ...\n",
      "Downloading data from https://earthengine.googleapis.com/v1/projects/234865683480/thumbnails/1fed12d9dd8c6458b65a3fe80c212cca-c201ee1b65dd93bb0a2815085a826d83:getPixels\n",
      "Please wait ...\n"
     ]
    },
    {
     "name": "stderr",
     "output_type": "stream",
     "text": [
      "Downloading Images:   2%|▏         | 215/10606 [00:49<30:43,  5.64image/s]"
     ]
    },
    {
     "name": "stdout",
     "output_type": "stream",
     "text": [
      "Data downloaded to d:\\github\\telangana-crop-health\\downloads\\20241128T051059_20241128T051941_T43QHB_RGB_2023-08-11_2024-12-03.tif\n",
      "Downloaded: downloads/20241128T051059_20241128T051941_T43QHB_RGB_2023-08-11_2024-12-03.tif\n",
      "Generating URL ...\n"
     ]
    },
    {
     "name": "stderr",
     "output_type": "stream",
     "text": [
      "Downloading Images:   2%|▏         | 216/10606 [00:49<35:20,  4.90image/s]"
     ]
    },
    {
     "name": "stdout",
     "output_type": "stream",
     "text": [
      "Generating URL ...\n",
      "Downloading data from https://earthengine.googleapis.com/v1/projects/234865683480/thumbnails/8ff2caea1c366fe876dbf42a9cd7b273-949debdbdb60c32181fb14f7265b6246:getPixels\n",
      "Please wait ...\n",
      "Data downloaded to d:\\github\\telangana-crop-health\\downloads\\20240222T050829_20240222T051835_T43QHB_RGB_2023-02-10_2024-02-26.tif\n",
      "Downloaded: downloads/20240222T050829_20240222T051835_T43QHB_RGB_2023-02-10_2024-02-26.tif\n",
      "Generating URL ...\n",
      "Generating URL ...\n",
      "Generating URL ...\n"
     ]
    },
    {
     "name": "stderr",
     "output_type": "stream",
     "text": [
      "Downloading Images:   2%|▏         | 217/10606 [00:49<36:06,  4.80image/s]"
     ]
    },
    {
     "name": "stdout",
     "output_type": "stream",
     "text": [
      "Generating URL ...\n",
      "Data downloaded to d:\\github\\telangana-crop-health\\downloads\\20240217T050901_20240217T051716_T43QHB_RGB_2023-12-22_2024-02-18.tif\n",
      "Downloaded: downloads/20240217T050901_20240217T051716_T43QHB_RGB_2023-12-22_2024-02-18.tif\n",
      "Data downloaded to d:\\github\\telangana-crop-health\\downloads\\20240222T050829_20240222T051835_T43QHB_RGB_2023-12-29_2024-02-23.tif\n",
      "Downloaded: downloads/20240222T050829_20240222T051835_T43QHB_RGB_2023-12-29_2024-02-23.tif\n",
      "Data downloaded to d:\\github\\telangana-crop-health\\downloads\\20240326T051649_20240326T053300_T43QHB_RGB_2023-02-11_2024-03-27.tif\n",
      "Downloaded: downloads/20240326T051649_20240326T053300_T43QHB_RGB_2023-02-11_2024-03-27.tif\n"
     ]
    },
    {
     "name": "stderr",
     "output_type": "stream",
     "text": [
      "Downloading Images:   2%|▏         | 220/10606 [00:50<28:24,  6.09image/s]"
     ]
    }
   ],
   "source": [
    "if donwload:\n",
    "  # Execute image downloads for each row in parallel to improve performance\n",
    "  with ThreadPoolExecutor(max_workers=50) as executor:  # Adjust the number of workers as needed\n",
    "      futures = [executor.submit(process_row, index, row) for index, row in data.iterrows()]\n",
    "      for future in tqdm(as_completed(futures), total=len(futures), desc=\"Downloading Images\", unit=\"image\"): \n",
    "          index, image_file = future.result()\n",
    "          if image_file:\n",
    "              data.at[index, 'tif_path'] = image_file  # Store the downloaded file path\n",
    "else:\n",
    "  # Load existing data with image paths if downloads are not required\n",
    "  os.system('cp -r ./downloads .')\n",
    "  data_path = \"./data.csv\"\n",
    "\n",
    "  data = pd.read_csv(data_path)"
   ]
  },
  {
   "cell_type": "markdown",
   "metadata": {
    "id": "x3G_3P6FjjLD"
   },
   "source": [
    "# Visualization"
   ]
  },
  {
   "cell_type": "code",
   "execution_count": 22,
   "metadata": {},
   "outputs": [
    {
     "data": {
      "text/html": [
       "\n",
       "            <style>\n",
       "                .geemap-dark {\n",
       "                    --jp-widgets-color: white;\n",
       "                    --jp-widgets-label-color: white;\n",
       "                    --jp-ui-font-color1: white;\n",
       "                    --jp-layout-color2: #454545;\n",
       "                    background-color: #383838;\n",
       "                }\n",
       "\n",
       "                .geemap-dark .jupyter-button {\n",
       "                    --jp-layout-color3: #383838;\n",
       "                }\n",
       "\n",
       "                .geemap-colab {\n",
       "                    background-color: var(--colab-primary-surface-color, white);\n",
       "                }\n",
       "\n",
       "                .geemap-colab .jupyter-button {\n",
       "                    --jp-layout-color3: var(--colab-primary-surface-color, white);\n",
       "                }\n",
       "            </style>\n",
       "            "
      ],
      "text/plain": [
       "<IPython.core.display.HTML object>"
      ]
     },
     "metadata": {},
     "output_type": "display_data"
    },
    {
     "data": {
      "text/html": [
       "<div>\n",
       "<style scoped>\n",
       "    .dataframe tbody tr th:only-of-type {\n",
       "        vertical-align: middle;\n",
       "    }\n",
       "\n",
       "    .dataframe tbody tr th {\n",
       "        vertical-align: top;\n",
       "    }\n",
       "\n",
       "    .dataframe thead th {\n",
       "        text-align: right;\n",
       "    }\n",
       "</style>\n",
       "<table border=\"1\" class=\"dataframe\">\n",
       "  <thead>\n",
       "    <tr style=\"text-align: right;\">\n",
       "      <th></th>\n",
       "      <th>FarmID</th>\n",
       "      <th>category</th>\n",
       "      <th>Crop</th>\n",
       "      <th>State</th>\n",
       "      <th>District</th>\n",
       "      <th>Sub-District</th>\n",
       "      <th>SDate</th>\n",
       "      <th>HDate</th>\n",
       "      <th>CropCoveredArea</th>\n",
       "      <th>CHeight</th>\n",
       "      <th>...</th>\n",
       "      <th>CLast</th>\n",
       "      <th>CTransp</th>\n",
       "      <th>IrriType</th>\n",
       "      <th>IrriSource</th>\n",
       "      <th>IrriCount</th>\n",
       "      <th>WaterCov</th>\n",
       "      <th>ExpYield</th>\n",
       "      <th>Season</th>\n",
       "      <th>geometry</th>\n",
       "      <th>dataset</th>\n",
       "    </tr>\n",
       "  </thead>\n",
       "  <tbody>\n",
       "    <tr>\n",
       "      <th>0</th>\n",
       "      <td>1326576</td>\n",
       "      <td>Healthy</td>\n",
       "      <td>Paddy</td>\n",
       "      <td>Telangana</td>\n",
       "      <td>Medak</td>\n",
       "      <td>Kulcharam</td>\n",
       "      <td>2023-11-25 0:00:00</td>\n",
       "      <td>2024-04-14 0:00:00</td>\n",
       "      <td>97</td>\n",
       "      <td>54</td>\n",
       "      <td>...</td>\n",
       "      <td>Lentil</td>\n",
       "      <td>Transplanting</td>\n",
       "      <td>Flood</td>\n",
       "      <td>Groundwater</td>\n",
       "      <td>4</td>\n",
       "      <td>87</td>\n",
       "      <td>17</td>\n",
       "      <td>Rabi</td>\n",
       "      <td>POLYGON ((78.18079 17.97897, 78.1811 17.97948,...</td>\n",
       "      <td>train</td>\n",
       "    </tr>\n",
       "    <tr>\n",
       "      <th>1</th>\n",
       "      <td>1326577</td>\n",
       "      <td>Healthy</td>\n",
       "      <td>Paddy</td>\n",
       "      <td>Telangana</td>\n",
       "      <td>Medak</td>\n",
       "      <td>Kulcharam</td>\n",
       "      <td>2023-11-13 0:00:00</td>\n",
       "      <td>2024-04-26 0:00:00</td>\n",
       "      <td>82</td>\n",
       "      <td>58</td>\n",
       "      <td>...</td>\n",
       "      <td>Lentil</td>\n",
       "      <td>Transplanting</td>\n",
       "      <td>Flood</td>\n",
       "      <td>Canal</td>\n",
       "      <td>5</td>\n",
       "      <td>94</td>\n",
       "      <td>15</td>\n",
       "      <td>Rabi</td>\n",
       "      <td>POLYGON ((78.17483 17.98151, 78.17649 17.98136...</td>\n",
       "      <td>train</td>\n",
       "    </tr>\n",
       "    <tr>\n",
       "      <th>2</th>\n",
       "      <td>1326578</td>\n",
       "      <td>Healthy</td>\n",
       "      <td>Paddy</td>\n",
       "      <td>Telangana</td>\n",
       "      <td>Medak</td>\n",
       "      <td>Kulcharam</td>\n",
       "      <td>2023-12-19 0:00:00</td>\n",
       "      <td>2024-04-28 0:00:00</td>\n",
       "      <td>92</td>\n",
       "      <td>91</td>\n",
       "      <td>...</td>\n",
       "      <td>Lentil</td>\n",
       "      <td>Transplanting</td>\n",
       "      <td>Flood</td>\n",
       "      <td>Canal</td>\n",
       "      <td>3</td>\n",
       "      <td>99</td>\n",
       "      <td>20</td>\n",
       "      <td>Rabi</td>\n",
       "      <td>POLYGON ((78.16888 17.97673, 78.16968 17.97661...</td>\n",
       "      <td>train</td>\n",
       "    </tr>\n",
       "    <tr>\n",
       "      <th>3</th>\n",
       "      <td>1331836</td>\n",
       "      <td>Diseased</td>\n",
       "      <td>Paddy</td>\n",
       "      <td>Telangana</td>\n",
       "      <td>Medak</td>\n",
       "      <td>Kulcharam</td>\n",
       "      <td>2023-02-11 0:00:00</td>\n",
       "      <td>2024-11-04 0:00:00</td>\n",
       "      <td>91</td>\n",
       "      <td>52</td>\n",
       "      <td>...</td>\n",
       "      <td>Lentil</td>\n",
       "      <td>Transplanting</td>\n",
       "      <td>Flood</td>\n",
       "      <td>Canal</td>\n",
       "      <td>5</td>\n",
       "      <td>92</td>\n",
       "      <td>16</td>\n",
       "      <td>Rabi</td>\n",
       "      <td>POLYGON ((78.16822 17.97469, 78.16955 17.97522...</td>\n",
       "      <td>train</td>\n",
       "    </tr>\n",
       "    <tr>\n",
       "      <th>4</th>\n",
       "      <td>1326579</td>\n",
       "      <td>Diseased</td>\n",
       "      <td>Paddy</td>\n",
       "      <td>Telangana</td>\n",
       "      <td>Medak</td>\n",
       "      <td>Kulcharam</td>\n",
       "      <td>2023-12-12 0:00:00</td>\n",
       "      <td>2024-05-19 0:00:00</td>\n",
       "      <td>94</td>\n",
       "      <td>55</td>\n",
       "      <td>...</td>\n",
       "      <td>Lentil</td>\n",
       "      <td>Transplanting</td>\n",
       "      <td>Flood</td>\n",
       "      <td>Canal</td>\n",
       "      <td>5</td>\n",
       "      <td>97</td>\n",
       "      <td>20</td>\n",
       "      <td>Rabi</td>\n",
       "      <td>POLYGON ((78.17244 17.96962, 78.17303 17.96964...</td>\n",
       "      <td>train</td>\n",
       "    </tr>\n",
       "    <tr>\n",
       "      <th>...</th>\n",
       "      <td>...</td>\n",
       "      <td>...</td>\n",
       "      <td>...</td>\n",
       "      <td>...</td>\n",
       "      <td>...</td>\n",
       "      <td>...</td>\n",
       "      <td>...</td>\n",
       "      <td>...</td>\n",
       "      <td>...</td>\n",
       "      <td>...</td>\n",
       "      <td>...</td>\n",
       "      <td>...</td>\n",
       "      <td>...</td>\n",
       "      <td>...</td>\n",
       "      <td>...</td>\n",
       "      <td>...</td>\n",
       "      <td>...</td>\n",
       "      <td>...</td>\n",
       "      <td>...</td>\n",
       "      <td>...</td>\n",
       "      <td>...</td>\n",
       "    </tr>\n",
       "    <tr>\n",
       "      <th>10601</th>\n",
       "      <td>551119</td>\n",
       "      <td>NaN</td>\n",
       "      <td>Maize</td>\n",
       "      <td>Telangana</td>\n",
       "      <td>Nirmal</td>\n",
       "      <td>Sarangapur</td>\n",
       "      <td>2023-10-12 0:00:00</td>\n",
       "      <td>2024-07-03 0:00:00</td>\n",
       "      <td>92</td>\n",
       "      <td>225</td>\n",
       "      <td>...</td>\n",
       "      <td>Maize</td>\n",
       "      <td>Drilling</td>\n",
       "      <td>Drip</td>\n",
       "      <td>Groundwater</td>\n",
       "      <td>4</td>\n",
       "      <td>44</td>\n",
       "      <td>39</td>\n",
       "      <td>Rabi</td>\n",
       "      <td>POLYGON ((78.259 19.22927, 78.25973 19.22915, ...</td>\n",
       "      <td>test</td>\n",
       "    </tr>\n",
       "    <tr>\n",
       "      <th>10602</th>\n",
       "      <td>916476</td>\n",
       "      <td>NaN</td>\n",
       "      <td>Maize</td>\n",
       "      <td>Telangana</td>\n",
       "      <td>Nirmal</td>\n",
       "      <td>Sarangapur</td>\n",
       "      <td>2023-05-11 0:00:00</td>\n",
       "      <td>2024-04-03 0:00:00</td>\n",
       "      <td>79</td>\n",
       "      <td>236</td>\n",
       "      <td>...</td>\n",
       "      <td>Maize</td>\n",
       "      <td>Seed Drilling</td>\n",
       "      <td>Drip</td>\n",
       "      <td>Canal</td>\n",
       "      <td>3</td>\n",
       "      <td>41</td>\n",
       "      <td>40</td>\n",
       "      <td>Rabi</td>\n",
       "      <td>POLYGON ((78.25819 19.20201, 78.25792 19.20033...</td>\n",
       "      <td>test</td>\n",
       "    </tr>\n",
       "    <tr>\n",
       "      <th>10603</th>\n",
       "      <td>121860</td>\n",
       "      <td>NaN</td>\n",
       "      <td>Maize</td>\n",
       "      <td>Telangana</td>\n",
       "      <td>Nirmal</td>\n",
       "      <td>Sarangapur</td>\n",
       "      <td>2023-11-14 0:00:00</td>\n",
       "      <td>2024-03-04 0:00:00</td>\n",
       "      <td>87</td>\n",
       "      <td>210</td>\n",
       "      <td>...</td>\n",
       "      <td>Maize</td>\n",
       "      <td>Broadcasting</td>\n",
       "      <td>Sprinkler</td>\n",
       "      <td>Canal</td>\n",
       "      <td>3</td>\n",
       "      <td>43</td>\n",
       "      <td>41</td>\n",
       "      <td>Rabi</td>\n",
       "      <td>POLYGON ((78.25546 19.19637, 78.2556 19.19796,...</td>\n",
       "      <td>test</td>\n",
       "    </tr>\n",
       "    <tr>\n",
       "      <th>10604</th>\n",
       "      <td>270936</td>\n",
       "      <td>NaN</td>\n",
       "      <td>Maize</td>\n",
       "      <td>Telangana</td>\n",
       "      <td>Nirmal</td>\n",
       "      <td>Sarangapur</td>\n",
       "      <td>2023-02-12 0:00:00</td>\n",
       "      <td>2024-03-26 0:00:00</td>\n",
       "      <td>95</td>\n",
       "      <td>204</td>\n",
       "      <td>...</td>\n",
       "      <td>Maize</td>\n",
       "      <td>Drilling</td>\n",
       "      <td>Sprinkler</td>\n",
       "      <td>Canal</td>\n",
       "      <td>4</td>\n",
       "      <td>48</td>\n",
       "      <td>39</td>\n",
       "      <td>Rabi</td>\n",
       "      <td>POLYGON ((78.25743 19.19557, 78.25743 19.19405...</td>\n",
       "      <td>test</td>\n",
       "    </tr>\n",
       "    <tr>\n",
       "      <th>10605</th>\n",
       "      <td>1326552</td>\n",
       "      <td>NaN</td>\n",
       "      <td>Maize</td>\n",
       "      <td>Telangana</td>\n",
       "      <td>Nirmal</td>\n",
       "      <td>Sarangapur</td>\n",
       "      <td>2023-11-23 0:00:00</td>\n",
       "      <td>2024-03-22 0:00:00</td>\n",
       "      <td>78</td>\n",
       "      <td>185</td>\n",
       "      <td>...</td>\n",
       "      <td>Wheat</td>\n",
       "      <td>Broadcasting</td>\n",
       "      <td>Drip</td>\n",
       "      <td>Canal</td>\n",
       "      <td>2</td>\n",
       "      <td>52</td>\n",
       "      <td>41</td>\n",
       "      <td>Rabi</td>\n",
       "      <td>POLYGON ((78.26474 19.2251, 78.26693 19.22877,...</td>\n",
       "      <td>test</td>\n",
       "    </tr>\n",
       "  </tbody>\n",
       "</table>\n",
       "<p>10606 rows × 21 columns</p>\n",
       "</div>"
      ],
      "text/plain": [
       "        FarmID  category   Crop      State District Sub-District  \\\n",
       "0      1326576   Healthy  Paddy  Telangana    Medak    Kulcharam   \n",
       "1      1326577   Healthy  Paddy  Telangana    Medak    Kulcharam   \n",
       "2      1326578   Healthy  Paddy  Telangana    Medak    Kulcharam   \n",
       "3      1331836  Diseased  Paddy  Telangana    Medak    Kulcharam   \n",
       "4      1326579  Diseased  Paddy  Telangana    Medak    Kulcharam   \n",
       "...        ...       ...    ...        ...      ...          ...   \n",
       "10601   551119       NaN  Maize  Telangana   Nirmal   Sarangapur   \n",
       "10602   916476       NaN  Maize  Telangana   Nirmal   Sarangapur   \n",
       "10603   121860       NaN  Maize  Telangana   Nirmal   Sarangapur   \n",
       "10604   270936       NaN  Maize  Telangana   Nirmal   Sarangapur   \n",
       "10605  1326552       NaN  Maize  Telangana   Nirmal   Sarangapur   \n",
       "\n",
       "                    SDate               HDate  CropCoveredArea  CHeight  ...  \\\n",
       "0      2023-11-25 0:00:00  2024-04-14 0:00:00               97       54  ...   \n",
       "1      2023-11-13 0:00:00  2024-04-26 0:00:00               82       58  ...   \n",
       "2      2023-12-19 0:00:00  2024-04-28 0:00:00               92       91  ...   \n",
       "3      2023-02-11 0:00:00  2024-11-04 0:00:00               91       52  ...   \n",
       "4      2023-12-12 0:00:00  2024-05-19 0:00:00               94       55  ...   \n",
       "...                   ...                 ...              ...      ...  ...   \n",
       "10601  2023-10-12 0:00:00  2024-07-03 0:00:00               92      225  ...   \n",
       "10602  2023-05-11 0:00:00  2024-04-03 0:00:00               79      236  ...   \n",
       "10603  2023-11-14 0:00:00  2024-03-04 0:00:00               87      210  ...   \n",
       "10604  2023-02-12 0:00:00  2024-03-26 0:00:00               95      204  ...   \n",
       "10605  2023-11-23 0:00:00  2024-03-22 0:00:00               78      185  ...   \n",
       "\n",
       "        CLast        CTransp   IrriType   IrriSource IrriCount  WaterCov  \\\n",
       "0      Lentil  Transplanting      Flood  Groundwater         4        87   \n",
       "1      Lentil  Transplanting      Flood        Canal         5        94   \n",
       "2      Lentil  Transplanting      Flood        Canal         3        99   \n",
       "3      Lentil  Transplanting      Flood        Canal         5        92   \n",
       "4      Lentil  Transplanting      Flood        Canal         5        97   \n",
       "...       ...            ...        ...          ...       ...       ...   \n",
       "10601   Maize       Drilling       Drip  Groundwater         4        44   \n",
       "10602   Maize  Seed Drilling       Drip        Canal         3        41   \n",
       "10603   Maize   Broadcasting  Sprinkler        Canal         3        43   \n",
       "10604   Maize       Drilling  Sprinkler        Canal         4        48   \n",
       "10605   Wheat   Broadcasting       Drip        Canal         2        52   \n",
       "\n",
       "       ExpYield  Season                                           geometry  \\\n",
       "0            17    Rabi  POLYGON ((78.18079 17.97897, 78.1811 17.97948,...   \n",
       "1            15    Rabi  POLYGON ((78.17483 17.98151, 78.17649 17.98136...   \n",
       "2            20    Rabi  POLYGON ((78.16888 17.97673, 78.16968 17.97661...   \n",
       "3            16    Rabi  POLYGON ((78.16822 17.97469, 78.16955 17.97522...   \n",
       "4            20    Rabi  POLYGON ((78.17244 17.96962, 78.17303 17.96964...   \n",
       "...         ...     ...                                                ...   \n",
       "10601        39    Rabi  POLYGON ((78.259 19.22927, 78.25973 19.22915, ...   \n",
       "10602        40    Rabi  POLYGON ((78.25819 19.20201, 78.25792 19.20033...   \n",
       "10603        41    Rabi  POLYGON ((78.25546 19.19637, 78.2556 19.19796,...   \n",
       "10604        39    Rabi  POLYGON ((78.25743 19.19557, 78.25743 19.19405...   \n",
       "10605        41    Rabi  POLYGON ((78.26474 19.2251, 78.26693 19.22877,...   \n",
       "\n",
       "      dataset  \n",
       "0       train  \n",
       "1       train  \n",
       "2       train  \n",
       "3       train  \n",
       "4       train  \n",
       "...       ...  \n",
       "10601    test  \n",
       "10602    test  \n",
       "10603    test  \n",
       "10604    test  \n",
       "10605    test  \n",
       "\n",
       "[10606 rows x 21 columns]"
      ]
     },
     "execution_count": 22,
     "metadata": {},
     "output_type": "execute_result"
    }
   ],
   "source": [
    "data"
   ]
  },
  {
   "cell_type": "code",
   "execution_count": 19,
   "metadata": {
    "colab": {
     "base_uri": "https://localhost:8080/",
     "height": 17
    },
    "id": "QZTI_3tA9LbG",
    "outputId": "69448b71-9a60-459f-aa0f-8f59957b155e"
   },
   "outputs": [
    {
     "data": {
      "text/html": [
       "\n",
       "            <style>\n",
       "                .geemap-dark {\n",
       "                    --jp-widgets-color: white;\n",
       "                    --jp-widgets-label-color: white;\n",
       "                    --jp-ui-font-color1: white;\n",
       "                    --jp-layout-color2: #454545;\n",
       "                    background-color: #383838;\n",
       "                }\n",
       "\n",
       "                .geemap-dark .jupyter-button {\n",
       "                    --jp-layout-color3: #383838;\n",
       "                }\n",
       "\n",
       "                .geemap-colab {\n",
       "                    background-color: var(--colab-primary-surface-color, white);\n",
       "                }\n",
       "\n",
       "                .geemap-colab .jupyter-button {\n",
       "                    --jp-layout-color3: var(--colab-primary-surface-color, white);\n",
       "                }\n",
       "            </style>\n",
       "            "
      ],
      "text/plain": [
       "<IPython.core.display.HTML object>"
      ]
     },
     "metadata": {},
     "output_type": "display_data"
    }
   ],
   "source": [
    "# Function to scale pixel values to the 0–255 range for better visualization\n",
    "def scale_band(band):\n",
    "    \"\"\"\n",
    "    Scales pixel values of a single band to the 0-255 range.\n",
    "\n",
    "    Parameters:\n",
    "    - band: np.array, pixel values of the band\n",
    "\n",
    "    Returns:\n",
    "    - np.array, scaled pixel values in the 0-255 range\n",
    "    \"\"\"\n",
    "    band = band.astype(np.float32)  # Ensure values are in float for scaling\n",
    "    return 255 * (band - np.min(band)) / (np.max(band) - np.min(band))  # Scale to 0–255\n",
    "\n",
    "# Function to visualize RGB image with scaling, contrast adjustments, and optional gamma correction\n",
    "def visualize_rgb_image(file_path, gamma=0.6, contrast_stretch=True):\n",
    "    \"\"\"\n",
    "    Visualize an RGB image using matplotlib with scaling, optional gamma correction, and contrast stretching.\n",
    "\n",
    "    Parameters:\n",
    "    - file_path: str, path to the RGB image file (GeoTIFF)\n",
    "    - gamma: float, gamma correction factor (default=0.6)\n",
    "    - contrast_stretch: bool, whether to apply contrast stretching (default=True)\n",
    "    \"\"\"\n",
    "    # Open the image file\n",
    "    with rasterio.open(file_path) as src:\n",
    "        # Read RGB bands (assuming Sentinel-2 band order: Red=B4, Green=B3, Blue=B2)\n",
    "        red = src.read(3)  # Band 4 for Red\n",
    "        green = src.read(2)  # Band 3 for Green\n",
    "        blue = src.read(1)  # Band 2 for Blue\n",
    "\n",
    "        # Scale each band to the 0–255 range for better visualization\n",
    "        red_scaled = scale_band(red)\n",
    "        green_scaled = scale_band(green)\n",
    "        blue_scaled = scale_band(blue)\n",
    "\n",
    "        # Stack the scaled RGB bands into a single image\n",
    "        rgb = np.dstack((red_scaled, green_scaled, blue_scaled)).astype(np.uint8)\n",
    "\n",
    "        # Apply contrast stretching if specified\n",
    "        if contrast_stretch:\n",
    "            p2, p98 = np.percentile(rgb, (2, 98))  # Calculate 2nd and 98th percentiles for stretching\n",
    "            rgb = exposure.rescale_intensity(rgb, in_range=(p2, p98))\n",
    "\n",
    "        # Apply gamma correction to adjust brightness\n",
    "        rgb = exposure.adjust_gamma(rgb, gamma=gamma)\n",
    "\n",
    "        # Display the processed image using matplotlib\n",
    "        plt.figure(figsize=(5, 5))\n",
    "        plt.imshow(rgb)\n",
    "        plt.axis('off')  # Hide axes for a cleaner look\n",
    "        plt.title(\"RGB Composite (Red-Green-Blue) with Scaling, Contrast Stretch, and Gamma Correction\")\n",
    "        plt.show()\n",
    "\n",
    "    return rgb"
   ]
  },
  {
   "cell_type": "code",
   "execution_count": 21,
   "metadata": {},
   "outputs": [
    {
     "data": {
      "text/html": [
       "\n",
       "            <style>\n",
       "                .geemap-dark {\n",
       "                    --jp-widgets-color: white;\n",
       "                    --jp-widgets-label-color: white;\n",
       "                    --jp-ui-font-color1: white;\n",
       "                    --jp-layout-color2: #454545;\n",
       "                    background-color: #383838;\n",
       "                }\n",
       "\n",
       "                .geemap-dark .jupyter-button {\n",
       "                    --jp-layout-color3: #383838;\n",
       "                }\n",
       "\n",
       "                .geemap-colab {\n",
       "                    background-color: var(--colab-primary-surface-color, white);\n",
       "                }\n",
       "\n",
       "                .geemap-colab .jupyter-button {\n",
       "                    --jp-layout-color3: var(--colab-primary-surface-color, white);\n",
       "                }\n",
       "            </style>\n",
       "            "
      ],
      "text/plain": [
       "<IPython.core.display.HTML object>"
      ]
     },
     "metadata": {},
     "output_type": "display_data"
    },
    {
     "data": {
      "text/html": [
       "<div>\n",
       "<style scoped>\n",
       "    .dataframe tbody tr th:only-of-type {\n",
       "        vertical-align: middle;\n",
       "    }\n",
       "\n",
       "    .dataframe tbody tr th {\n",
       "        vertical-align: top;\n",
       "    }\n",
       "\n",
       "    .dataframe thead th {\n",
       "        text-align: right;\n",
       "    }\n",
       "</style>\n",
       "<table border=\"1\" class=\"dataframe\">\n",
       "  <thead>\n",
       "    <tr style=\"text-align: right;\">\n",
       "      <th></th>\n",
       "      <th>FarmID</th>\n",
       "      <th>category</th>\n",
       "      <th>Crop</th>\n",
       "      <th>State</th>\n",
       "      <th>District</th>\n",
       "      <th>Sub-District</th>\n",
       "      <th>SDate</th>\n",
       "      <th>HDate</th>\n",
       "      <th>CropCoveredArea</th>\n",
       "      <th>CHeight</th>\n",
       "      <th>...</th>\n",
       "      <th>CLast</th>\n",
       "      <th>CTransp</th>\n",
       "      <th>IrriType</th>\n",
       "      <th>IrriSource</th>\n",
       "      <th>IrriCount</th>\n",
       "      <th>WaterCov</th>\n",
       "      <th>ExpYield</th>\n",
       "      <th>Season</th>\n",
       "      <th>geometry</th>\n",
       "      <th>dataset</th>\n",
       "    </tr>\n",
       "  </thead>\n",
       "  <tbody>\n",
       "    <tr>\n",
       "      <th>0</th>\n",
       "      <td>1326576</td>\n",
       "      <td>Healthy</td>\n",
       "      <td>Paddy</td>\n",
       "      <td>Telangana</td>\n",
       "      <td>Medak</td>\n",
       "      <td>Kulcharam</td>\n",
       "      <td>2023-11-25 0:00:00</td>\n",
       "      <td>2024-04-14 0:00:00</td>\n",
       "      <td>97</td>\n",
       "      <td>54</td>\n",
       "      <td>...</td>\n",
       "      <td>Lentil</td>\n",
       "      <td>Transplanting</td>\n",
       "      <td>Flood</td>\n",
       "      <td>Groundwater</td>\n",
       "      <td>4</td>\n",
       "      <td>87</td>\n",
       "      <td>17</td>\n",
       "      <td>Rabi</td>\n",
       "      <td>POLYGON ((78.18079 17.97897, 78.1811 17.97948,...</td>\n",
       "      <td>train</td>\n",
       "    </tr>\n",
       "    <tr>\n",
       "      <th>1</th>\n",
       "      <td>1326577</td>\n",
       "      <td>Healthy</td>\n",
       "      <td>Paddy</td>\n",
       "      <td>Telangana</td>\n",
       "      <td>Medak</td>\n",
       "      <td>Kulcharam</td>\n",
       "      <td>2023-11-13 0:00:00</td>\n",
       "      <td>2024-04-26 0:00:00</td>\n",
       "      <td>82</td>\n",
       "      <td>58</td>\n",
       "      <td>...</td>\n",
       "      <td>Lentil</td>\n",
       "      <td>Transplanting</td>\n",
       "      <td>Flood</td>\n",
       "      <td>Canal</td>\n",
       "      <td>5</td>\n",
       "      <td>94</td>\n",
       "      <td>15</td>\n",
       "      <td>Rabi</td>\n",
       "      <td>POLYGON ((78.17483 17.98151, 78.17649 17.98136...</td>\n",
       "      <td>train</td>\n",
       "    </tr>\n",
       "    <tr>\n",
       "      <th>2</th>\n",
       "      <td>1326578</td>\n",
       "      <td>Healthy</td>\n",
       "      <td>Paddy</td>\n",
       "      <td>Telangana</td>\n",
       "      <td>Medak</td>\n",
       "      <td>Kulcharam</td>\n",
       "      <td>2023-12-19 0:00:00</td>\n",
       "      <td>2024-04-28 0:00:00</td>\n",
       "      <td>92</td>\n",
       "      <td>91</td>\n",
       "      <td>...</td>\n",
       "      <td>Lentil</td>\n",
       "      <td>Transplanting</td>\n",
       "      <td>Flood</td>\n",
       "      <td>Canal</td>\n",
       "      <td>3</td>\n",
       "      <td>99</td>\n",
       "      <td>20</td>\n",
       "      <td>Rabi</td>\n",
       "      <td>POLYGON ((78.16888 17.97673, 78.16968 17.97661...</td>\n",
       "      <td>train</td>\n",
       "    </tr>\n",
       "    <tr>\n",
       "      <th>3</th>\n",
       "      <td>1331836</td>\n",
       "      <td>Diseased</td>\n",
       "      <td>Paddy</td>\n",
       "      <td>Telangana</td>\n",
       "      <td>Medak</td>\n",
       "      <td>Kulcharam</td>\n",
       "      <td>2023-02-11 0:00:00</td>\n",
       "      <td>2024-11-04 0:00:00</td>\n",
       "      <td>91</td>\n",
       "      <td>52</td>\n",
       "      <td>...</td>\n",
       "      <td>Lentil</td>\n",
       "      <td>Transplanting</td>\n",
       "      <td>Flood</td>\n",
       "      <td>Canal</td>\n",
       "      <td>5</td>\n",
       "      <td>92</td>\n",
       "      <td>16</td>\n",
       "      <td>Rabi</td>\n",
       "      <td>POLYGON ((78.16822 17.97469, 78.16955 17.97522...</td>\n",
       "      <td>train</td>\n",
       "    </tr>\n",
       "    <tr>\n",
       "      <th>4</th>\n",
       "      <td>1326579</td>\n",
       "      <td>Diseased</td>\n",
       "      <td>Paddy</td>\n",
       "      <td>Telangana</td>\n",
       "      <td>Medak</td>\n",
       "      <td>Kulcharam</td>\n",
       "      <td>2023-12-12 0:00:00</td>\n",
       "      <td>2024-05-19 0:00:00</td>\n",
       "      <td>94</td>\n",
       "      <td>55</td>\n",
       "      <td>...</td>\n",
       "      <td>Lentil</td>\n",
       "      <td>Transplanting</td>\n",
       "      <td>Flood</td>\n",
       "      <td>Canal</td>\n",
       "      <td>5</td>\n",
       "      <td>97</td>\n",
       "      <td>20</td>\n",
       "      <td>Rabi</td>\n",
       "      <td>POLYGON ((78.17244 17.96962, 78.17303 17.96964...</td>\n",
       "      <td>train</td>\n",
       "    </tr>\n",
       "    <tr>\n",
       "      <th>...</th>\n",
       "      <td>...</td>\n",
       "      <td>...</td>\n",
       "      <td>...</td>\n",
       "      <td>...</td>\n",
       "      <td>...</td>\n",
       "      <td>...</td>\n",
       "      <td>...</td>\n",
       "      <td>...</td>\n",
       "      <td>...</td>\n",
       "      <td>...</td>\n",
       "      <td>...</td>\n",
       "      <td>...</td>\n",
       "      <td>...</td>\n",
       "      <td>...</td>\n",
       "      <td>...</td>\n",
       "      <td>...</td>\n",
       "      <td>...</td>\n",
       "      <td>...</td>\n",
       "      <td>...</td>\n",
       "      <td>...</td>\n",
       "      <td>...</td>\n",
       "    </tr>\n",
       "    <tr>\n",
       "      <th>10601</th>\n",
       "      <td>551119</td>\n",
       "      <td>NaN</td>\n",
       "      <td>Maize</td>\n",
       "      <td>Telangana</td>\n",
       "      <td>Nirmal</td>\n",
       "      <td>Sarangapur</td>\n",
       "      <td>2023-10-12 0:00:00</td>\n",
       "      <td>2024-07-03 0:00:00</td>\n",
       "      <td>92</td>\n",
       "      <td>225</td>\n",
       "      <td>...</td>\n",
       "      <td>Maize</td>\n",
       "      <td>Drilling</td>\n",
       "      <td>Drip</td>\n",
       "      <td>Groundwater</td>\n",
       "      <td>4</td>\n",
       "      <td>44</td>\n",
       "      <td>39</td>\n",
       "      <td>Rabi</td>\n",
       "      <td>POLYGON ((78.259 19.22927, 78.25973 19.22915, ...</td>\n",
       "      <td>test</td>\n",
       "    </tr>\n",
       "    <tr>\n",
       "      <th>10602</th>\n",
       "      <td>916476</td>\n",
       "      <td>NaN</td>\n",
       "      <td>Maize</td>\n",
       "      <td>Telangana</td>\n",
       "      <td>Nirmal</td>\n",
       "      <td>Sarangapur</td>\n",
       "      <td>2023-05-11 0:00:00</td>\n",
       "      <td>2024-04-03 0:00:00</td>\n",
       "      <td>79</td>\n",
       "      <td>236</td>\n",
       "      <td>...</td>\n",
       "      <td>Maize</td>\n",
       "      <td>Seed Drilling</td>\n",
       "      <td>Drip</td>\n",
       "      <td>Canal</td>\n",
       "      <td>3</td>\n",
       "      <td>41</td>\n",
       "      <td>40</td>\n",
       "      <td>Rabi</td>\n",
       "      <td>POLYGON ((78.25819 19.20201, 78.25792 19.20033...</td>\n",
       "      <td>test</td>\n",
       "    </tr>\n",
       "    <tr>\n",
       "      <th>10603</th>\n",
       "      <td>121860</td>\n",
       "      <td>NaN</td>\n",
       "      <td>Maize</td>\n",
       "      <td>Telangana</td>\n",
       "      <td>Nirmal</td>\n",
       "      <td>Sarangapur</td>\n",
       "      <td>2023-11-14 0:00:00</td>\n",
       "      <td>2024-03-04 0:00:00</td>\n",
       "      <td>87</td>\n",
       "      <td>210</td>\n",
       "      <td>...</td>\n",
       "      <td>Maize</td>\n",
       "      <td>Broadcasting</td>\n",
       "      <td>Sprinkler</td>\n",
       "      <td>Canal</td>\n",
       "      <td>3</td>\n",
       "      <td>43</td>\n",
       "      <td>41</td>\n",
       "      <td>Rabi</td>\n",
       "      <td>POLYGON ((78.25546 19.19637, 78.2556 19.19796,...</td>\n",
       "      <td>test</td>\n",
       "    </tr>\n",
       "    <tr>\n",
       "      <th>10604</th>\n",
       "      <td>270936</td>\n",
       "      <td>NaN</td>\n",
       "      <td>Maize</td>\n",
       "      <td>Telangana</td>\n",
       "      <td>Nirmal</td>\n",
       "      <td>Sarangapur</td>\n",
       "      <td>2023-02-12 0:00:00</td>\n",
       "      <td>2024-03-26 0:00:00</td>\n",
       "      <td>95</td>\n",
       "      <td>204</td>\n",
       "      <td>...</td>\n",
       "      <td>Maize</td>\n",
       "      <td>Drilling</td>\n",
       "      <td>Sprinkler</td>\n",
       "      <td>Canal</td>\n",
       "      <td>4</td>\n",
       "      <td>48</td>\n",
       "      <td>39</td>\n",
       "      <td>Rabi</td>\n",
       "      <td>POLYGON ((78.25743 19.19557, 78.25743 19.19405...</td>\n",
       "      <td>test</td>\n",
       "    </tr>\n",
       "    <tr>\n",
       "      <th>10605</th>\n",
       "      <td>1326552</td>\n",
       "      <td>NaN</td>\n",
       "      <td>Maize</td>\n",
       "      <td>Telangana</td>\n",
       "      <td>Nirmal</td>\n",
       "      <td>Sarangapur</td>\n",
       "      <td>2023-11-23 0:00:00</td>\n",
       "      <td>2024-03-22 0:00:00</td>\n",
       "      <td>78</td>\n",
       "      <td>185</td>\n",
       "      <td>...</td>\n",
       "      <td>Wheat</td>\n",
       "      <td>Broadcasting</td>\n",
       "      <td>Drip</td>\n",
       "      <td>Canal</td>\n",
       "      <td>2</td>\n",
       "      <td>52</td>\n",
       "      <td>41</td>\n",
       "      <td>Rabi</td>\n",
       "      <td>POLYGON ((78.26474 19.2251, 78.26693 19.22877,...</td>\n",
       "      <td>test</td>\n",
       "    </tr>\n",
       "  </tbody>\n",
       "</table>\n",
       "<p>10606 rows × 21 columns</p>\n",
       "</div>"
      ],
      "text/plain": [
       "        FarmID  category   Crop      State District Sub-District  \\\n",
       "0      1326576   Healthy  Paddy  Telangana    Medak    Kulcharam   \n",
       "1      1326577   Healthy  Paddy  Telangana    Medak    Kulcharam   \n",
       "2      1326578   Healthy  Paddy  Telangana    Medak    Kulcharam   \n",
       "3      1331836  Diseased  Paddy  Telangana    Medak    Kulcharam   \n",
       "4      1326579  Diseased  Paddy  Telangana    Medak    Kulcharam   \n",
       "...        ...       ...    ...        ...      ...          ...   \n",
       "10601   551119       NaN  Maize  Telangana   Nirmal   Sarangapur   \n",
       "10602   916476       NaN  Maize  Telangana   Nirmal   Sarangapur   \n",
       "10603   121860       NaN  Maize  Telangana   Nirmal   Sarangapur   \n",
       "10604   270936       NaN  Maize  Telangana   Nirmal   Sarangapur   \n",
       "10605  1326552       NaN  Maize  Telangana   Nirmal   Sarangapur   \n",
       "\n",
       "                    SDate               HDate  CropCoveredArea  CHeight  ...  \\\n",
       "0      2023-11-25 0:00:00  2024-04-14 0:00:00               97       54  ...   \n",
       "1      2023-11-13 0:00:00  2024-04-26 0:00:00               82       58  ...   \n",
       "2      2023-12-19 0:00:00  2024-04-28 0:00:00               92       91  ...   \n",
       "3      2023-02-11 0:00:00  2024-11-04 0:00:00               91       52  ...   \n",
       "4      2023-12-12 0:00:00  2024-05-19 0:00:00               94       55  ...   \n",
       "...                   ...                 ...              ...      ...  ...   \n",
       "10601  2023-10-12 0:00:00  2024-07-03 0:00:00               92      225  ...   \n",
       "10602  2023-05-11 0:00:00  2024-04-03 0:00:00               79      236  ...   \n",
       "10603  2023-11-14 0:00:00  2024-03-04 0:00:00               87      210  ...   \n",
       "10604  2023-02-12 0:00:00  2024-03-26 0:00:00               95      204  ...   \n",
       "10605  2023-11-23 0:00:00  2024-03-22 0:00:00               78      185  ...   \n",
       "\n",
       "        CLast        CTransp   IrriType   IrriSource IrriCount  WaterCov  \\\n",
       "0      Lentil  Transplanting      Flood  Groundwater         4        87   \n",
       "1      Lentil  Transplanting      Flood        Canal         5        94   \n",
       "2      Lentil  Transplanting      Flood        Canal         3        99   \n",
       "3      Lentil  Transplanting      Flood        Canal         5        92   \n",
       "4      Lentil  Transplanting      Flood        Canal         5        97   \n",
       "...       ...            ...        ...          ...       ...       ...   \n",
       "10601   Maize       Drilling       Drip  Groundwater         4        44   \n",
       "10602   Maize  Seed Drilling       Drip        Canal         3        41   \n",
       "10603   Maize   Broadcasting  Sprinkler        Canal         3        43   \n",
       "10604   Maize       Drilling  Sprinkler        Canal         4        48   \n",
       "10605   Wheat   Broadcasting       Drip        Canal         2        52   \n",
       "\n",
       "       ExpYield  Season                                           geometry  \\\n",
       "0            17    Rabi  POLYGON ((78.18079 17.97897, 78.1811 17.97948,...   \n",
       "1            15    Rabi  POLYGON ((78.17483 17.98151, 78.17649 17.98136...   \n",
       "2            20    Rabi  POLYGON ((78.16888 17.97673, 78.16968 17.97661...   \n",
       "3            16    Rabi  POLYGON ((78.16822 17.97469, 78.16955 17.97522...   \n",
       "4            20    Rabi  POLYGON ((78.17244 17.96962, 78.17303 17.96964...   \n",
       "...         ...     ...                                                ...   \n",
       "10601        39    Rabi  POLYGON ((78.259 19.22927, 78.25973 19.22915, ...   \n",
       "10602        40    Rabi  POLYGON ((78.25819 19.20201, 78.25792 19.20033...   \n",
       "10603        41    Rabi  POLYGON ((78.25546 19.19637, 78.2556 19.19796,...   \n",
       "10604        39    Rabi  POLYGON ((78.25743 19.19557, 78.25743 19.19405...   \n",
       "10605        41    Rabi  POLYGON ((78.26474 19.2251, 78.26693 19.22877,...   \n",
       "\n",
       "      dataset  \n",
       "0       train  \n",
       "1       train  \n",
       "2       train  \n",
       "3       train  \n",
       "4       train  \n",
       "...       ...  \n",
       "10601    test  \n",
       "10602    test  \n",
       "10603    test  \n",
       "10604    test  \n",
       "10605    test  \n",
       "\n",
       "[10606 rows x 21 columns]"
      ]
     },
     "execution_count": 21,
     "metadata": {},
     "output_type": "execute_result"
    }
   ],
   "source": [
    "data"
   ]
  },
  {
   "cell_type": "code",
   "execution_count": 20,
   "metadata": {
    "colab": {
     "base_uri": "https://localhost:8080/",
     "height": 432
    },
    "id": "aw9eJrrVCgF1",
    "outputId": "f61af7e7-bdd7-4c0c-cf37-363766729f73"
   },
   "outputs": [
    {
     "data": {
      "text/html": [
       "\n",
       "            <style>\n",
       "                .geemap-dark {\n",
       "                    --jp-widgets-color: white;\n",
       "                    --jp-widgets-label-color: white;\n",
       "                    --jp-ui-font-color1: white;\n",
       "                    --jp-layout-color2: #454545;\n",
       "                    background-color: #383838;\n",
       "                }\n",
       "\n",
       "                .geemap-dark .jupyter-button {\n",
       "                    --jp-layout-color3: #383838;\n",
       "                }\n",
       "\n",
       "                .geemap-colab {\n",
       "                    background-color: var(--colab-primary-surface-color, white);\n",
       "                }\n",
       "\n",
       "                .geemap-colab .jupyter-button {\n",
       "                    --jp-layout-color3: var(--colab-primary-surface-color, white);\n",
       "                }\n",
       "            </style>\n",
       "            "
      ],
      "text/plain": [
       "<IPython.core.display.HTML object>"
      ]
     },
     "metadata": {},
     "output_type": "display_data"
    },
    {
     "ename": "KeyError",
     "evalue": "'tif_path'",
     "output_type": "error",
     "traceback": [
      "\u001b[1;31m---------------------------------------------------------------------------\u001b[0m",
      "\u001b[1;31mKeyError\u001b[0m                                  Traceback (most recent call last)",
      "File \u001b[1;32mc:\\Users\\chavv\\anaconda\\envs\\telangana\\lib\\site-packages\\pandas\\core\\indexes\\base.py:3805\u001b[0m, in \u001b[0;36mIndex.get_loc\u001b[1;34m(self, key)\u001b[0m\n\u001b[0;32m   3804\u001b[0m \u001b[38;5;28;01mtry\u001b[39;00m:\n\u001b[1;32m-> 3805\u001b[0m     \u001b[38;5;28;01mreturn\u001b[39;00m \u001b[38;5;28;43mself\u001b[39;49m\u001b[38;5;241;43m.\u001b[39;49m\u001b[43m_engine\u001b[49m\u001b[38;5;241;43m.\u001b[39;49m\u001b[43mget_loc\u001b[49m\u001b[43m(\u001b[49m\u001b[43mcasted_key\u001b[49m\u001b[43m)\u001b[49m\n\u001b[0;32m   3806\u001b[0m \u001b[38;5;28;01mexcept\u001b[39;00m \u001b[38;5;167;01mKeyError\u001b[39;00m \u001b[38;5;28;01mas\u001b[39;00m err:\n",
      "File \u001b[1;32mindex.pyx:167\u001b[0m, in \u001b[0;36mpandas._libs.index.IndexEngine.get_loc\u001b[1;34m()\u001b[0m\n",
      "File \u001b[1;32mindex.pyx:196\u001b[0m, in \u001b[0;36mpandas._libs.index.IndexEngine.get_loc\u001b[1;34m()\u001b[0m\n",
      "File \u001b[1;32mpandas\\\\_libs\\\\hashtable_class_helper.pxi:7081\u001b[0m, in \u001b[0;36mpandas._libs.hashtable.PyObjectHashTable.get_item\u001b[1;34m()\u001b[0m\n",
      "File \u001b[1;32mpandas\\\\_libs\\\\hashtable_class_helper.pxi:7089\u001b[0m, in \u001b[0;36mpandas._libs.hashtable.PyObjectHashTable.get_item\u001b[1;34m()\u001b[0m\n",
      "\u001b[1;31mKeyError\u001b[0m: 'tif_path'",
      "\nThe above exception was the direct cause of the following exception:\n",
      "\u001b[1;31mKeyError\u001b[0m                                  Traceback (most recent call last)",
      "Cell \u001b[1;32mIn[20], line 2\u001b[0m\n\u001b[0;32m      1\u001b[0m \u001b[38;5;66;03m# Select a random image file from the dataset and visualize it\u001b[39;00m\n\u001b[1;32m----> 2\u001b[0m path \u001b[38;5;241m=\u001b[39m random\u001b[38;5;241m.\u001b[39mchoice(\u001b[43mdata\u001b[49m\u001b[43m[\u001b[49m\u001b[38;5;124;43m'\u001b[39;49m\u001b[38;5;124;43mtif_path\u001b[39;49m\u001b[38;5;124;43m'\u001b[39;49m\u001b[43m]\u001b[49m\u001b[38;5;241m.\u001b[39mvalues)\n\u001b[0;32m      3\u001b[0m image \u001b[38;5;241m=\u001b[39m visualize_rgb_image(path)\n",
      "File \u001b[1;32mc:\\Users\\chavv\\anaconda\\envs\\telangana\\lib\\site-packages\\geopandas\\geodataframe.py:1750\u001b[0m, in \u001b[0;36mGeoDataFrame.__getitem__\u001b[1;34m(self, key)\u001b[0m\n\u001b[0;32m   1744\u001b[0m \u001b[38;5;28;01mdef\u001b[39;00m \u001b[38;5;21m__getitem__\u001b[39m(\u001b[38;5;28mself\u001b[39m, key):\n\u001b[0;32m   1745\u001b[0m \u001b[38;5;250m    \u001b[39m\u001b[38;5;124;03m\"\"\"\u001b[39;00m\n\u001b[0;32m   1746\u001b[0m \u001b[38;5;124;03m    If the result is a column containing only 'geometry', return a\u001b[39;00m\n\u001b[0;32m   1747\u001b[0m \u001b[38;5;124;03m    GeoSeries. If it's a DataFrame with any columns of GeometryDtype,\u001b[39;00m\n\u001b[0;32m   1748\u001b[0m \u001b[38;5;124;03m    return a GeoDataFrame.\u001b[39;00m\n\u001b[0;32m   1749\u001b[0m \u001b[38;5;124;03m    \"\"\"\u001b[39;00m\n\u001b[1;32m-> 1750\u001b[0m     result \u001b[38;5;241m=\u001b[39m \u001b[38;5;28;43msuper\u001b[39;49m\u001b[43m(\u001b[49m\u001b[43m)\u001b[49m\u001b[38;5;241;43m.\u001b[39;49m\u001b[38;5;21;43m__getitem__\u001b[39;49m\u001b[43m(\u001b[49m\u001b[43mkey\u001b[49m\u001b[43m)\u001b[49m\n\u001b[0;32m   1751\u001b[0m     \u001b[38;5;66;03m# Custom logic to avoid waiting for pandas GH51895\u001b[39;00m\n\u001b[0;32m   1752\u001b[0m     \u001b[38;5;66;03m# result is not geometry dtype for multi-indexes\u001b[39;00m\n\u001b[0;32m   1753\u001b[0m     \u001b[38;5;28;01mif\u001b[39;00m (\n\u001b[0;32m   1754\u001b[0m         pd\u001b[38;5;241m.\u001b[39mapi\u001b[38;5;241m.\u001b[39mtypes\u001b[38;5;241m.\u001b[39mis_scalar(key)\n\u001b[0;32m   1755\u001b[0m         \u001b[38;5;129;01mand\u001b[39;00m key \u001b[38;5;241m==\u001b[39m \u001b[38;5;124m\"\u001b[39m\u001b[38;5;124m\"\u001b[39m\n\u001b[1;32m   (...)\u001b[0m\n\u001b[0;32m   1758\u001b[0m         \u001b[38;5;129;01mand\u001b[39;00m \u001b[38;5;129;01mnot\u001b[39;00m is_geometry_type(result)\n\u001b[0;32m   1759\u001b[0m     ):\n",
      "File \u001b[1;32mc:\\Users\\chavv\\anaconda\\envs\\telangana\\lib\\site-packages\\pandas\\core\\frame.py:4102\u001b[0m, in \u001b[0;36mDataFrame.__getitem__\u001b[1;34m(self, key)\u001b[0m\n\u001b[0;32m   4100\u001b[0m \u001b[38;5;28;01mif\u001b[39;00m \u001b[38;5;28mself\u001b[39m\u001b[38;5;241m.\u001b[39mcolumns\u001b[38;5;241m.\u001b[39mnlevels \u001b[38;5;241m>\u001b[39m \u001b[38;5;241m1\u001b[39m:\n\u001b[0;32m   4101\u001b[0m     \u001b[38;5;28;01mreturn\u001b[39;00m \u001b[38;5;28mself\u001b[39m\u001b[38;5;241m.\u001b[39m_getitem_multilevel(key)\n\u001b[1;32m-> 4102\u001b[0m indexer \u001b[38;5;241m=\u001b[39m \u001b[38;5;28;43mself\u001b[39;49m\u001b[38;5;241;43m.\u001b[39;49m\u001b[43mcolumns\u001b[49m\u001b[38;5;241;43m.\u001b[39;49m\u001b[43mget_loc\u001b[49m\u001b[43m(\u001b[49m\u001b[43mkey\u001b[49m\u001b[43m)\u001b[49m\n\u001b[0;32m   4103\u001b[0m \u001b[38;5;28;01mif\u001b[39;00m is_integer(indexer):\n\u001b[0;32m   4104\u001b[0m     indexer \u001b[38;5;241m=\u001b[39m [indexer]\n",
      "File \u001b[1;32mc:\\Users\\chavv\\anaconda\\envs\\telangana\\lib\\site-packages\\pandas\\core\\indexes\\base.py:3812\u001b[0m, in \u001b[0;36mIndex.get_loc\u001b[1;34m(self, key)\u001b[0m\n\u001b[0;32m   3807\u001b[0m     \u001b[38;5;28;01mif\u001b[39;00m \u001b[38;5;28misinstance\u001b[39m(casted_key, \u001b[38;5;28mslice\u001b[39m) \u001b[38;5;129;01mor\u001b[39;00m (\n\u001b[0;32m   3808\u001b[0m         \u001b[38;5;28misinstance\u001b[39m(casted_key, abc\u001b[38;5;241m.\u001b[39mIterable)\n\u001b[0;32m   3809\u001b[0m         \u001b[38;5;129;01mand\u001b[39;00m \u001b[38;5;28many\u001b[39m(\u001b[38;5;28misinstance\u001b[39m(x, \u001b[38;5;28mslice\u001b[39m) \u001b[38;5;28;01mfor\u001b[39;00m x \u001b[38;5;129;01min\u001b[39;00m casted_key)\n\u001b[0;32m   3810\u001b[0m     ):\n\u001b[0;32m   3811\u001b[0m         \u001b[38;5;28;01mraise\u001b[39;00m InvalidIndexError(key)\n\u001b[1;32m-> 3812\u001b[0m     \u001b[38;5;28;01mraise\u001b[39;00m \u001b[38;5;167;01mKeyError\u001b[39;00m(key) \u001b[38;5;28;01mfrom\u001b[39;00m \u001b[38;5;21;01merr\u001b[39;00m\n\u001b[0;32m   3813\u001b[0m \u001b[38;5;28;01mexcept\u001b[39;00m \u001b[38;5;167;01mTypeError\u001b[39;00m:\n\u001b[0;32m   3814\u001b[0m     \u001b[38;5;66;03m# If we have a listlike key, _check_indexing_error will raise\u001b[39;00m\n\u001b[0;32m   3815\u001b[0m     \u001b[38;5;66;03m#  InvalidIndexError. Otherwise we fall through and re-raise\u001b[39;00m\n\u001b[0;32m   3816\u001b[0m     \u001b[38;5;66;03m#  the TypeError.\u001b[39;00m\n\u001b[0;32m   3817\u001b[0m     \u001b[38;5;28mself\u001b[39m\u001b[38;5;241m.\u001b[39m_check_indexing_error(key)\n",
      "\u001b[1;31mKeyError\u001b[0m: 'tif_path'"
     ]
    }
   ],
   "source": [
    "# Select a random image file from the dataset and visualize it\n",
    "path = random.choice(data['tif_path'].values)\n",
    "image = visualize_rgb_image(path)"
   ]
  },
  {
   "cell_type": "markdown",
   "metadata": {
    "id": "VGg3sw58k9Tm"
   },
   "source": [
    "# Feature Engineering"
   ]
  },
  {
   "cell_type": "markdown",
   "metadata": {
    "id": "qK123fUVlA3w"
   },
   "source": [
    "**Utils**"
   ]
  },
  {
   "cell_type": "code",
   "execution_count": 31,
   "metadata": {
    "colab": {
     "base_uri": "https://localhost:8080/",
     "height": 17
    },
    "id": "cifndNYWOB9D",
    "outputId": "9d77b91f-8f19-47df-94db-ffbbdbde3a40"
   },
   "outputs": [
    {
     "data": {
      "text/html": [
       "\n",
       "            <style>\n",
       "                .geemap-dark {\n",
       "                    --jp-widgets-color: white;\n",
       "                    --jp-widgets-label-color: white;\n",
       "                    --jp-ui-font-color1: white;\n",
       "                    --jp-layout-color2: #454545;\n",
       "                    background-color: #383838;\n",
       "                }\n",
       "\n",
       "                .geemap-dark .jupyter-button {\n",
       "                    --jp-layout-color3: #383838;\n",
       "                }\n",
       "\n",
       "                .geemap-colab {\n",
       "                    background-color: var(--colab-primary-surface-color, white);\n",
       "                }\n",
       "\n",
       "                .geemap-colab .jupyter-button {\n",
       "                    --jp-layout-color3: var(--colab-primary-surface-color, white);\n",
       "                }\n",
       "            </style>\n",
       "            "
      ],
      "text/plain": [
       "<IPython.core.display.HTML object>"
      ]
     },
     "metadata": {},
     "output_type": "display_data"
    }
   ],
   "source": [
    "# Example feature calculation functions\n",
    "def calculate_ndvi(nir_band, red_band):\n",
    "    \"\"\"Calculate NDVI (Normalized Difference Vegetation Index).\"\"\"\n",
    "    ndvi = (nir_band - red_band) / (nir_band + red_band)\n",
    "    return np.nanmean(ndvi)\n",
    "\n",
    "def calculate_evi(nir_band, red_band, blue_band):\n",
    "    \"\"\"Calculate EVI (Enhanced Vegetation Index).\"\"\"\n",
    "    evi = 2.5 * (nir_band - red_band) / (nir_band + 6 * red_band - 7.5 * blue_band + 1)\n",
    "    return np.nanmean(evi)\n",
    "\n",
    "def calculate_ndwi(nir_band, green_band):\n",
    "    \"\"\"Calculate NDWI (Normalized Difference Water Index).\"\"\"\n",
    "    ndwi = (green_band - nir_band) / (green_band + nir_band)\n",
    "    return np.nanmean(ndwi)\n",
    "\n",
    "def calculate_gndvi(nir_band, green_band):\n",
    "    \"\"\"Calculate GNDVI (Green Normalized Difference Vegetation Index).\"\"\"\n",
    "    gndvi = (nir_band - green_band) / (nir_band + green_band)\n",
    "    return np.nanmean(gndvi)\n",
    "\n",
    "def calculate_savi(nir_band, red_band, L=0.5):\n",
    "    \"\"\"Calculate SAVI (Soil Adjusted Vegetation Index).\"\"\"\n",
    "    savi = ((nir_band - red_band) / (nir_band + red_band + L)) * (1 + L)\n",
    "    return np.nanmean(savi)\n",
    "\n",
    "def calculate_msavi(nir_band, red_band):\n",
    "    \"\"\"Calculate MSAVI (Modified Soil Adjusted Vegetation Index).\"\"\"\n",
    "    msavi = (2 * nir_band + 1 - np.sqrt((2 * nir_band + 1)**2 - 8 * (nir_band - red_band))) / 2\n",
    "    return np.nanmean(msavi)"
   ]
  },
  {
   "cell_type": "code",
   "execution_count": 32,
   "metadata": {
    "colab": {
     "base_uri": "https://localhost:8080/",
     "height": 17
    },
    "id": "ijS4DecElDO9",
    "outputId": "7cf9cfdf-fe41-4d67-8ea0-b1254f17d3b3"
   },
   "outputs": [
    {
     "data": {
      "text/html": [
       "\n",
       "            <style>\n",
       "                .geemap-dark {\n",
       "                    --jp-widgets-color: white;\n",
       "                    --jp-widgets-label-color: white;\n",
       "                    --jp-ui-font-color1: white;\n",
       "                    --jp-layout-color2: #454545;\n",
       "                    background-color: #383838;\n",
       "                }\n",
       "\n",
       "                .geemap-dark .jupyter-button {\n",
       "                    --jp-layout-color3: #383838;\n",
       "                }\n",
       "\n",
       "                .geemap-colab {\n",
       "                    background-color: var(--colab-primary-surface-color, white);\n",
       "                }\n",
       "\n",
       "                .geemap-colab .jupyter-button {\n",
       "                    --jp-layout-color3: var(--colab-primary-surface-color, white);\n",
       "                }\n",
       "            </style>\n",
       "            "
      ],
      "text/plain": [
       "<IPython.core.display.HTML object>"
      ]
     },
     "metadata": {},
     "output_type": "display_data"
    }
   ],
   "source": [
    "# Function to calculate features for each row in the data\n",
    "def process_row_for_features(index, row):\n",
    "    features = {'index': index}\n",
    "\n",
    "    # Retrieve the TIFF file path and check if it's valid\n",
    "    tif_path = row['tif_path']\n",
    "    if not isinstance(tif_path, str):\n",
    "        print(f\"Skipping entry due to missing tif_path for index {index}\")\n",
    "        # Add NaN for all features if path is missing\n",
    "        features.update({\n",
    "            'ndvi': np.nan,\n",
    "            'evi': np.nan,\n",
    "            'ndwi': np.nan,\n",
    "            'gndvi': np.nan,\n",
    "            'savi': np.nan,\n",
    "            'msavi': np.nan\n",
    "        })\n",
    "        return features\n",
    "\n",
    "    # Open the TIFF file and read bands for feature calculation\n",
    "    with rasterio.open(tif_path) as src:\n",
    "        red = src.read(3)    # B4 for Red\n",
    "        green = src.read(2)  # B3 for Green\n",
    "        blue = src.read(1)   # B2 for Blue\n",
    "        nir = src.read(4)    # B8 for NIR\n",
    "\n",
    "        # Calculate each feature\n",
    "        features['ndvi'] = calculate_ndvi(nir, red)\n",
    "        features['evi'] = calculate_evi(nir, red, blue)\n",
    "        features['ndwi'] = calculate_ndwi(nir, green)\n",
    "        features['gndvi'] = calculate_gndvi(nir, green)\n",
    "        features['savi'] = calculate_savi(nir, red)\n",
    "        features['msavi'] = calculate_msavi(nir, red)\n",
    "\n",
    "    return features"
   ]
  },
  {
   "cell_type": "markdown",
   "metadata": {
    "id": "AiWAB-c9lTzs"
   },
   "source": [
    "**Calculate Features**"
   ]
  },
  {
   "cell_type": "code",
   "execution_count": 33,
   "metadata": {
    "colab": {
     "base_uri": "https://localhost:8080/",
     "height": 34
    },
    "id": "28PEFdMblDLd",
    "outputId": "c08142c7-9939-42f7-95ed-b5d26fbee738"
   },
   "outputs": [
    {
     "data": {
      "text/html": [
       "\n",
       "            <style>\n",
       "                .geemap-dark {\n",
       "                    --jp-widgets-color: white;\n",
       "                    --jp-widgets-label-color: white;\n",
       "                    --jp-ui-font-color1: white;\n",
       "                    --jp-layout-color2: #454545;\n",
       "                    background-color: #383838;\n",
       "                }\n",
       "\n",
       "                .geemap-dark .jupyter-button {\n",
       "                    --jp-layout-color3: #383838;\n",
       "                }\n",
       "\n",
       "                .geemap-colab {\n",
       "                    background-color: var(--colab-primary-surface-color, white);\n",
       "                }\n",
       "\n",
       "                .geemap-colab .jupyter-button {\n",
       "                    --jp-layout-color3: var(--colab-primary-surface-color, white);\n",
       "                }\n",
       "            </style>\n",
       "            "
      ],
      "text/plain": [
       "<IPython.core.display.HTML object>"
      ]
     },
     "metadata": {},
     "output_type": "display_data"
    },
    {
     "name": "stderr",
     "output_type": "stream",
     "text": [
      "  0%|          | 0/11791 [00:00<?, ?it/s]"
     ]
    },
    {
     "ename": "KeyError",
     "evalue": "'tif_path'",
     "output_type": "error",
     "traceback": [
      "\u001b[1;31m---------------------------------------------------------------------------\u001b[0m",
      "\u001b[1;31m_RemoteTraceback\u001b[0m                          Traceback (most recent call last)",
      "\u001b[1;31m_RemoteTraceback\u001b[0m: \n\"\"\"\nTraceback (most recent call last):\n  File \"c:\\Users\\chavv\\anaconda\\envs\\telangana\\lib\\site-packages\\pandas\\core\\indexes\\base.py\", line 3805, in get_loc\n    return self._engine.get_loc(casted_key)\n  File \"index.pyx\", line 167, in pandas._libs.index.IndexEngine.get_loc\n  File \"index.pyx\", line 196, in pandas._libs.index.IndexEngine.get_loc\n  File \"pandas\\\\_libs\\\\hashtable_class_helper.pxi\", line 7081, in pandas._libs.hashtable.PyObjectHashTable.get_item\n  File \"pandas\\\\_libs\\\\hashtable_class_helper.pxi\", line 7089, in pandas._libs.hashtable.PyObjectHashTable.get_item\nKeyError: 'tif_path'\n\nThe above exception was the direct cause of the following exception:\n\nTraceback (most recent call last):\n  File \"c:\\Users\\chavv\\anaconda\\envs\\telangana\\lib\\site-packages\\joblib\\externals\\loky\\process_executor.py\", line 463, in _process_worker\n    r = call_item()\n  File \"c:\\Users\\chavv\\anaconda\\envs\\telangana\\lib\\site-packages\\joblib\\externals\\loky\\process_executor.py\", line 291, in __call__\n    return self.fn(*self.args, **self.kwargs)\n  File \"c:\\Users\\chavv\\anaconda\\envs\\telangana\\lib\\site-packages\\joblib\\parallel.py\", line 598, in __call__\n    return [func(*args, **kwargs)\n  File \"c:\\Users\\chavv\\anaconda\\envs\\telangana\\lib\\site-packages\\joblib\\parallel.py\", line 598, in <listcomp>\n    return [func(*args, **kwargs)\n  File \"C:\\Users\\chavv\\AppData\\Local\\Temp\\ipykernel_23700\\1451100772.py\", line 6, in process_row_for_features\n  File \"c:\\Users\\chavv\\anaconda\\envs\\telangana\\lib\\site-packages\\pandas\\core\\series.py\", line 1121, in __getitem__\n    return self._get_value(key)\n  File \"c:\\Users\\chavv\\anaconda\\envs\\telangana\\lib\\site-packages\\pandas\\core\\series.py\", line 1237, in _get_value\n    loc = self.index.get_loc(label)\n  File \"c:\\Users\\chavv\\anaconda\\envs\\telangana\\lib\\site-packages\\pandas\\core\\indexes\\base.py\", line 3812, in get_loc\n    raise KeyError(key) from err\nKeyError: 'tif_path'\n\"\"\"",
      "\nThe above exception was the direct cause of the following exception:\n",
      "\u001b[1;31mKeyError\u001b[0m                                  Traceback (most recent call last)",
      "Cell \u001b[1;32mIn[33], line 3\u001b[0m\n\u001b[0;32m      1\u001b[0m \u001b[38;5;66;03m# Use parallel processing to calculate features for each row\u001b[39;00m\n\u001b[0;32m      2\u001b[0m \u001b[38;5;66;03m# `tqdm` provides a progress bar to track completion\u001b[39;00m\n\u001b[1;32m----> 3\u001b[0m new_features \u001b[38;5;241m=\u001b[39m \u001b[43mParallel\u001b[49m\u001b[43m(\u001b[49m\u001b[43mn_jobs\u001b[49m\u001b[38;5;241;43m=\u001b[39;49m\u001b[38;5;241;43m-\u001b[39;49m\u001b[38;5;241;43m1\u001b[39;49m\u001b[43m)\u001b[49m\u001b[43m(\u001b[49m\u001b[43mdelayed\u001b[49m\u001b[43m(\u001b[49m\u001b[43mprocess_row_for_features\u001b[49m\u001b[43m)\u001b[49m\u001b[43m(\u001b[49m\u001b[43mindex\u001b[49m\u001b[43m,\u001b[49m\u001b[43m \u001b[49m\u001b[43mrow\u001b[49m\u001b[43m)\u001b[49m\n\u001b[0;32m      4\u001b[0m \u001b[43m                                   \u001b[49m\u001b[38;5;28;43;01mfor\u001b[39;49;00m\u001b[43m \u001b[49m\u001b[43mindex\u001b[49m\u001b[43m,\u001b[49m\u001b[43m \u001b[49m\u001b[43mrow\u001b[49m\u001b[43m \u001b[49m\u001b[38;5;129;43;01min\u001b[39;49;00m\u001b[43m \u001b[49m\u001b[43mtqdm\u001b[49m\u001b[43m(\u001b[49m\u001b[43mdata\u001b[49m\u001b[38;5;241;43m.\u001b[39;49m\u001b[43miterrows\u001b[49m\u001b[43m(\u001b[49m\u001b[43m)\u001b[49m\u001b[43m,\u001b[49m\u001b[43m \u001b[49m\u001b[43mtotal\u001b[49m\u001b[38;5;241;43m=\u001b[39;49m\u001b[38;5;28;43mlen\u001b[39;49m\u001b[43m(\u001b[49m\u001b[43mdata\u001b[49m\u001b[43m)\u001b[49m\u001b[43m)\u001b[49m\u001b[43m)\u001b[49m\n",
      "File \u001b[1;32mc:\\Users\\chavv\\anaconda\\envs\\telangana\\lib\\site-packages\\joblib\\parallel.py:2007\u001b[0m, in \u001b[0;36mParallel.__call__\u001b[1;34m(self, iterable)\u001b[0m\n\u001b[0;32m   2001\u001b[0m \u001b[38;5;66;03m# The first item from the output is blank, but it makes the interpreter\u001b[39;00m\n\u001b[0;32m   2002\u001b[0m \u001b[38;5;66;03m# progress until it enters the Try/Except block of the generator and\u001b[39;00m\n\u001b[0;32m   2003\u001b[0m \u001b[38;5;66;03m# reaches the first `yield` statement. This starts the asynchronous\u001b[39;00m\n\u001b[0;32m   2004\u001b[0m \u001b[38;5;66;03m# dispatch of the tasks to the workers.\u001b[39;00m\n\u001b[0;32m   2005\u001b[0m \u001b[38;5;28mnext\u001b[39m(output)\n\u001b[1;32m-> 2007\u001b[0m \u001b[38;5;28;01mreturn\u001b[39;00m output \u001b[38;5;28;01mif\u001b[39;00m \u001b[38;5;28mself\u001b[39m\u001b[38;5;241m.\u001b[39mreturn_generator \u001b[38;5;28;01melse\u001b[39;00m \u001b[38;5;28;43mlist\u001b[39;49m\u001b[43m(\u001b[49m\u001b[43moutput\u001b[49m\u001b[43m)\u001b[49m\n",
      "File \u001b[1;32mc:\\Users\\chavv\\anaconda\\envs\\telangana\\lib\\site-packages\\joblib\\parallel.py:1650\u001b[0m, in \u001b[0;36mParallel._get_outputs\u001b[1;34m(self, iterator, pre_dispatch)\u001b[0m\n\u001b[0;32m   1647\u001b[0m     \u001b[38;5;28;01myield\u001b[39;00m\n\u001b[0;32m   1649\u001b[0m     \u001b[38;5;28;01mwith\u001b[39;00m \u001b[38;5;28mself\u001b[39m\u001b[38;5;241m.\u001b[39m_backend\u001b[38;5;241m.\u001b[39mretrieval_context():\n\u001b[1;32m-> 1650\u001b[0m         \u001b[38;5;28;01myield from\u001b[39;00m \u001b[38;5;28mself\u001b[39m\u001b[38;5;241m.\u001b[39m_retrieve()\n\u001b[0;32m   1652\u001b[0m \u001b[38;5;28;01mexcept\u001b[39;00m \u001b[38;5;167;01mGeneratorExit\u001b[39;00m:\n\u001b[0;32m   1653\u001b[0m     \u001b[38;5;66;03m# The generator has been garbage collected before being fully\u001b[39;00m\n\u001b[0;32m   1654\u001b[0m     \u001b[38;5;66;03m# consumed. This aborts the remaining tasks if possible and warn\u001b[39;00m\n\u001b[0;32m   1655\u001b[0m     \u001b[38;5;66;03m# the user if necessary.\u001b[39;00m\n\u001b[0;32m   1656\u001b[0m     \u001b[38;5;28mself\u001b[39m\u001b[38;5;241m.\u001b[39m_exception \u001b[38;5;241m=\u001b[39m \u001b[38;5;28;01mTrue\u001b[39;00m\n",
      "File \u001b[1;32mc:\\Users\\chavv\\anaconda\\envs\\telangana\\lib\\site-packages\\joblib\\parallel.py:1754\u001b[0m, in \u001b[0;36mParallel._retrieve\u001b[1;34m(self)\u001b[0m\n\u001b[0;32m   1747\u001b[0m \u001b[38;5;28;01mwhile\u001b[39;00m \u001b[38;5;28mself\u001b[39m\u001b[38;5;241m.\u001b[39m_wait_retrieval():\n\u001b[0;32m   1748\u001b[0m \n\u001b[0;32m   1749\u001b[0m     \u001b[38;5;66;03m# If the callback thread of a worker has signaled that its task\u001b[39;00m\n\u001b[0;32m   1750\u001b[0m     \u001b[38;5;66;03m# triggered an exception, or if the retrieval loop has raised an\u001b[39;00m\n\u001b[0;32m   1751\u001b[0m     \u001b[38;5;66;03m# exception (e.g. `GeneratorExit`), exit the loop and surface the\u001b[39;00m\n\u001b[0;32m   1752\u001b[0m     \u001b[38;5;66;03m# worker traceback.\u001b[39;00m\n\u001b[0;32m   1753\u001b[0m     \u001b[38;5;28;01mif\u001b[39;00m \u001b[38;5;28mself\u001b[39m\u001b[38;5;241m.\u001b[39m_aborting:\n\u001b[1;32m-> 1754\u001b[0m         \u001b[38;5;28;43mself\u001b[39;49m\u001b[38;5;241;43m.\u001b[39;49m\u001b[43m_raise_error_fast\u001b[49m\u001b[43m(\u001b[49m\u001b[43m)\u001b[49m\n\u001b[0;32m   1755\u001b[0m         \u001b[38;5;28;01mbreak\u001b[39;00m\n\u001b[0;32m   1757\u001b[0m     \u001b[38;5;66;03m# If the next job is not ready for retrieval yet, we just wait for\u001b[39;00m\n\u001b[0;32m   1758\u001b[0m     \u001b[38;5;66;03m# async callbacks to progress.\u001b[39;00m\n",
      "File \u001b[1;32mc:\\Users\\chavv\\anaconda\\envs\\telangana\\lib\\site-packages\\joblib\\parallel.py:1789\u001b[0m, in \u001b[0;36mParallel._raise_error_fast\u001b[1;34m(self)\u001b[0m\n\u001b[0;32m   1785\u001b[0m \u001b[38;5;66;03m# If this error job exists, immediately raise the error by\u001b[39;00m\n\u001b[0;32m   1786\u001b[0m \u001b[38;5;66;03m# calling get_result. This job might not exists if abort has been\u001b[39;00m\n\u001b[0;32m   1787\u001b[0m \u001b[38;5;66;03m# called directly or if the generator is gc'ed.\u001b[39;00m\n\u001b[0;32m   1788\u001b[0m \u001b[38;5;28;01mif\u001b[39;00m error_job \u001b[38;5;129;01mis\u001b[39;00m \u001b[38;5;129;01mnot\u001b[39;00m \u001b[38;5;28;01mNone\u001b[39;00m:\n\u001b[1;32m-> 1789\u001b[0m     \u001b[43merror_job\u001b[49m\u001b[38;5;241;43m.\u001b[39;49m\u001b[43mget_result\u001b[49m\u001b[43m(\u001b[49m\u001b[38;5;28;43mself\u001b[39;49m\u001b[38;5;241;43m.\u001b[39;49m\u001b[43mtimeout\u001b[49m\u001b[43m)\u001b[49m\n",
      "File \u001b[1;32mc:\\Users\\chavv\\anaconda\\envs\\telangana\\lib\\site-packages\\joblib\\parallel.py:745\u001b[0m, in \u001b[0;36mBatchCompletionCallBack.get_result\u001b[1;34m(self, timeout)\u001b[0m\n\u001b[0;32m    739\u001b[0m backend \u001b[38;5;241m=\u001b[39m \u001b[38;5;28mself\u001b[39m\u001b[38;5;241m.\u001b[39mparallel\u001b[38;5;241m.\u001b[39m_backend\n\u001b[0;32m    741\u001b[0m \u001b[38;5;28;01mif\u001b[39;00m backend\u001b[38;5;241m.\u001b[39msupports_retrieve_callback:\n\u001b[0;32m    742\u001b[0m     \u001b[38;5;66;03m# We assume that the result has already been retrieved by the\u001b[39;00m\n\u001b[0;32m    743\u001b[0m     \u001b[38;5;66;03m# callback thread, and is stored internally. It's just waiting to\u001b[39;00m\n\u001b[0;32m    744\u001b[0m     \u001b[38;5;66;03m# be returned.\u001b[39;00m\n\u001b[1;32m--> 745\u001b[0m     \u001b[38;5;28;01mreturn\u001b[39;00m \u001b[38;5;28;43mself\u001b[39;49m\u001b[38;5;241;43m.\u001b[39;49m\u001b[43m_return_or_raise\u001b[49m\u001b[43m(\u001b[49m\u001b[43m)\u001b[49m\n\u001b[0;32m    747\u001b[0m \u001b[38;5;66;03m# For other backends, the main thread needs to run the retrieval step.\u001b[39;00m\n\u001b[0;32m    748\u001b[0m \u001b[38;5;28;01mtry\u001b[39;00m:\n",
      "File \u001b[1;32mc:\\Users\\chavv\\anaconda\\envs\\telangana\\lib\\site-packages\\joblib\\parallel.py:763\u001b[0m, in \u001b[0;36mBatchCompletionCallBack._return_or_raise\u001b[1;34m(self)\u001b[0m\n\u001b[0;32m    761\u001b[0m \u001b[38;5;28;01mtry\u001b[39;00m:\n\u001b[0;32m    762\u001b[0m     \u001b[38;5;28;01mif\u001b[39;00m \u001b[38;5;28mself\u001b[39m\u001b[38;5;241m.\u001b[39mstatus \u001b[38;5;241m==\u001b[39m TASK_ERROR:\n\u001b[1;32m--> 763\u001b[0m         \u001b[38;5;28;01mraise\u001b[39;00m \u001b[38;5;28mself\u001b[39m\u001b[38;5;241m.\u001b[39m_result\n\u001b[0;32m    764\u001b[0m     \u001b[38;5;28;01mreturn\u001b[39;00m \u001b[38;5;28mself\u001b[39m\u001b[38;5;241m.\u001b[39m_result\n\u001b[0;32m    765\u001b[0m \u001b[38;5;28;01mfinally\u001b[39;00m:\n",
      "\u001b[1;31mKeyError\u001b[0m: 'tif_path'"
     ]
    }
   ],
   "source": [
    "# Use parallel processing to calculate features for each row\n",
    "# `tqdm` provides a progress bar to track completion\n",
    "new_features = Parallel(n_jobs=-1)(delayed(process_row_for_features)(index, row)\n",
    "                                   for index, row in tqdm(data.iterrows(), total=len(data)))"
   ]
  },
  {
   "cell_type": "markdown",
   "metadata": {
    "id": "wMc5wyEwlTCx"
   },
   "source": [
    "**Merge New Features with Original Data**"
   ]
  },
  {
   "cell_type": "code",
   "execution_count": 34,
   "metadata": {
    "colab": {
     "base_uri": "https://localhost:8080/",
     "height": 17
    },
    "id": "in-pNAYFl79k",
    "outputId": "bfd24cf5-abdb-4a93-b37d-5ee74cef936e"
   },
   "outputs": [
    {
     "data": {
      "text/html": [
       "\n",
       "            <style>\n",
       "                .geemap-dark {\n",
       "                    --jp-widgets-color: white;\n",
       "                    --jp-widgets-label-color: white;\n",
       "                    --jp-ui-font-color1: white;\n",
       "                    --jp-layout-color2: #454545;\n",
       "                    background-color: #383838;\n",
       "                }\n",
       "\n",
       "                .geemap-dark .jupyter-button {\n",
       "                    --jp-layout-color3: #383838;\n",
       "                }\n",
       "\n",
       "                .geemap-colab {\n",
       "                    background-color: var(--colab-primary-surface-color, white);\n",
       "                }\n",
       "\n",
       "                .geemap-colab .jupyter-button {\n",
       "                    --jp-layout-color3: var(--colab-primary-surface-color, white);\n",
       "                }\n",
       "            </style>\n",
       "            "
      ],
      "text/plain": [
       "<IPython.core.display.HTML object>"
      ]
     },
     "metadata": {},
     "output_type": "display_data"
    },
    {
     "ename": "NameError",
     "evalue": "name 'new_features' is not defined",
     "output_type": "error",
     "traceback": [
      "\u001b[1;31m---------------------------------------------------------------------------\u001b[0m",
      "\u001b[1;31mNameError\u001b[0m                                 Traceback (most recent call last)",
      "Cell \u001b[1;32mIn[34], line 2\u001b[0m\n\u001b[0;32m      1\u001b[0m \u001b[38;5;66;03m# Convert list of features to a DataFrame and merge with the original data\u001b[39;00m\n\u001b[1;32m----> 2\u001b[0m new_features_df \u001b[38;5;241m=\u001b[39m pd\u001b[38;5;241m.\u001b[39mDataFrame(\u001b[43mnew_features\u001b[49m)\u001b[38;5;241m.\u001b[39mset_index(\u001b[38;5;124m'\u001b[39m\u001b[38;5;124mindex\u001b[39m\u001b[38;5;124m'\u001b[39m)\n\u001b[0;32m      3\u001b[0m data \u001b[38;5;241m=\u001b[39m data\u001b[38;5;241m.\u001b[39mjoin(new_features_df)\n",
      "\u001b[1;31mNameError\u001b[0m: name 'new_features' is not defined"
     ]
    }
   ],
   "source": [
    "# Convert list of features to a DataFrame and merge with the original data\n",
    "new_features_df = pd.DataFrame(new_features).set_index('index')\n",
    "data = data.join(new_features_df)"
   ]
  },
  {
   "cell_type": "code",
   "execution_count": 35,
   "metadata": {
    "colab": {
     "base_uri": "https://localhost:8080/",
     "height": 446
    },
    "id": "wNpABxfTl2Kq",
    "outputId": "ce46f25b-cecb-4808-c7e4-292246d84f30"
   },
   "outputs": [
    {
     "data": {
      "text/html": [
       "\n",
       "            <style>\n",
       "                .geemap-dark {\n",
       "                    --jp-widgets-color: white;\n",
       "                    --jp-widgets-label-color: white;\n",
       "                    --jp-ui-font-color1: white;\n",
       "                    --jp-layout-color2: #454545;\n",
       "                    background-color: #383838;\n",
       "                }\n",
       "\n",
       "                .geemap-dark .jupyter-button {\n",
       "                    --jp-layout-color3: #383838;\n",
       "                }\n",
       "\n",
       "                .geemap-colab {\n",
       "                    background-color: var(--colab-primary-surface-color, white);\n",
       "                }\n",
       "\n",
       "                .geemap-colab .jupyter-button {\n",
       "                    --jp-layout-color3: var(--colab-primary-surface-color, white);\n",
       "                }\n",
       "            </style>\n",
       "            "
      ],
      "text/plain": [
       "<IPython.core.display.HTML object>"
      ]
     },
     "metadata": {},
     "output_type": "display_data"
    },
    {
     "data": {
      "text/html": [
       "<div>\n",
       "<style scoped>\n",
       "    .dataframe tbody tr th:only-of-type {\n",
       "        vertical-align: middle;\n",
       "    }\n",
       "\n",
       "    .dataframe tbody tr th {\n",
       "        vertical-align: top;\n",
       "    }\n",
       "\n",
       "    .dataframe thead th {\n",
       "        text-align: right;\n",
       "    }\n",
       "</style>\n",
       "<table border=\"1\" class=\"dataframe\">\n",
       "  <thead>\n",
       "    <tr style=\"text-align: right;\">\n",
       "      <th></th>\n",
       "      <th>type</th>\n",
       "      <th>features</th>\n",
       "    </tr>\n",
       "  </thead>\n",
       "  <tbody>\n",
       "    <tr>\n",
       "      <th>0</th>\n",
       "      <td>FeatureCollection</td>\n",
       "      <td>{'id': '0', 'type': 'Feature', 'properties': {...</td>\n",
       "    </tr>\n",
       "    <tr>\n",
       "      <th>1</th>\n",
       "      <td>FeatureCollection</td>\n",
       "      <td>{'id': '1', 'type': 'Feature', 'properties': {...</td>\n",
       "    </tr>\n",
       "    <tr>\n",
       "      <th>2</th>\n",
       "      <td>FeatureCollection</td>\n",
       "      <td>{'id': '2', 'type': 'Feature', 'properties': {...</td>\n",
       "    </tr>\n",
       "    <tr>\n",
       "      <th>3</th>\n",
       "      <td>FeatureCollection</td>\n",
       "      <td>{'id': '3', 'type': 'Feature', 'properties': {...</td>\n",
       "    </tr>\n",
       "    <tr>\n",
       "      <th>4</th>\n",
       "      <td>FeatureCollection</td>\n",
       "      <td>{'id': '4', 'type': 'Feature', 'properties': {...</td>\n",
       "    </tr>\n",
       "  </tbody>\n",
       "</table>\n",
       "</div>"
      ],
      "text/plain": [
       "                type                                           features\n",
       "0  FeatureCollection  {'id': '0', 'type': 'Feature', 'properties': {...\n",
       "1  FeatureCollection  {'id': '1', 'type': 'Feature', 'properties': {...\n",
       "2  FeatureCollection  {'id': '2', 'type': 'Feature', 'properties': {...\n",
       "3  FeatureCollection  {'id': '3', 'type': 'Feature', 'properties': {...\n",
       "4  FeatureCollection  {'id': '4', 'type': 'Feature', 'properties': {..."
      ]
     },
     "execution_count": 35,
     "metadata": {},
     "output_type": "execute_result"
    }
   ],
   "source": [
    "data.head()"
   ]
  },
  {
   "cell_type": "markdown",
   "metadata": {
    "id": "tRez593rlu-V"
   },
   "source": [
    "**Split Dataset into Train and Test**"
   ]
  },
  {
   "cell_type": "code",
   "execution_count": 36,
   "metadata": {
    "colab": {
     "base_uri": "https://localhost:8080/",
     "height": 17
    },
    "id": "xMla6m7nlDJM",
    "outputId": "591a3f61-d4a9-4ace-918a-addbe0136ac3"
   },
   "outputs": [
    {
     "data": {
      "text/html": [
       "\n",
       "            <style>\n",
       "                .geemap-dark {\n",
       "                    --jp-widgets-color: white;\n",
       "                    --jp-widgets-label-color: white;\n",
       "                    --jp-ui-font-color1: white;\n",
       "                    --jp-layout-color2: #454545;\n",
       "                    background-color: #383838;\n",
       "                }\n",
       "\n",
       "                .geemap-dark .jupyter-button {\n",
       "                    --jp-layout-color3: #383838;\n",
       "                }\n",
       "\n",
       "                .geemap-colab {\n",
       "                    background-color: var(--colab-primary-surface-color, white);\n",
       "                }\n",
       "\n",
       "                .geemap-colab .jupyter-button {\n",
       "                    --jp-layout-color3: var(--colab-primary-surface-color, white);\n",
       "                }\n",
       "            </style>\n",
       "            "
      ],
      "text/plain": [
       "<IPython.core.display.HTML object>"
      ]
     },
     "metadata": {},
     "output_type": "display_data"
    },
    {
     "ename": "AttributeError",
     "evalue": "'DataFrame' object has no attribute 'dataset'",
     "output_type": "error",
     "traceback": [
      "\u001b[1;31m---------------------------------------------------------------------------\u001b[0m",
      "\u001b[1;31mAttributeError\u001b[0m                            Traceback (most recent call last)",
      "\u001b[1;32m~\\AppData\\Local\\Temp\\ipykernel_23700\\2057904538.py\u001b[0m in \u001b[0;36m?\u001b[1;34m()\u001b[0m\n\u001b[0;32m      1\u001b[0m \u001b[1;31m# Split the data into train and test sets based on the 'dataset' column\u001b[0m\u001b[1;33m\u001b[0m\u001b[1;33m\u001b[0m\u001b[0m\n\u001b[1;32m----> 2\u001b[1;33m \u001b[0mtrain\u001b[0m \u001b[1;33m=\u001b[0m \u001b[0mdata\u001b[0m\u001b[1;33m[\u001b[0m\u001b[0mdata\u001b[0m\u001b[1;33m.\u001b[0m\u001b[0mdataset\u001b[0m \u001b[1;33m==\u001b[0m \u001b[1;34m'train'\u001b[0m\u001b[1;33m]\u001b[0m\u001b[1;33m.\u001b[0m\u001b[0mreset_index\u001b[0m\u001b[1;33m(\u001b[0m\u001b[0mdrop\u001b[0m\u001b[1;33m=\u001b[0m\u001b[1;32mTrue\u001b[0m\u001b[1;33m)\u001b[0m\u001b[1;33m\u001b[0m\u001b[1;33m\u001b[0m\u001b[0m\n\u001b[0m\u001b[0;32m      3\u001b[0m \u001b[0mtest\u001b[0m \u001b[1;33m=\u001b[0m \u001b[0mdata\u001b[0m\u001b[1;33m[\u001b[0m\u001b[0mdata\u001b[0m\u001b[1;33m.\u001b[0m\u001b[0mdataset\u001b[0m \u001b[1;33m==\u001b[0m \u001b[1;34m'test'\u001b[0m\u001b[1;33m]\u001b[0m\u001b[1;33m.\u001b[0m\u001b[0mreset_index\u001b[0m\u001b[1;33m(\u001b[0m\u001b[0mdrop\u001b[0m\u001b[1;33m=\u001b[0m\u001b[1;32mTrue\u001b[0m\u001b[1;33m)\u001b[0m\u001b[1;33m\u001b[0m\u001b[1;33m\u001b[0m\u001b[0m\n",
      "\u001b[1;32mc:\\Users\\chavv\\anaconda\\envs\\telangana\\lib\\site-packages\\pandas\\core\\generic.py\u001b[0m in \u001b[0;36m?\u001b[1;34m(self, name)\u001b[0m\n\u001b[0;32m   6295\u001b[0m             \u001b[1;32mand\u001b[0m \u001b[0mname\u001b[0m \u001b[1;32mnot\u001b[0m \u001b[1;32min\u001b[0m \u001b[0mself\u001b[0m\u001b[1;33m.\u001b[0m\u001b[0m_accessors\u001b[0m\u001b[1;33m\u001b[0m\u001b[1;33m\u001b[0m\u001b[0m\n\u001b[0;32m   6296\u001b[0m             \u001b[1;32mand\u001b[0m \u001b[0mself\u001b[0m\u001b[1;33m.\u001b[0m\u001b[0m_info_axis\u001b[0m\u001b[1;33m.\u001b[0m\u001b[0m_can_hold_identifiers_and_holds_name\u001b[0m\u001b[1;33m(\u001b[0m\u001b[0mname\u001b[0m\u001b[1;33m)\u001b[0m\u001b[1;33m\u001b[0m\u001b[1;33m\u001b[0m\u001b[0m\n\u001b[0;32m   6297\u001b[0m         ):\n\u001b[0;32m   6298\u001b[0m             \u001b[1;32mreturn\u001b[0m \u001b[0mself\u001b[0m\u001b[1;33m[\u001b[0m\u001b[0mname\u001b[0m\u001b[1;33m]\u001b[0m\u001b[1;33m\u001b[0m\u001b[1;33m\u001b[0m\u001b[0m\n\u001b[1;32m-> 6299\u001b[1;33m         \u001b[1;32mreturn\u001b[0m \u001b[0mobject\u001b[0m\u001b[1;33m.\u001b[0m\u001b[0m__getattribute__\u001b[0m\u001b[1;33m(\u001b[0m\u001b[0mself\u001b[0m\u001b[1;33m,\u001b[0m \u001b[0mname\u001b[0m\u001b[1;33m)\u001b[0m\u001b[1;33m\u001b[0m\u001b[1;33m\u001b[0m\u001b[0m\n\u001b[0m",
      "\u001b[1;31mAttributeError\u001b[0m: 'DataFrame' object has no attribute 'dataset'"
     ]
    }
   ],
   "source": [
    "# Split the data into train and test sets based on the 'dataset' column\n",
    "train = data[data.dataset == 'train'].reset_index(drop=True)\n",
    "test = data[data.dataset == 'test'].reset_index(drop=True)"
   ]
  },
  {
   "cell_type": "code",
   "execution_count": 28,
   "metadata": {
    "colab": {
     "base_uri": "https://localhost:8080/",
     "height": 17
    },
    "id": "-gc_qNgflxrA",
    "outputId": "482166fd-44c1-4997-e5c5-1ccc6533bd85"
   },
   "outputs": [
    {
     "data": {
      "text/html": [
       "\n",
       "            <style>\n",
       "                .geemap-dark {\n",
       "                    --jp-widgets-color: white;\n",
       "                    --jp-widgets-label-color: white;\n",
       "                    --jp-ui-font-color1: white;\n",
       "                    --jp-layout-color2: #454545;\n",
       "                    background-color: #383838;\n",
       "                }\n",
       "\n",
       "                .geemap-dark .jupyter-button {\n",
       "                    --jp-layout-color3: #383838;\n",
       "                }\n",
       "\n",
       "                .geemap-colab {\n",
       "                    background-color: var(--colab-primary-surface-color, white);\n",
       "                }\n",
       "\n",
       "                .geemap-colab .jupyter-button {\n",
       "                    --jp-layout-color3: var(--colab-primary-surface-color, white);\n",
       "                }\n",
       "            </style>\n",
       "            "
      ],
      "text/plain": [
       "<IPython.core.display.HTML object>"
      ]
     },
     "metadata": {},
     "output_type": "display_data"
    }
   ],
   "source": [
    "# Define columns to drop before encoding and training\n",
    "to_drop = [\n",
    "    'geometry', 'tif_path',  # Spatial and file path information\n",
    "    'dataset', 'FarmID',     # Columns that are not needed for modeling\n",
    "]\n",
    "\n",
    "# Drop the specified columns from train and test sets\n",
    "train.drop(columns=to_drop, inplace=True)\n",
    "test.drop(columns=to_drop, inplace=True)\n"
   ]
  },
  {
   "cell_type": "code",
   "execution_count": 29,
   "metadata": {
    "colab": {
     "base_uri": "https://localhost:8080/",
     "height": 17
    },
    "id": "On7vWlemlxoU",
    "outputId": "1f57b297-cb1a-421a-b379-f7430783676e"
   },
   "outputs": [
    {
     "data": {
      "text/html": [
       "\n",
       "            <style>\n",
       "                .geemap-dark {\n",
       "                    --jp-widgets-color: white;\n",
       "                    --jp-widgets-label-color: white;\n",
       "                    --jp-ui-font-color1: white;\n",
       "                    --jp-layout-color2: #454545;\n",
       "                    background-color: #383838;\n",
       "                }\n",
       "\n",
       "                .geemap-dark .jupyter-button {\n",
       "                    --jp-layout-color3: #383838;\n",
       "                }\n",
       "\n",
       "                .geemap-colab {\n",
       "                    background-color: var(--colab-primary-surface-color, white);\n",
       "                }\n",
       "\n",
       "                .geemap-colab .jupyter-button {\n",
       "                    --jp-layout-color3: var(--colab-primary-surface-color, white);\n",
       "                }\n",
       "            </style>\n",
       "            "
      ],
      "text/plain": [
       "<IPython.core.display.HTML object>"
      ]
     },
     "metadata": {},
     "output_type": "display_data"
    }
   ],
   "source": [
    "# Concatenate train and test datasets for uniform encoding of categorical columns\n",
    "data_combined = pd.concat([train, test], ignore_index=True)"
   ]
  },
  {
   "cell_type": "code",
   "execution_count": 30,
   "metadata": {
    "colab": {
     "base_uri": "https://localhost:8080/",
     "height": 17
    },
    "id": "r7i-Tz-ulxmI",
    "outputId": "242b3b67-3b1d-4edf-f756-68a8279914ac"
   },
   "outputs": [
    {
     "data": {
      "text/html": [
       "\n",
       "            <style>\n",
       "                .geemap-dark {\n",
       "                    --jp-widgets-color: white;\n",
       "                    --jp-widgets-label-color: white;\n",
       "                    --jp-ui-font-color1: white;\n",
       "                    --jp-layout-color2: #454545;\n",
       "                    background-color: #383838;\n",
       "                }\n",
       "\n",
       "                .geemap-dark .jupyter-button {\n",
       "                    --jp-layout-color3: #383838;\n",
       "                }\n",
       "\n",
       "                .geemap-colab {\n",
       "                    background-color: var(--colab-primary-surface-color, white);\n",
       "                }\n",
       "\n",
       "                .geemap-colab .jupyter-button {\n",
       "                    --jp-layout-color3: var(--colab-primary-surface-color, white);\n",
       "                }\n",
       "            </style>\n",
       "            "
      ],
      "text/plain": [
       "<IPython.core.display.HTML object>"
      ]
     },
     "metadata": {},
     "output_type": "display_data"
    }
   ],
   "source": [
    "# Create a mapping for the target variable 'category' to numeric labels, excluding NaN values\n",
    "category_mapper = {label: idx for idx, label in enumerate(data_combined['category'].unique()) if pd.notna(label)}\n",
    "idx_to_category_mapper = {idx: label for idx, label in enumerate(data_combined['category'].unique()) if pd.notna(label)}\n",
    "\n",
    "# Map the 'category' column to the new 'target' column using the mapping, handling NaN values as needed\n",
    "data_combined['target'] = data_combined['category'].map(category_mapper)\n",
    "\n",
    "# Drop the original 'category' column now that we have the 'target' column\n",
    "data_combined.drop(columns=['category'], inplace=True)"
   ]
  },
  {
   "cell_type": "code",
   "execution_count": 31,
   "metadata": {
    "colab": {
     "base_uri": "https://localhost:8080/",
     "height": 17
    },
    "id": "W_Te72bxlbyB",
    "outputId": "caf22bbb-b4c2-4dd9-fefc-eb8787d04a7a"
   },
   "outputs": [
    {
     "data": {
      "text/html": [
       "\n",
       "            <style>\n",
       "                .geemap-dark {\n",
       "                    --jp-widgets-color: white;\n",
       "                    --jp-widgets-label-color: white;\n",
       "                    --jp-ui-font-color1: white;\n",
       "                    --jp-layout-color2: #454545;\n",
       "                    background-color: #383838;\n",
       "                }\n",
       "\n",
       "                .geemap-dark .jupyter-button {\n",
       "                    --jp-layout-color3: #383838;\n",
       "                }\n",
       "\n",
       "                .geemap-colab {\n",
       "                    background-color: var(--colab-primary-surface-color, white);\n",
       "                }\n",
       "\n",
       "                .geemap-colab .jupyter-button {\n",
       "                    --jp-layout-color3: var(--colab-primary-surface-color, white);\n",
       "                }\n",
       "            </style>\n",
       "            "
      ],
      "text/plain": [
       "<IPython.core.display.HTML object>"
      ]
     },
     "metadata": {},
     "output_type": "display_data"
    }
   ],
   "source": [
    "# Identify categorical columns to encode\n",
    "categorical_cols = data_combined.select_dtypes(include=['object']).columns\n",
    "\n",
    "# Apply Label Encoding for all categorical columns\n",
    "for col in categorical_cols:\n",
    "    encoder = LabelEncoder()\n",
    "    data_combined[col] = encoder.fit_transform(data_combined[col])"
   ]
  },
  {
   "cell_type": "code",
   "execution_count": 32,
   "metadata": {
    "colab": {
     "base_uri": "https://localhost:8080/",
     "height": 17
    },
    "id": "BivNfRRKmSQP",
    "outputId": "e407e211-220b-4044-f58c-6ced7913ff13"
   },
   "outputs": [
    {
     "data": {
      "text/html": [
       "\n",
       "            <style>\n",
       "                .geemap-dark {\n",
       "                    --jp-widgets-color: white;\n",
       "                    --jp-widgets-label-color: white;\n",
       "                    --jp-ui-font-color1: white;\n",
       "                    --jp-layout-color2: #454545;\n",
       "                    background-color: #383838;\n",
       "                }\n",
       "\n",
       "                .geemap-dark .jupyter-button {\n",
       "                    --jp-layout-color3: #383838;\n",
       "                }\n",
       "\n",
       "                .geemap-colab {\n",
       "                    background-color: var(--colab-primary-surface-color, white);\n",
       "                }\n",
       "\n",
       "                .geemap-colab .jupyter-button {\n",
       "                    --jp-layout-color3: var(--colab-primary-surface-color, white);\n",
       "                }\n",
       "            </style>\n",
       "            "
      ],
      "text/plain": [
       "<IPython.core.display.HTML object>"
      ]
     },
     "metadata": {},
     "output_type": "display_data"
    }
   ],
   "source": [
    "# Split the combined encoded data back into train and test\n",
    "train_encoded = data_combined[data_combined.index < len(train)].reset_index(drop=True)\n",
    "test_encoded = data_combined[data_combined.index >= len(train)].reset_index(drop=True)"
   ]
  },
  {
   "cell_type": "markdown",
   "metadata": {
    "id": "T1EjPJNWlp-R"
   },
   "source": [
    "# Model Training"
   ]
  },
  {
   "cell_type": "code",
   "execution_count": 33,
   "metadata": {
    "colab": {
     "base_uri": "https://localhost:8080/",
     "height": 17
    },
    "id": "tCP5_9HqmIEL",
    "outputId": "38dbc5da-da88-4fe6-b445-6c6ee717a0fc"
   },
   "outputs": [
    {
     "data": {
      "text/html": [
       "\n",
       "            <style>\n",
       "                .geemap-dark {\n",
       "                    --jp-widgets-color: white;\n",
       "                    --jp-widgets-label-color: white;\n",
       "                    --jp-ui-font-color1: white;\n",
       "                    --jp-layout-color2: #454545;\n",
       "                    background-color: #383838;\n",
       "                }\n",
       "\n",
       "                .geemap-dark .jupyter-button {\n",
       "                    --jp-layout-color3: #383838;\n",
       "                }\n",
       "\n",
       "                .geemap-colab {\n",
       "                    background-color: var(--colab-primary-surface-color, white);\n",
       "                }\n",
       "\n",
       "                .geemap-colab .jupyter-button {\n",
       "                    --jp-layout-color3: var(--colab-primary-surface-color, white);\n",
       "                }\n",
       "            </style>\n",
       "            "
      ],
      "text/plain": [
       "<IPython.core.display.HTML object>"
      ]
     },
     "metadata": {},
     "output_type": "display_data"
    }
   ],
   "source": [
    "# Separate features and target variable in the train set\n",
    "X = train_encoded.drop(columns=['target'])\n",
    "y = train_encoded['target'].astype(int)"
   ]
  },
  {
   "cell_type": "code",
   "execution_count": 34,
   "metadata": {
    "colab": {
     "base_uri": "https://localhost:8080/",
     "height": 17
    },
    "id": "qSqjFoyCnkB9",
    "outputId": "17551cf1-f374-435b-83ca-3ca9628bf013"
   },
   "outputs": [
    {
     "data": {
      "text/html": [
       "\n",
       "            <style>\n",
       "                .geemap-dark {\n",
       "                    --jp-widgets-color: white;\n",
       "                    --jp-widgets-label-color: white;\n",
       "                    --jp-ui-font-color1: white;\n",
       "                    --jp-layout-color2: #454545;\n",
       "                    background-color: #383838;\n",
       "                }\n",
       "\n",
       "                .geemap-dark .jupyter-button {\n",
       "                    --jp-layout-color3: #383838;\n",
       "                }\n",
       "\n",
       "                .geemap-colab {\n",
       "                    background-color: var(--colab-primary-surface-color, white);\n",
       "                }\n",
       "\n",
       "                .geemap-colab .jupyter-button {\n",
       "                    --jp-layout-color3: var(--colab-primary-surface-color, white);\n",
       "                }\n",
       "            </style>\n",
       "            "
      ],
      "text/plain": [
       "<IPython.core.display.HTML object>"
      ]
     },
     "metadata": {},
     "output_type": "display_data"
    }
   ],
   "source": [
    "# Stratified split based on 'target' for training and validation\n",
    "X_train, X_valid, y_train, y_valid = train_test_split(X, y, test_size=0.2, stratify=y, random_state=42)"
   ]
  },
  {
   "cell_type": "code",
   "execution_count": 35,
   "metadata": {
    "colab": {
     "base_uri": "https://localhost:8080/",
     "height": 218
    },
    "id": "i9gQWi-tmqdM",
    "outputId": "d917f37a-511c-4469-bfc3-7f715a72b57a"
   },
   "outputs": [
    {
     "data": {
      "text/html": [
       "\n",
       "            <style>\n",
       "                .geemap-dark {\n",
       "                    --jp-widgets-color: white;\n",
       "                    --jp-widgets-label-color: white;\n",
       "                    --jp-ui-font-color1: white;\n",
       "                    --jp-layout-color2: #454545;\n",
       "                    background-color: #383838;\n",
       "                }\n",
       "\n",
       "                .geemap-dark .jupyter-button {\n",
       "                    --jp-layout-color3: #383838;\n",
       "                }\n",
       "\n",
       "                .geemap-colab {\n",
       "                    background-color: var(--colab-primary-surface-color, white);\n",
       "                }\n",
       "\n",
       "                .geemap-colab .jupyter-button {\n",
       "                    --jp-layout-color3: var(--colab-primary-surface-color, white);\n",
       "                }\n",
       "            </style>\n",
       "            "
      ],
      "text/plain": [
       "<IPython.core.display.HTML object>"
      ]
     },
     "metadata": {},
     "output_type": "display_data"
    },
    {
     "name": "stdout",
     "output_type": "stream",
     "text": [
      "[LightGBM] [Info] Total Bins 2562\n",
      "[LightGBM] [Info] Number of data points in the train set: 7020, number of used features: 22\n",
      "[LightGBM] [Info] Start training from score -0.195918\n",
      "[LightGBM] [Info] Start training from score -2.792733\n",
      "[LightGBM] [Info] Start training from score -2.795062\n",
      "[LightGBM] [Info] Start training from score -2.890372\n"
     ]
    },
    {
     "data": {
      "text/html": [
       "<style>#sk-container-id-1 {\n",
       "  /* Definition of color scheme common for light and dark mode */\n",
       "  --sklearn-color-text: black;\n",
       "  --sklearn-color-line: gray;\n",
       "  /* Definition of color scheme for unfitted estimators */\n",
       "  --sklearn-color-unfitted-level-0: #fff5e6;\n",
       "  --sklearn-color-unfitted-level-1: #f6e4d2;\n",
       "  --sklearn-color-unfitted-level-2: #ffe0b3;\n",
       "  --sklearn-color-unfitted-level-3: chocolate;\n",
       "  /* Definition of color scheme for fitted estimators */\n",
       "  --sklearn-color-fitted-level-0: #f0f8ff;\n",
       "  --sklearn-color-fitted-level-1: #d4ebff;\n",
       "  --sklearn-color-fitted-level-2: #b3dbfd;\n",
       "  --sklearn-color-fitted-level-3: cornflowerblue;\n",
       "\n",
       "  /* Specific color for light theme */\n",
       "  --sklearn-color-text-on-default-background: var(--sg-text-color, var(--theme-code-foreground, var(--jp-content-font-color1, black)));\n",
       "  --sklearn-color-background: var(--sg-background-color, var(--theme-background, var(--jp-layout-color0, white)));\n",
       "  --sklearn-color-border-box: var(--sg-text-color, var(--theme-code-foreground, var(--jp-content-font-color1, black)));\n",
       "  --sklearn-color-icon: #696969;\n",
       "\n",
       "  @media (prefers-color-scheme: dark) {\n",
       "    /* Redefinition of color scheme for dark theme */\n",
       "    --sklearn-color-text-on-default-background: var(--sg-text-color, var(--theme-code-foreground, var(--jp-content-font-color1, white)));\n",
       "    --sklearn-color-background: var(--sg-background-color, var(--theme-background, var(--jp-layout-color0, #111)));\n",
       "    --sklearn-color-border-box: var(--sg-text-color, var(--theme-code-foreground, var(--jp-content-font-color1, white)));\n",
       "    --sklearn-color-icon: #878787;\n",
       "  }\n",
       "}\n",
       "\n",
       "#sk-container-id-1 {\n",
       "  color: var(--sklearn-color-text);\n",
       "}\n",
       "\n",
       "#sk-container-id-1 pre {\n",
       "  padding: 0;\n",
       "}\n",
       "\n",
       "#sk-container-id-1 input.sk-hidden--visually {\n",
       "  border: 0;\n",
       "  clip: rect(1px 1px 1px 1px);\n",
       "  clip: rect(1px, 1px, 1px, 1px);\n",
       "  height: 1px;\n",
       "  margin: -1px;\n",
       "  overflow: hidden;\n",
       "  padding: 0;\n",
       "  position: absolute;\n",
       "  width: 1px;\n",
       "}\n",
       "\n",
       "#sk-container-id-1 div.sk-dashed-wrapped {\n",
       "  border: 1px dashed var(--sklearn-color-line);\n",
       "  margin: 0 0.4em 0.5em 0.4em;\n",
       "  box-sizing: border-box;\n",
       "  padding-bottom: 0.4em;\n",
       "  background-color: var(--sklearn-color-background);\n",
       "}\n",
       "\n",
       "#sk-container-id-1 div.sk-container {\n",
       "  /* jupyter's `normalize.less` sets `[hidden] { display: none; }`\n",
       "     but bootstrap.min.css set `[hidden] { display: none !important; }`\n",
       "     so we also need the `!important` here to be able to override the\n",
       "     default hidden behavior on the sphinx rendered scikit-learn.org.\n",
       "     See: https://github.com/scikit-learn/scikit-learn/issues/21755 */\n",
       "  display: inline-block !important;\n",
       "  position: relative;\n",
       "}\n",
       "\n",
       "#sk-container-id-1 div.sk-text-repr-fallback {\n",
       "  display: none;\n",
       "}\n",
       "\n",
       "div.sk-parallel-item,\n",
       "div.sk-serial,\n",
       "div.sk-item {\n",
       "  /* draw centered vertical line to link estimators */\n",
       "  background-image: linear-gradient(var(--sklearn-color-text-on-default-background), var(--sklearn-color-text-on-default-background));\n",
       "  background-size: 2px 100%;\n",
       "  background-repeat: no-repeat;\n",
       "  background-position: center center;\n",
       "}\n",
       "\n",
       "/* Parallel-specific style estimator block */\n",
       "\n",
       "#sk-container-id-1 div.sk-parallel-item::after {\n",
       "  content: \"\";\n",
       "  width: 100%;\n",
       "  border-bottom: 2px solid var(--sklearn-color-text-on-default-background);\n",
       "  flex-grow: 1;\n",
       "}\n",
       "\n",
       "#sk-container-id-1 div.sk-parallel {\n",
       "  display: flex;\n",
       "  align-items: stretch;\n",
       "  justify-content: center;\n",
       "  background-color: var(--sklearn-color-background);\n",
       "  position: relative;\n",
       "}\n",
       "\n",
       "#sk-container-id-1 div.sk-parallel-item {\n",
       "  display: flex;\n",
       "  flex-direction: column;\n",
       "}\n",
       "\n",
       "#sk-container-id-1 div.sk-parallel-item:first-child::after {\n",
       "  align-self: flex-end;\n",
       "  width: 50%;\n",
       "}\n",
       "\n",
       "#sk-container-id-1 div.sk-parallel-item:last-child::after {\n",
       "  align-self: flex-start;\n",
       "  width: 50%;\n",
       "}\n",
       "\n",
       "#sk-container-id-1 div.sk-parallel-item:only-child::after {\n",
       "  width: 0;\n",
       "}\n",
       "\n",
       "/* Serial-specific style estimator block */\n",
       "\n",
       "#sk-container-id-1 div.sk-serial {\n",
       "  display: flex;\n",
       "  flex-direction: column;\n",
       "  align-items: center;\n",
       "  background-color: var(--sklearn-color-background);\n",
       "  padding-right: 1em;\n",
       "  padding-left: 1em;\n",
       "}\n",
       "\n",
       "\n",
       "/* Toggleable style: style used for estimator/Pipeline/ColumnTransformer box that is\n",
       "clickable and can be expanded/collapsed.\n",
       "- Pipeline and ColumnTransformer use this feature and define the default style\n",
       "- Estimators will overwrite some part of the style using the `sk-estimator` class\n",
       "*/\n",
       "\n",
       "/* Pipeline and ColumnTransformer style (default) */\n",
       "\n",
       "#sk-container-id-1 div.sk-toggleable {\n",
       "  /* Default theme specific background. It is overwritten whether we have a\n",
       "  specific estimator or a Pipeline/ColumnTransformer */\n",
       "  background-color: var(--sklearn-color-background);\n",
       "}\n",
       "\n",
       "/* Toggleable label */\n",
       "#sk-container-id-1 label.sk-toggleable__label {\n",
       "  cursor: pointer;\n",
       "  display: block;\n",
       "  width: 100%;\n",
       "  margin-bottom: 0;\n",
       "  padding: 0.5em;\n",
       "  box-sizing: border-box;\n",
       "  text-align: center;\n",
       "}\n",
       "\n",
       "#sk-container-id-1 label.sk-toggleable__label-arrow:before {\n",
       "  /* Arrow on the left of the label */\n",
       "  content: \"▸\";\n",
       "  float: left;\n",
       "  margin-right: 0.25em;\n",
       "  color: var(--sklearn-color-icon);\n",
       "}\n",
       "\n",
       "#sk-container-id-1 label.sk-toggleable__label-arrow:hover:before {\n",
       "  color: var(--sklearn-color-text);\n",
       "}\n",
       "\n",
       "/* Toggleable content - dropdown */\n",
       "\n",
       "#sk-container-id-1 div.sk-toggleable__content {\n",
       "  max-height: 0;\n",
       "  max-width: 0;\n",
       "  overflow: hidden;\n",
       "  text-align: left;\n",
       "  /* unfitted */\n",
       "  background-color: var(--sklearn-color-unfitted-level-0);\n",
       "}\n",
       "\n",
       "#sk-container-id-1 div.sk-toggleable__content.fitted {\n",
       "  /* fitted */\n",
       "  background-color: var(--sklearn-color-fitted-level-0);\n",
       "}\n",
       "\n",
       "#sk-container-id-1 div.sk-toggleable__content pre {\n",
       "  margin: 0.2em;\n",
       "  border-radius: 0.25em;\n",
       "  color: var(--sklearn-color-text);\n",
       "  /* unfitted */\n",
       "  background-color: var(--sklearn-color-unfitted-level-0);\n",
       "}\n",
       "\n",
       "#sk-container-id-1 div.sk-toggleable__content.fitted pre {\n",
       "  /* unfitted */\n",
       "  background-color: var(--sklearn-color-fitted-level-0);\n",
       "}\n",
       "\n",
       "#sk-container-id-1 input.sk-toggleable__control:checked~div.sk-toggleable__content {\n",
       "  /* Expand drop-down */\n",
       "  max-height: 200px;\n",
       "  max-width: 100%;\n",
       "  overflow: auto;\n",
       "}\n",
       "\n",
       "#sk-container-id-1 input.sk-toggleable__control:checked~label.sk-toggleable__label-arrow:before {\n",
       "  content: \"▾\";\n",
       "}\n",
       "\n",
       "/* Pipeline/ColumnTransformer-specific style */\n",
       "\n",
       "#sk-container-id-1 div.sk-label input.sk-toggleable__control:checked~label.sk-toggleable__label {\n",
       "  color: var(--sklearn-color-text);\n",
       "  background-color: var(--sklearn-color-unfitted-level-2);\n",
       "}\n",
       "\n",
       "#sk-container-id-1 div.sk-label.fitted input.sk-toggleable__control:checked~label.sk-toggleable__label {\n",
       "  background-color: var(--sklearn-color-fitted-level-2);\n",
       "}\n",
       "\n",
       "/* Estimator-specific style */\n",
       "\n",
       "/* Colorize estimator box */\n",
       "#sk-container-id-1 div.sk-estimator input.sk-toggleable__control:checked~label.sk-toggleable__label {\n",
       "  /* unfitted */\n",
       "  background-color: var(--sklearn-color-unfitted-level-2);\n",
       "}\n",
       "\n",
       "#sk-container-id-1 div.sk-estimator.fitted input.sk-toggleable__control:checked~label.sk-toggleable__label {\n",
       "  /* fitted */\n",
       "  background-color: var(--sklearn-color-fitted-level-2);\n",
       "}\n",
       "\n",
       "#sk-container-id-1 div.sk-label label.sk-toggleable__label,\n",
       "#sk-container-id-1 div.sk-label label {\n",
       "  /* The background is the default theme color */\n",
       "  color: var(--sklearn-color-text-on-default-background);\n",
       "}\n",
       "\n",
       "/* On hover, darken the color of the background */\n",
       "#sk-container-id-1 div.sk-label:hover label.sk-toggleable__label {\n",
       "  color: var(--sklearn-color-text);\n",
       "  background-color: var(--sklearn-color-unfitted-level-2);\n",
       "}\n",
       "\n",
       "/* Label box, darken color on hover, fitted */\n",
       "#sk-container-id-1 div.sk-label.fitted:hover label.sk-toggleable__label.fitted {\n",
       "  color: var(--sklearn-color-text);\n",
       "  background-color: var(--sklearn-color-fitted-level-2);\n",
       "}\n",
       "\n",
       "/* Estimator label */\n",
       "\n",
       "#sk-container-id-1 div.sk-label label {\n",
       "  font-family: monospace;\n",
       "  font-weight: bold;\n",
       "  display: inline-block;\n",
       "  line-height: 1.2em;\n",
       "}\n",
       "\n",
       "#sk-container-id-1 div.sk-label-container {\n",
       "  text-align: center;\n",
       "}\n",
       "\n",
       "/* Estimator-specific */\n",
       "#sk-container-id-1 div.sk-estimator {\n",
       "  font-family: monospace;\n",
       "  border: 1px dotted var(--sklearn-color-border-box);\n",
       "  border-radius: 0.25em;\n",
       "  box-sizing: border-box;\n",
       "  margin-bottom: 0.5em;\n",
       "  /* unfitted */\n",
       "  background-color: var(--sklearn-color-unfitted-level-0);\n",
       "}\n",
       "\n",
       "#sk-container-id-1 div.sk-estimator.fitted {\n",
       "  /* fitted */\n",
       "  background-color: var(--sklearn-color-fitted-level-0);\n",
       "}\n",
       "\n",
       "/* on hover */\n",
       "#sk-container-id-1 div.sk-estimator:hover {\n",
       "  /* unfitted */\n",
       "  background-color: var(--sklearn-color-unfitted-level-2);\n",
       "}\n",
       "\n",
       "#sk-container-id-1 div.sk-estimator.fitted:hover {\n",
       "  /* fitted */\n",
       "  background-color: var(--sklearn-color-fitted-level-2);\n",
       "}\n",
       "\n",
       "/* Specification for estimator info (e.g. \"i\" and \"?\") */\n",
       "\n",
       "/* Common style for \"i\" and \"?\" */\n",
       "\n",
       ".sk-estimator-doc-link,\n",
       "a:link.sk-estimator-doc-link,\n",
       "a:visited.sk-estimator-doc-link {\n",
       "  float: right;\n",
       "  font-size: smaller;\n",
       "  line-height: 1em;\n",
       "  font-family: monospace;\n",
       "  background-color: var(--sklearn-color-background);\n",
       "  border-radius: 1em;\n",
       "  height: 1em;\n",
       "  width: 1em;\n",
       "  text-decoration: none !important;\n",
       "  margin-left: 1ex;\n",
       "  /* unfitted */\n",
       "  border: var(--sklearn-color-unfitted-level-1) 1pt solid;\n",
       "  color: var(--sklearn-color-unfitted-level-1);\n",
       "}\n",
       "\n",
       ".sk-estimator-doc-link.fitted,\n",
       "a:link.sk-estimator-doc-link.fitted,\n",
       "a:visited.sk-estimator-doc-link.fitted {\n",
       "  /* fitted */\n",
       "  border: var(--sklearn-color-fitted-level-1) 1pt solid;\n",
       "  color: var(--sklearn-color-fitted-level-1);\n",
       "}\n",
       "\n",
       "/* On hover */\n",
       "div.sk-estimator:hover .sk-estimator-doc-link:hover,\n",
       ".sk-estimator-doc-link:hover,\n",
       "div.sk-label-container:hover .sk-estimator-doc-link:hover,\n",
       ".sk-estimator-doc-link:hover {\n",
       "  /* unfitted */\n",
       "  background-color: var(--sklearn-color-unfitted-level-3);\n",
       "  color: var(--sklearn-color-background);\n",
       "  text-decoration: none;\n",
       "}\n",
       "\n",
       "div.sk-estimator.fitted:hover .sk-estimator-doc-link.fitted:hover,\n",
       ".sk-estimator-doc-link.fitted:hover,\n",
       "div.sk-label-container:hover .sk-estimator-doc-link.fitted:hover,\n",
       ".sk-estimator-doc-link.fitted:hover {\n",
       "  /* fitted */\n",
       "  background-color: var(--sklearn-color-fitted-level-3);\n",
       "  color: var(--sklearn-color-background);\n",
       "  text-decoration: none;\n",
       "}\n",
       "\n",
       "/* Span, style for the box shown on hovering the info icon */\n",
       ".sk-estimator-doc-link span {\n",
       "  display: none;\n",
       "  z-index: 9999;\n",
       "  position: relative;\n",
       "  font-weight: normal;\n",
       "  right: .2ex;\n",
       "  padding: .5ex;\n",
       "  margin: .5ex;\n",
       "  width: min-content;\n",
       "  min-width: 20ex;\n",
       "  max-width: 50ex;\n",
       "  color: var(--sklearn-color-text);\n",
       "  box-shadow: 2pt 2pt 4pt #999;\n",
       "  /* unfitted */\n",
       "  background: var(--sklearn-color-unfitted-level-0);\n",
       "  border: .5pt solid var(--sklearn-color-unfitted-level-3);\n",
       "}\n",
       "\n",
       ".sk-estimator-doc-link.fitted span {\n",
       "  /* fitted */\n",
       "  background: var(--sklearn-color-fitted-level-0);\n",
       "  border: var(--sklearn-color-fitted-level-3);\n",
       "}\n",
       "\n",
       ".sk-estimator-doc-link:hover span {\n",
       "  display: block;\n",
       "}\n",
       "\n",
       "/* \"?\"-specific style due to the `<a>` HTML tag */\n",
       "\n",
       "#sk-container-id-1 a.estimator_doc_link {\n",
       "  float: right;\n",
       "  font-size: 1rem;\n",
       "  line-height: 1em;\n",
       "  font-family: monospace;\n",
       "  background-color: var(--sklearn-color-background);\n",
       "  border-radius: 1rem;\n",
       "  height: 1rem;\n",
       "  width: 1rem;\n",
       "  text-decoration: none;\n",
       "  /* unfitted */\n",
       "  color: var(--sklearn-color-unfitted-level-1);\n",
       "  border: var(--sklearn-color-unfitted-level-1) 1pt solid;\n",
       "}\n",
       "\n",
       "#sk-container-id-1 a.estimator_doc_link.fitted {\n",
       "  /* fitted */\n",
       "  border: var(--sklearn-color-fitted-level-1) 1pt solid;\n",
       "  color: var(--sklearn-color-fitted-level-1);\n",
       "}\n",
       "\n",
       "/* On hover */\n",
       "#sk-container-id-1 a.estimator_doc_link:hover {\n",
       "  /* unfitted */\n",
       "  background-color: var(--sklearn-color-unfitted-level-3);\n",
       "  color: var(--sklearn-color-background);\n",
       "  text-decoration: none;\n",
       "}\n",
       "\n",
       "#sk-container-id-1 a.estimator_doc_link.fitted:hover {\n",
       "  /* fitted */\n",
       "  background-color: var(--sklearn-color-fitted-level-3);\n",
       "}\n",
       "</style><div id=\"sk-container-id-1\" class=\"sk-top-container\"><div class=\"sk-text-repr-fallback\"><pre>LGBMClassifier(force_row_wise=&#x27;true&#x27;, learning_rate=0.01,\n",
       "               metric=&#x27;multi_logloss&#x27;, n_estimators=500, num_class=4,\n",
       "               num_leaves=81, objective=&#x27;multiclass&#x27;, random_state=42)</pre><b>In a Jupyter environment, please rerun this cell to show the HTML representation or trust the notebook. <br />On GitHub, the HTML representation is unable to render, please try loading this page with nbviewer.org.</b></div><div class=\"sk-container\" hidden><div class=\"sk-item\"><div class=\"sk-estimator fitted sk-toggleable\"><input class=\"sk-toggleable__control sk-hidden--visually\" id=\"sk-estimator-id-1\" type=\"checkbox\" checked><label for=\"sk-estimator-id-1\" class=\"sk-toggleable__label fitted sk-toggleable__label-arrow fitted\">&nbsp;LGBMClassifier<span class=\"sk-estimator-doc-link fitted\">i<span>Fitted</span></span></label><div class=\"sk-toggleable__content fitted\"><pre>LGBMClassifier(force_row_wise=&#x27;true&#x27;, learning_rate=0.01,\n",
       "               metric=&#x27;multi_logloss&#x27;, n_estimators=500, num_class=4,\n",
       "               num_leaves=81, objective=&#x27;multiclass&#x27;, random_state=42)</pre></div> </div></div></div></div>"
      ],
      "text/plain": [
       "LGBMClassifier(force_row_wise='true', learning_rate=0.01,\n",
       "               metric='multi_logloss', n_estimators=500, num_class=4,\n",
       "               num_leaves=81, objective='multiclass', random_state=42)"
      ]
     },
     "execution_count": 35,
     "metadata": {},
     "output_type": "execute_result"
    }
   ],
   "source": [
    "# Configuration dictionary for LightGBM parameters\n",
    "config_dict = {\n",
    "    'boosting_type': 'gbdt',\n",
    "    'objective': 'multiclass',\n",
    "    'metric': 'multi_logloss',\n",
    "    'num_class': len(category_mapper),  # Number of classes in the target\n",
    "    'num_leaves': 81,\n",
    "    'learning_rate': 0.01,\n",
    "    'n_estimators': 500,\n",
    "    'random_state': 42,\n",
    "    'force_row_wise': 'true'\n",
    "}\n",
    "\n",
    "# Initialize LightGBM classifier with config_dict parameters\n",
    "model = LGBMClassifier(**config_dict)\n",
    "\n",
    "# Fit the model with an evaluation set for early stopping and progress tracking\n",
    "model.fit(\n",
    "    X_train, y_train,\n",
    "    eval_set=[(X_train, y_train), (X_valid, y_valid)],\n",
    ")"
   ]
  },
  {
   "cell_type": "code",
   "execution_count": 36,
   "metadata": {
    "colab": {
     "base_uri": "https://localhost:8080/",
     "height": 260
    },
    "id": "FHBx31JfmeGc",
    "outputId": "0132e4f0-dcb4-4858-8108-4c2bc1b5f434"
   },
   "outputs": [
    {
     "data": {
      "text/html": [
       "\n",
       "            <style>\n",
       "                .geemap-dark {\n",
       "                    --jp-widgets-color: white;\n",
       "                    --jp-widgets-label-color: white;\n",
       "                    --jp-ui-font-color1: white;\n",
       "                    --jp-layout-color2: #454545;\n",
       "                    background-color: #383838;\n",
       "                }\n",
       "\n",
       "                .geemap-dark .jupyter-button {\n",
       "                    --jp-layout-color3: #383838;\n",
       "                }\n",
       "\n",
       "                .geemap-colab {\n",
       "                    background-color: var(--colab-primary-surface-color, white);\n",
       "                }\n",
       "\n",
       "                .geemap-colab .jupyter-button {\n",
       "                    --jp-layout-color3: var(--colab-primary-surface-color, white);\n",
       "                }\n",
       "            </style>\n",
       "            "
      ],
      "text/plain": [
       "<IPython.core.display.HTML object>"
      ]
     },
     "metadata": {},
     "output_type": "display_data"
    },
    {
     "name": "stdout",
     "output_type": "stream",
     "text": [
      "Classification Report:\n",
      "               precision    recall  f1-score   support\n",
      "\n",
      "     Healthy       0.82      1.00      0.90      1443\n",
      "    Diseased       0.50      0.01      0.02       107\n",
      "       Pests       0.00      0.00      0.00       107\n",
      "    Stressed       0.00      0.00      0.00        98\n",
      "\n",
      "    accuracy                           0.82      1755\n",
      "   macro avg       0.33      0.25      0.23      1755\n",
      "weighted avg       0.71      0.82      0.74      1755\n",
      "\n",
      "\n",
      "Weighted F1 Score: 0.743073912831982\n"
     ]
    }
   ],
   "source": [
    "# Predict on the validation set\n",
    "y_pred = model.predict(X_valid)\n",
    "\n",
    "# Generate classification report and weighted F1 score\n",
    "classification_rep = classification_report(y_valid, y_pred, target_names=list(category_mapper.keys()))\n",
    "f1 = f1_score(y_valid, y_pred, average='weighted')\n",
    "\n",
    "# Print model evaluation metrics\n",
    "print(\"Classification Report:\\n\", classification_rep)\n",
    "print(\"\\nWeighted F1 Score:\", f1)"
   ]
  },
  {
   "cell_type": "markdown",
   "metadata": {
    "id": "0YZwddCUm42T"
   },
   "source": [
    " # Submit"
   ]
  },
  {
   "cell_type": "code",
   "execution_count": 37,
   "metadata": {
    "colab": {
     "base_uri": "https://localhost:8080/",
     "height": 17
    },
    "id": "uz-a90EvqbcR",
    "outputId": "1df03297-2b70-424c-8396-9639700b0af6"
   },
   "outputs": [
    {
     "data": {
      "text/html": [
       "\n",
       "            <style>\n",
       "                .geemap-dark {\n",
       "                    --jp-widgets-color: white;\n",
       "                    --jp-widgets-label-color: white;\n",
       "                    --jp-ui-font-color1: white;\n",
       "                    --jp-layout-color2: #454545;\n",
       "                    background-color: #383838;\n",
       "                }\n",
       "\n",
       "                .geemap-dark .jupyter-button {\n",
       "                    --jp-layout-color3: #383838;\n",
       "                }\n",
       "\n",
       "                .geemap-colab {\n",
       "                    background-color: var(--colab-primary-surface-color, white);\n",
       "                }\n",
       "\n",
       "                .geemap-colab .jupyter-button {\n",
       "                    --jp-layout-color3: var(--colab-primary-surface-color, white);\n",
       "                }\n",
       "            </style>\n",
       "            "
      ],
      "text/plain": [
       "<IPython.core.display.HTML object>"
      ]
     },
     "metadata": {},
     "output_type": "display_data"
    }
   ],
   "source": [
    "# Load submission file\n",
    "sample_submission = pd.read_csv(root_path / \"SampleSubmission.csv\")\n",
    "\n",
    "# Predict on the test set\n",
    "test_predictions = model.predict(test_encoded.drop(columns=['target']))  # Drop 'FarmID' if it exists in test_encoded\n",
    "\n",
    "# Fill sample_submission.csv & Save\n",
    "sample_submission['Target'] = test_predictions\n",
    "sample_submission['Target'] = sample_submission['Target'].astype(int).map(idx_to_category_mapper)\n",
    "sample_submission.to_csv('submission.csv', index=False)"
   ]
  },
  {
   "cell_type": "code",
   "execution_count": 40,
   "metadata": {
    "colab": {
     "base_uri": "https://localhost:8080/",
     "height": 206
    },
    "id": "zO5nbTFeK1dk",
    "outputId": "c744b19e-a439-4285-c20f-f734a2903c92"
   },
   "outputs": [
    {
     "data": {
      "text/html": [
       "\n",
       "            <style>\n",
       "                .geemap-dark {\n",
       "                    --jp-widgets-color: white;\n",
       "                    --jp-widgets-label-color: white;\n",
       "                    --jp-ui-font-color1: white;\n",
       "                    --jp-layout-color2: #454545;\n",
       "                    background-color: #383838;\n",
       "                }\n",
       "\n",
       "                .geemap-dark .jupyter-button {\n",
       "                    --jp-layout-color3: #383838;\n",
       "                }\n",
       "\n",
       "                .geemap-colab {\n",
       "                    background-color: var(--colab-primary-surface-color, white);\n",
       "                }\n",
       "\n",
       "                .geemap-colab .jupyter-button {\n",
       "                    --jp-layout-color3: var(--colab-primary-surface-color, white);\n",
       "                }\n",
       "            </style>\n",
       "            "
      ],
      "text/plain": [
       "<IPython.core.display.HTML object>"
      ]
     },
     "metadata": {},
     "output_type": "display_data"
    },
    {
     "data": {
      "application/vnd.google.colaboratory.intrinsic+json": {
       "summary": "{\n  \"name\": \"sample_submission\",\n  \"rows\": 3016,\n  \"fields\": [\n    {\n      \"column\": \"ID\",\n      \"properties\": {\n        \"dtype\": \"number\",\n        \"std\": 227013,\n        \"min\": 16314,\n        \"max\": 1332142,\n        \"num_unique_values\": 3016,\n        \"samples\": [\n          1326789,\n          1324573,\n          1326890\n        ],\n        \"semantic_type\": \"\",\n        \"description\": \"\"\n      }\n    },\n    {\n      \"column\": \"Target\",\n      \"properties\": {\n        \"dtype\": \"category\",\n        \"num_unique_values\": 2,\n        \"samples\": [\n          \"Diseased\",\n          \"Healthy\"\n        ],\n        \"semantic_type\": \"\",\n        \"description\": \"\"\n      }\n    }\n  ]\n}",
       "type": "dataframe",
       "variable_name": "sample_submission"
      },
      "text/html": [
       "\n",
       "  <div id=\"df-e564b233-ad29-4732-b872-b4b7fd160bb0\" class=\"colab-df-container\">\n",
       "    <div>\n",
       "<style scoped>\n",
       "    .dataframe tbody tr th:only-of-type {\n",
       "        vertical-align: middle;\n",
       "    }\n",
       "\n",
       "    .dataframe tbody tr th {\n",
       "        vertical-align: top;\n",
       "    }\n",
       "\n",
       "    .dataframe thead th {\n",
       "        text-align: right;\n",
       "    }\n",
       "</style>\n",
       "<table border=\"1\" class=\"dataframe\">\n",
       "  <thead>\n",
       "    <tr style=\"text-align: right;\">\n",
       "      <th></th>\n",
       "      <th>ID</th>\n",
       "      <th>Target</th>\n",
       "    </tr>\n",
       "  </thead>\n",
       "  <tbody>\n",
       "    <tr>\n",
       "      <th>0</th>\n",
       "      <td>85197</td>\n",
       "      <td>Healthy</td>\n",
       "    </tr>\n",
       "    <tr>\n",
       "      <th>1</th>\n",
       "      <td>779677</td>\n",
       "      <td>Healthy</td>\n",
       "    </tr>\n",
       "    <tr>\n",
       "      <th>2</th>\n",
       "      <td>1331840</td>\n",
       "      <td>Healthy</td>\n",
       "    </tr>\n",
       "    <tr>\n",
       "      <th>3</th>\n",
       "      <td>483053</td>\n",
       "      <td>Healthy</td>\n",
       "    </tr>\n",
       "    <tr>\n",
       "      <th>4</th>\n",
       "      <td>542945</td>\n",
       "      <td>Healthy</td>\n",
       "    </tr>\n",
       "  </tbody>\n",
       "</table>\n",
       "</div>\n",
       "    <div class=\"colab-df-buttons\">\n",
       "\n",
       "  <div class=\"colab-df-container\">\n",
       "    <button class=\"colab-df-convert\" onclick=\"convertToInteractive('df-e564b233-ad29-4732-b872-b4b7fd160bb0')\"\n",
       "            title=\"Convert this dataframe to an interactive table.\"\n",
       "            style=\"display:none;\">\n",
       "\n",
       "  <svg xmlns=\"http://www.w3.org/2000/svg\" height=\"24px\" viewBox=\"0 -960 960 960\">\n",
       "    <path d=\"M120-120v-720h720v720H120Zm60-500h600v-160H180v160Zm220 220h160v-160H400v160Zm0 220h160v-160H400v160ZM180-400h160v-160H180v160Zm440 0h160v-160H620v160ZM180-180h160v-160H180v160Zm440 0h160v-160H620v160Z\"/>\n",
       "  </svg>\n",
       "    </button>\n",
       "\n",
       "  <style>\n",
       "    .colab-df-container {\n",
       "      display:flex;\n",
       "      gap: 12px;\n",
       "    }\n",
       "\n",
       "    .colab-df-convert {\n",
       "      background-color: #E8F0FE;\n",
       "      border: none;\n",
       "      border-radius: 50%;\n",
       "      cursor: pointer;\n",
       "      display: none;\n",
       "      fill: #1967D2;\n",
       "      height: 32px;\n",
       "      padding: 0 0 0 0;\n",
       "      width: 32px;\n",
       "    }\n",
       "\n",
       "    .colab-df-convert:hover {\n",
       "      background-color: #E2EBFA;\n",
       "      box-shadow: 0px 1px 2px rgba(60, 64, 67, 0.3), 0px 1px 3px 1px rgba(60, 64, 67, 0.15);\n",
       "      fill: #174EA6;\n",
       "    }\n",
       "\n",
       "    .colab-df-buttons div {\n",
       "      margin-bottom: 4px;\n",
       "    }\n",
       "\n",
       "    [theme=dark] .colab-df-convert {\n",
       "      background-color: #3B4455;\n",
       "      fill: #D2E3FC;\n",
       "    }\n",
       "\n",
       "    [theme=dark] .colab-df-convert:hover {\n",
       "      background-color: #434B5C;\n",
       "      box-shadow: 0px 1px 3px 1px rgba(0, 0, 0, 0.15);\n",
       "      filter: drop-shadow(0px 1px 2px rgba(0, 0, 0, 0.3));\n",
       "      fill: #FFFFFF;\n",
       "    }\n",
       "  </style>\n",
       "\n",
       "    <script>\n",
       "      const buttonEl =\n",
       "        document.querySelector('#df-e564b233-ad29-4732-b872-b4b7fd160bb0 button.colab-df-convert');\n",
       "      buttonEl.style.display =\n",
       "        google.colab.kernel.accessAllowed ? 'block' : 'none';\n",
       "\n",
       "      async function convertToInteractive(key) {\n",
       "        const element = document.querySelector('#df-e564b233-ad29-4732-b872-b4b7fd160bb0');\n",
       "        const dataTable =\n",
       "          await google.colab.kernel.invokeFunction('convertToInteractive',\n",
       "                                                    [key], {});\n",
       "        if (!dataTable) return;\n",
       "\n",
       "        const docLinkHtml = 'Like what you see? Visit the ' +\n",
       "          '<a target=\"_blank\" href=https://colab.research.google.com/notebooks/data_table.ipynb>data table notebook</a>'\n",
       "          + ' to learn more about interactive tables.';\n",
       "        element.innerHTML = '';\n",
       "        dataTable['output_type'] = 'display_data';\n",
       "        await google.colab.output.renderOutput(dataTable, element);\n",
       "        const docLink = document.createElement('div');\n",
       "        docLink.innerHTML = docLinkHtml;\n",
       "        element.appendChild(docLink);\n",
       "      }\n",
       "    </script>\n",
       "  </div>\n",
       "\n",
       "\n",
       "<div id=\"df-c8d5e1c8-18b0-46be-a46b-997efb4de0bc\">\n",
       "  <button class=\"colab-df-quickchart\" onclick=\"quickchart('df-c8d5e1c8-18b0-46be-a46b-997efb4de0bc')\"\n",
       "            title=\"Suggest charts\"\n",
       "            style=\"display:none;\">\n",
       "\n",
       "<svg xmlns=\"http://www.w3.org/2000/svg\" height=\"24px\"viewBox=\"0 0 24 24\"\n",
       "     width=\"24px\">\n",
       "    <g>\n",
       "        <path d=\"M19 3H5c-1.1 0-2 .9-2 2v14c0 1.1.9 2 2 2h14c1.1 0 2-.9 2-2V5c0-1.1-.9-2-2-2zM9 17H7v-7h2v7zm4 0h-2V7h2v10zm4 0h-2v-4h2v4z\"/>\n",
       "    </g>\n",
       "</svg>\n",
       "  </button>\n",
       "\n",
       "<style>\n",
       "  .colab-df-quickchart {\n",
       "      --bg-color: #E8F0FE;\n",
       "      --fill-color: #1967D2;\n",
       "      --hover-bg-color: #E2EBFA;\n",
       "      --hover-fill-color: #174EA6;\n",
       "      --disabled-fill-color: #AAA;\n",
       "      --disabled-bg-color: #DDD;\n",
       "  }\n",
       "\n",
       "  [theme=dark] .colab-df-quickchart {\n",
       "      --bg-color: #3B4455;\n",
       "      --fill-color: #D2E3FC;\n",
       "      --hover-bg-color: #434B5C;\n",
       "      --hover-fill-color: #FFFFFF;\n",
       "      --disabled-bg-color: #3B4455;\n",
       "      --disabled-fill-color: #666;\n",
       "  }\n",
       "\n",
       "  .colab-df-quickchart {\n",
       "    background-color: var(--bg-color);\n",
       "    border: none;\n",
       "    border-radius: 50%;\n",
       "    cursor: pointer;\n",
       "    display: none;\n",
       "    fill: var(--fill-color);\n",
       "    height: 32px;\n",
       "    padding: 0;\n",
       "    width: 32px;\n",
       "  }\n",
       "\n",
       "  .colab-df-quickchart:hover {\n",
       "    background-color: var(--hover-bg-color);\n",
       "    box-shadow: 0 1px 2px rgba(60, 64, 67, 0.3), 0 1px 3px 1px rgba(60, 64, 67, 0.15);\n",
       "    fill: var(--button-hover-fill-color);\n",
       "  }\n",
       "\n",
       "  .colab-df-quickchart-complete:disabled,\n",
       "  .colab-df-quickchart-complete:disabled:hover {\n",
       "    background-color: var(--disabled-bg-color);\n",
       "    fill: var(--disabled-fill-color);\n",
       "    box-shadow: none;\n",
       "  }\n",
       "\n",
       "  .colab-df-spinner {\n",
       "    border: 2px solid var(--fill-color);\n",
       "    border-color: transparent;\n",
       "    border-bottom-color: var(--fill-color);\n",
       "    animation:\n",
       "      spin 1s steps(1) infinite;\n",
       "  }\n",
       "\n",
       "  @keyframes spin {\n",
       "    0% {\n",
       "      border-color: transparent;\n",
       "      border-bottom-color: var(--fill-color);\n",
       "      border-left-color: var(--fill-color);\n",
       "    }\n",
       "    20% {\n",
       "      border-color: transparent;\n",
       "      border-left-color: var(--fill-color);\n",
       "      border-top-color: var(--fill-color);\n",
       "    }\n",
       "    30% {\n",
       "      border-color: transparent;\n",
       "      border-left-color: var(--fill-color);\n",
       "      border-top-color: var(--fill-color);\n",
       "      border-right-color: var(--fill-color);\n",
       "    }\n",
       "    40% {\n",
       "      border-color: transparent;\n",
       "      border-right-color: var(--fill-color);\n",
       "      border-top-color: var(--fill-color);\n",
       "    }\n",
       "    60% {\n",
       "      border-color: transparent;\n",
       "      border-right-color: var(--fill-color);\n",
       "    }\n",
       "    80% {\n",
       "      border-color: transparent;\n",
       "      border-right-color: var(--fill-color);\n",
       "      border-bottom-color: var(--fill-color);\n",
       "    }\n",
       "    90% {\n",
       "      border-color: transparent;\n",
       "      border-bottom-color: var(--fill-color);\n",
       "    }\n",
       "  }\n",
       "</style>\n",
       "\n",
       "  <script>\n",
       "    async function quickchart(key) {\n",
       "      const quickchartButtonEl =\n",
       "        document.querySelector('#' + key + ' button');\n",
       "      quickchartButtonEl.disabled = true;  // To prevent multiple clicks.\n",
       "      quickchartButtonEl.classList.add('colab-df-spinner');\n",
       "      try {\n",
       "        const charts = await google.colab.kernel.invokeFunction(\n",
       "            'suggestCharts', [key], {});\n",
       "      } catch (error) {\n",
       "        console.error('Error during call to suggestCharts:', error);\n",
       "      }\n",
       "      quickchartButtonEl.classList.remove('colab-df-spinner');\n",
       "      quickchartButtonEl.classList.add('colab-df-quickchart-complete');\n",
       "    }\n",
       "    (() => {\n",
       "      let quickchartButtonEl =\n",
       "        document.querySelector('#df-c8d5e1c8-18b0-46be-a46b-997efb4de0bc button');\n",
       "      quickchartButtonEl.style.display =\n",
       "        google.colab.kernel.accessAllowed ? 'block' : 'none';\n",
       "    })();\n",
       "  </script>\n",
       "</div>\n",
       "\n",
       "    </div>\n",
       "  </div>\n"
      ],
      "text/plain": [
       "        ID   Target\n",
       "0    85197  Healthy\n",
       "1   779677  Healthy\n",
       "2  1331840  Healthy\n",
       "3   483053  Healthy\n",
       "4   542945  Healthy"
      ]
     },
     "execution_count": 40,
     "metadata": {},
     "output_type": "execute_result"
    }
   ],
   "source": [
    "sample_submission.head()"
   ]
  }
 ],
 "metadata": {
  "colab": {
   "provenance": []
  },
  "kernelspec": {
   "display_name": "telangana",
   "language": "python",
   "name": "python3"
  },
  "language_info": {
   "codemirror_mode": {
    "name": "ipython",
    "version": 3
   },
   "file_extension": ".py",
   "mimetype": "text/x-python",
   "name": "python",
   "nbconvert_exporter": "python",
   "pygments_lexer": "ipython3",
   "version": "3.10.16"
  }
 },
 "nbformat": 4,
 "nbformat_minor": 0
}
